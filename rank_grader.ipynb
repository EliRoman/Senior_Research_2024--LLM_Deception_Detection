{
 "cells": [
  {
   "cell_type": "code",
   "execution_count": 8,
   "id": "ee810e72-d875-4a7a-9f20-9d47f636d614",
   "metadata": {},
   "outputs": [
    {
     "data": {
      "text/plain": [
       "'---'"
      ]
     },
     "execution_count": 8,
     "metadata": {},
     "output_type": "execute_result"
    }
   ],
   "source": [
    "##imports\n",
    "import re # regular expressions library\n",
    "import os # for dealing with files\n",
    "import pandas as pd # for data\n",
    "import matplotlib.pyplot as plt #Charts!\n",
    "import plotly.graph_objects as go #Graph objects!\n",
    "import plotly.express as px\n",
    "from pprint import pprint # Helps debug dictionaries by displaying them nicely\n",
    "\n",
    "transcripts_folder = 'transcripts_new'\n",
    "'---'"
   ]
  },
  {
   "cell_type": "code",
   "execution_count": 9,
   "id": "1ed165b3-1a2d-465e-9021-e1bd7c20e4af",
   "metadata": {},
   "outputs": [],
   "source": [
    "# given players string return players dictionary\n",
    "def parse_players(players_string):\n",
    "    \n",
    "    # Remove the \"{\" and \"}\" from the ends of the string\n",
    "    players_string = players_string.replace(\"{\", \"\").replace(\"}\", \"\")\n",
    "    \n",
    "    # Split the string into list of individual player entries,\n",
    "    player_entries = players_string.split(\", \")\n",
    "    #pprint(player_entries)\n",
    "    ## make a dictionary of players ##\n",
    "    players={}\n",
    "    for player in player_entries:\n",
    "        # Split at colon to get key-value pairs\n",
    "        key, value = player.split(\": \")\n",
    "        players[key.strip(\"\\'\")] = value.strip(\"\\'\") # Assign key value, quotes stripped\n",
    "            \n",
    "    return players"
   ]
  },
  {
   "cell_type": "code",
   "execution_count": 10,
   "id": "041d8059-a358-480e-9332-05a8d5fb01f6",
   "metadata": {},
   "outputs": [
    {
     "name": "stdout",
     "output_type": "stream",
     "text": [
      "{'Christina Rollins': 'town',\n",
      " 'Christopher Smith': 'town',\n",
      " 'Diana Pennington': 'town',\n",
      " 'Mary Trujillo': 'town',\n",
      " 'Natalie Morris': 'mafia',\n",
      " 'Ryan Hodges': 'mafia',\n",
      " 'Troy Thomas': 'town'}\n",
      "Troy Thomas is town.\n"
     ]
    }
   ],
   "source": [
    "\n",
    "#test: make players dictionary from string\n",
    "test_parser=parse_players(\"{'Ryan Hodges': 'mafia', 'Mary Trujillo': 'town', 'Christopher Smith': \"\n",
    " \"'town', 'Diana Pennington': 'town', 'Christina Rollins': 'town', 'Troy \"\n",
    " \"Thomas': 'town', 'Natalie Morris': 'mafia'}\")\n",
    "pprint(test_parser) # desplay dictionary\n",
    "print(f\"Troy Thomas is {test_parser['Troy Thomas']}.\") # use dictionary to display player role"
   ]
  },
  {
   "cell_type": "code",
   "execution_count": 11,
   "id": "4c9d3f20-5f72-4b34-b50f-a8079e4fe46e",
   "metadata": {},
   "outputs": [
    {
     "name": "stdout",
     "output_type": "stream",
     "text": [
      "{'Brittany Taylor': 'town',\n",
      " 'Christopher Turner': 'town',\n",
      " 'Julian Barrett': 'mafia',\n",
      " 'Mr. Michael Nelson Jr.': 'mafia',\n",
      " 'Nathan Lynch': 'town',\n",
      " 'Nicole Lang': 'town',\n",
      " 'Veronica Snyder': 'town'}\n",
      "Mr. Michael Nelson Jr. is mafia.\n"
     ]
    }
   ],
   "source": [
    "\n",
    "#test: make players dictionary from string\n",
    "test_parser=parse_players(\"{'Mr. Michael Nelson Jr.': 'mafia', 'Brittany Taylor': 'town', 'Nicole Lang': 'town', 'Julian Barrett': 'mafia', 'Christopher Turner': 'town', 'Nathan Lynch': 'town', 'Veronica Snyder': 'town'}\")\n",
    "pprint(test_parser) # desplay dictionary\n",
    "print(f\"Mr. Michael Nelson Jr. is {test_parser['Mr. Michael Nelson Jr.']}.\") # use dictionary to display player role"
   ]
  },
  {
   "cell_type": "code",
   "execution_count": 12,
   "id": "d38656b7-9f4a-4890-93bd-a18d10f6c79c",
   "metadata": {},
   "outputs": [],
   "source": [
    "# given names and ranked list returns avg percentile of given names\n",
    "def average_percentile_rank(mafia_list, players):\n",
    "    #print(f\"searching for {mafia_list} in {players}\")\n",
    "    # Find the rank of each mafia (their index in the players list)\n",
    "    mafia_ranks = [float(players.index(mafioso)) for mafioso in mafia_list]\n",
    "    # Calculate the percentile of each rank\n",
    "    total_players = float(len(players))\n",
    "    mafia_percentiles = [(rank / total_players) * 100 for rank in mafia_ranks]\n",
    "    \n",
    "    # Calculate the average of the mafia_percentiles\n",
    "    average_mafia_percentile = sum(mafia_percentiles) / len(mafia_percentiles)\n",
    "    \n",
    "    # Return the average percentile rank of the mafia members\n",
    "    return average_mafia_percentile"
   ]
  },
  {
   "cell_type": "code",
   "execution_count": 13,
   "id": "ebafef48-fee6-4308-9b29-eaacd1951f36",
   "metadata": {},
   "outputs": [
    {
     "name": "stdout",
     "output_type": "stream",
     "text": [
      "7.142857142857142\n",
      "78.57142857142857\n",
      "10.0\n"
     ]
    }
   ],
   "source": [
    "lll=list(['Christina Rollins','Christopher Smith','Diana Pennington','Mary Trujillo','Natalie Morris','Ryan Hodges','Troy Thomas'])\n",
    "mmm=list(['Christina Rollins','Christopher Smith'])\n",
    "nnn=list(['Ryan Hodges','Troy Thomas'])\n",
    "print(average_percentile_rank(mmm,lll))\n",
    "print(average_percentile_rank(nnn,lll))\n",
    "print(average_percentile_rank(mmm,lll[0:-2]))"
   ]
  },
  {
   "cell_type": "code",
   "execution_count": 14,
   "id": "382b113d",
   "metadata": {},
   "outputs": [
    {
     "name": "stdout",
     "output_type": "stream",
     "text": [
      "['Brittany Taylor', 'Nathan Lynch', 'Nicole Lang', 'Julian Barrett', 'Christopher Turner', 'Veronica Snyder']\n"
     ]
    }
   ],
   "source": [
    "block='''\n",
    " 1. Brittany Taylor\n",
    " 2. Nathan Lynch\n",
    " 3. Nicole Lang\n",
    " 4. Julian Barrett\n",
    " 5. Christopher Turner\n",
    " 6. Veronica Snyder\n",
    " Actualy likely to be Mafia: Nathan Lynch\n",
    "'''\n",
    "players= ['Brittany Taylor','Nicole Lang','Julian Barrett','Christopher Turner','Nathan Lynch','Veronica Snyder']\n",
    "\n",
    "# Extract the rank information from the block\n",
    "ranks = sorted(players, key=lambda player: block.index(player))\n",
    "\n",
    "print(ranks)"
   ]
  },
  {
   "cell_type": "code",
   "execution_count": 4,
   "id": "4aafdb97",
   "metadata": {},
   "outputs": [
    {
     "name": "stdout",
     "output_type": "stream",
     "text": [
      "['alice', 'bob', 'charlie', 'dave']\n"
     ]
    }
   ],
   "source": [
    "# Sample inputs\n",
    "block = \"alice bob charlie dave\"\n",
    "players = [\"charlie\", \"dave\", \"alice\", \"bob\"]\n",
    "\n",
    "# Create a ranking list based on the order of players in the block string\n",
    "ranks = sorted(players, key=lambda player: block.index(player))\n",
    "\n",
    "# Print the result\n",
    "print(ranks)\n"
   ]
  },
  {
   "cell_type": "code",
   "execution_count": null,
   "id": "55fd4983",
   "metadata": {},
   "outputs": [],
   "source": []
  },
  {
   "cell_type": "code",
   "execution_count": 15,
   "id": "56b11f8b-e694-44be-9062-534723df8275",
   "metadata": {},
   "outputs": [
    {
     "name": "stderr",
     "output_type": "stream",
     "text": [
      "<>:29: SyntaxWarning: invalid escape sequence '\\s'\n",
      "<>:29: SyntaxWarning: invalid escape sequence '\\s'\n",
      "C:\\Users\\publicuser\\AppData\\Local\\Temp\\ipykernel_17668\\3021273140.py:29: SyntaxWarning: invalid escape sequence '\\s'\n",
      "  file_name = re.search(\"File:\\s*(\\S+)\", lines[0]).group(1).strip(\".txt\")\n"
     ]
    },
    {
     "data": {
      "text/plain": [
       "'---'"
      ]
     },
     "execution_count": 15,
     "metadata": {},
     "output_type": "execute_result"
    }
   ],
   "source": [
    "# given file location, return dictionary with file info\n",
    "def read_ranks_file(file_path):\n",
    "    ranks_location = os.path.join(file_path, 'ranks.txt')\n",
    "    # Check if the 'ranks.txt' file exists in the specified location\n",
    "    if os.path.isfile(ranks_location):\n",
    "        with open(ranks_location, \"r\") as f:\n",
    "            # Read the contents of the file into a string\n",
    "            contents = f.read()\n",
    "    else:\n",
    "        print(f\"Error: 'ranks.txt' file not found in {file_path}\")\n",
    "        return None\n",
    "    \n",
    "    # Split the string into individual blocks using tripple new lines as delimiters\n",
    "    blocks = re.split(\"\\n\\n\\n\", contents)\n",
    "    #pprint(blocks[0])\n",
    "    \n",
    "    # Initialize an empty dictionary to store the dictionaries for each block\n",
    "    sessions = {}\n",
    "    \n",
    "    dud_data=[] #list of bad sessions\n",
    "    # Iterate over each block and extract the relevant information\n",
    "    for block in blocks[:-1]:\n",
    "        # Split the block into individual lines using new line characters as delimiters\n",
    "        lines = block.split(\"\\n\")\n",
    "        #print(\"Block: \",end='')\n",
    "        #pprint(block)\n",
    "        try:\n",
    "            # Extract the file name from the first line\n",
    "            file_name = re.search(\"File:\\s*(\\S+)\", lines[0]).group(1).strip(\".txt\")\n",
    "            #print(f\"parsing file:{file_name}...\",end=\"\")\n",
    "            #pprint(f\"contents: \\n{lines}\")\n",
    "            \n",
    "            # Extract the session number from the second line\n",
    "            session = int(re.search(r'\\d+', lines[1]).group(0))\n",
    "            #session = re.search(\"Session:\\s*(\\S+)\", lines[1]).group(1)\n",
    "            #print(session,end=', ')\n",
    "            \n",
    "            # Create a dictionary to store the information for this block\n",
    "            dictionary = {\"file_name\": file_name, \"session\": session}\n",
    "\n",
    "            # record true if aliases where used for names at prompt time\n",
    "            dictionary[\"names_changed\"] = \"anonymized\" in file_name\n",
    "            \n",
    "            # Extract the list of players from the last line\n",
    "            players_line = lines[-1].strip()\n",
    "            players = parse_players(players_line) #re.search(\"\\[(.*?)\\]\", players_line).group(1)\n",
    "            #dictionary[\"Players\"] = players #{player: role for player, role in zip(players, [\"town\" if i % 2 == 0 else \"mafia\" for i in range(len(players))])}\n",
    "            \n",
    "            #mafia list\n",
    "            mafia_list = [name for name, role in players.items() if role == 'mafia']\n",
    "            dictionary[\"mafia\"] = mafia_list\n",
    "            \n",
    "            # Extract the rank information from the block\n",
    "            ranks = sorted(players, key=lambda player: block.index(player))\n",
    "\n",
    "            # save ranks to dictionary.\n",
    "            dictionary[\"ranks\"] = ranks\n",
    "            #print(\"Ranks: \",end='')\n",
    "            #print(ranks)\n",
    "            \n",
    "            dictionary['avg_mafia_rank']= average_percentile_rank(mafia_list,ranks)\n",
    "            \n",
    "            # Add this dictionary to the dictionary of sessions\n",
    "            sessions[file_name]=dictionary\n",
    "            #print(f\"parsed:{file_name}\",end=\". \")\n",
    "            session = False\n",
    "        except Exception as e:\n",
    "            print(f\"Could not parse this block: {str(e)}\")\n",
    "            pprint(block)\n",
    "            if session:\n",
    "                dud_data.append(session)# add to list of bad sessions\n",
    "            \n",
    "    # remove bad session from data\n",
    "    sessions = {key: val for key, val in sessions.items() if val[\"session\"] not in dud_data}\n",
    "    for dud in dud_data:\n",
    "        print(f\"Excluding session {dud}. Both blocks could not be parsed.\")\n",
    "    \n",
    "    '''\n",
    "    for key, value in sessions.items():\n",
    "        if isinstance(value, dict):  # Check if the value is a dictionary\n",
    "            if value[\"session\"] in dud_data:  # Check if the nested dictionary's value is equal to 'dud'\n",
    "                dud = value[\"session\"]\n",
    "                del sessions[key]  # Remove the entry from sessions\n",
    "                print(f\"Removed session {dud}. It's duplicate was excluded.\")\n",
    "    '''\n",
    "    \n",
    "    return {k: v for k, v in sorted(sessions.items(), key=lambda item: item[1]['session'])} # return session sorted by session num\n",
    "\"---\""
   ]
  },
  {
   "cell_type": "markdown",
   "id": "c65772ab-0355-4fae-8de4-4f6b4bee10a0",
   "metadata": {},
   "source": [
    "## Results "
   ]
  },
  {
   "cell_type": "code",
   "execution_count": 23,
   "id": "f8fa1f00-7745-464e-aa6f-f2f9d3b84c43",
   "metadata": {},
   "outputs": [],
   "source": [
    "parsed_content = read_ranks_file(transcripts_folder)\n",
    "#pprint(parsed_content)"
   ]
  },
  {
   "cell_type": "markdown",
   "id": "aeda39b7",
   "metadata": {},
   "source": [
    "### pandas dataframe"
   ]
  },
  {
   "cell_type": "code",
   "execution_count": 24,
   "id": "ed7205c0-a0ce-4387-9117-32b0c1b0d353",
   "metadata": {},
   "outputs": [
    {
     "data": {
      "text/html": [
       "<div>\n",
       "<style scoped>\n",
       "    .dataframe tbody tr th:only-of-type {\n",
       "        vertical-align: middle;\n",
       "    }\n",
       "\n",
       "    .dataframe tbody tr th {\n",
       "        vertical-align: top;\n",
       "    }\n",
       "\n",
       "    .dataframe thead th {\n",
       "        text-align: right;\n",
       "    }\n",
       "</style>\n",
       "<table border=\"1\" class=\"dataframe\">\n",
       "  <thead>\n",
       "    <tr style=\"text-align: right;\">\n",
       "      <th></th>\n",
       "      <th>file_name</th>\n",
       "      <th>session</th>\n",
       "      <th>names_changed</th>\n",
       "      <th>mafia</th>\n",
       "      <th>ranks</th>\n",
       "      <th>avg_mafia_rank</th>\n",
       "    </tr>\n",
       "  </thead>\n",
       "  <tbody>\n",
       "    <tr>\n",
       "      <th>session_1</th>\n",
       "      <td>session_1</td>\n",
       "      <td>1</td>\n",
       "      <td>False</td>\n",
       "      <td>[Ryan Hodges, Natalie Morris]</td>\n",
       "      <td>[Mary Trujillo, Troy Thomas, Natalie Morris, R...</td>\n",
       "      <td>35.714286</td>\n",
       "    </tr>\n",
       "    <tr>\n",
       "      <th>session_1_anonymized</th>\n",
       "      <td>session_1_anonymized</td>\n",
       "      <td>1</td>\n",
       "      <td>True</td>\n",
       "      <td>[Player_M, Player_W]</td>\n",
       "      <td>[Player_P, Player_F, Player_D, Player_J, Playe...</td>\n",
       "      <td>71.428571</td>\n",
       "    </tr>\n",
       "    <tr>\n",
       "      <th>session_2</th>\n",
       "      <td>session_2</td>\n",
       "      <td>2</td>\n",
       "      <td>False</td>\n",
       "      <td>[Shawn Bailey, Tricia Miller]</td>\n",
       "      <td>[Diane Mooney, Alicia Randall, Jordan May, Sha...</td>\n",
       "      <td>50.000000</td>\n",
       "    </tr>\n",
       "    <tr>\n",
       "      <th>session_2_anonymized</th>\n",
       "      <td>session_2_anonymized</td>\n",
       "      <td>2</td>\n",
       "      <td>True</td>\n",
       "      <td>[Player_T, Player_E]</td>\n",
       "      <td>[Player_J, Player_T, Player_I, Player_O, Playe...</td>\n",
       "      <td>25.000000</td>\n",
       "    </tr>\n",
       "    <tr>\n",
       "      <th>session_3</th>\n",
       "      <td>session_3</td>\n",
       "      <td>3</td>\n",
       "      <td>False</td>\n",
       "      <td>[Jeremy Davis, Harold Peterson]</td>\n",
       "      <td>[Roy Moore, Scott Glenn, Kimberly Ibarra, Jere...</td>\n",
       "      <td>38.888889</td>\n",
       "    </tr>\n",
       "    <tr>\n",
       "      <th>...</th>\n",
       "      <td>...</td>\n",
       "      <td>...</td>\n",
       "      <td>...</td>\n",
       "      <td>...</td>\n",
       "      <td>...</td>\n",
       "      <td>...</td>\n",
       "    </tr>\n",
       "    <tr>\n",
       "      <th>session_42_anonymized</th>\n",
       "      <td>session_42_anonymized</td>\n",
       "      <td>42</td>\n",
       "      <td>True</td>\n",
       "      <td>[Player_D, Player_T]</td>\n",
       "      <td>[Player_B, Player_L, Player_E, Player_A, Playe...</td>\n",
       "      <td>75.000000</td>\n",
       "    </tr>\n",
       "    <tr>\n",
       "      <th>session_43</th>\n",
       "      <td>session_43</td>\n",
       "      <td>43</td>\n",
       "      <td>False</td>\n",
       "      <td>[Zachary Hurley, Laura Pena]</td>\n",
       "      <td>[Valerie White, Danielle Silva, Carol Stone, D...</td>\n",
       "      <td>75.000000</td>\n",
       "    </tr>\n",
       "    <tr>\n",
       "      <th>session_43_anonymized</th>\n",
       "      <td>session_43_anonymized</td>\n",
       "      <td>43</td>\n",
       "      <td>True</td>\n",
       "      <td>[Player_H, Player_K]</td>\n",
       "      <td>[Player_B, Player_K, Player_E, Player_U, Playe...</td>\n",
       "      <td>43.750000</td>\n",
       "    </tr>\n",
       "    <tr>\n",
       "      <th>session_44</th>\n",
       "      <td>session_44</td>\n",
       "      <td>44</td>\n",
       "      <td>False</td>\n",
       "      <td>[Richard Stevens, Jessica Michael]</td>\n",
       "      <td>[Deborah Alvarez, Nicole Barker, Angela Murphy...</td>\n",
       "      <td>68.750000</td>\n",
       "    </tr>\n",
       "    <tr>\n",
       "      <th>session_44_anonymized</th>\n",
       "      <td>session_44_anonymized</td>\n",
       "      <td>44</td>\n",
       "      <td>True</td>\n",
       "      <td>[Player_I, Player_Y]</td>\n",
       "      <td>[Player_B, Player_C, Player_Z, Player_A, Playe...</td>\n",
       "      <td>75.000000</td>\n",
       "    </tr>\n",
       "  </tbody>\n",
       "</table>\n",
       "<p>88 rows × 6 columns</p>\n",
       "</div>"
      ],
      "text/plain": [
       "                                   file_name  session  names_changed  \\\n",
       "session_1                          session_1        1          False   \n",
       "session_1_anonymized    session_1_anonymized        1           True   \n",
       "session_2                          session_2        2          False   \n",
       "session_2_anonymized    session_2_anonymized        2           True   \n",
       "session_3                          session_3        3          False   \n",
       "...                                      ...      ...            ...   \n",
       "session_42_anonymized  session_42_anonymized       42           True   \n",
       "session_43                        session_43       43          False   \n",
       "session_43_anonymized  session_43_anonymized       43           True   \n",
       "session_44                        session_44       44          False   \n",
       "session_44_anonymized  session_44_anonymized       44           True   \n",
       "\n",
       "                                                    mafia  \\\n",
       "session_1                   [Ryan Hodges, Natalie Morris]   \n",
       "session_1_anonymized                 [Player_M, Player_W]   \n",
       "session_2                   [Shawn Bailey, Tricia Miller]   \n",
       "session_2_anonymized                 [Player_T, Player_E]   \n",
       "session_3                 [Jeremy Davis, Harold Peterson]   \n",
       "...                                                   ...   \n",
       "session_42_anonymized                [Player_D, Player_T]   \n",
       "session_43                   [Zachary Hurley, Laura Pena]   \n",
       "session_43_anonymized                [Player_H, Player_K]   \n",
       "session_44             [Richard Stevens, Jessica Michael]   \n",
       "session_44_anonymized                [Player_I, Player_Y]   \n",
       "\n",
       "                                                                   ranks  \\\n",
       "session_1              [Mary Trujillo, Troy Thomas, Natalie Morris, R...   \n",
       "session_1_anonymized   [Player_P, Player_F, Player_D, Player_J, Playe...   \n",
       "session_2              [Diane Mooney, Alicia Randall, Jordan May, Sha...   \n",
       "session_2_anonymized   [Player_J, Player_T, Player_I, Player_O, Playe...   \n",
       "session_3              [Roy Moore, Scott Glenn, Kimberly Ibarra, Jere...   \n",
       "...                                                                  ...   \n",
       "session_42_anonymized  [Player_B, Player_L, Player_E, Player_A, Playe...   \n",
       "session_43             [Valerie White, Danielle Silva, Carol Stone, D...   \n",
       "session_43_anonymized  [Player_B, Player_K, Player_E, Player_U, Playe...   \n",
       "session_44             [Deborah Alvarez, Nicole Barker, Angela Murphy...   \n",
       "session_44_anonymized  [Player_B, Player_C, Player_Z, Player_A, Playe...   \n",
       "\n",
       "                       avg_mafia_rank  \n",
       "session_1                   35.714286  \n",
       "session_1_anonymized        71.428571  \n",
       "session_2                   50.000000  \n",
       "session_2_anonymized        25.000000  \n",
       "session_3                   38.888889  \n",
       "...                               ...  \n",
       "session_42_anonymized       75.000000  \n",
       "session_43                  75.000000  \n",
       "session_43_anonymized       43.750000  \n",
       "session_44                  68.750000  \n",
       "session_44_anonymized       75.000000  \n",
       "\n",
       "[88 rows x 6 columns]"
      ]
     },
     "execution_count": 24,
     "metadata": {},
     "output_type": "execute_result"
    }
   ],
   "source": [
    "ranks_df = pd.DataFrame.from_dict(parsed_content, orient='index')\n",
    "ranks_df"
   ]
  },
  {
   "cell_type": "code",
   "execution_count": 25,
   "id": "bc9556eb-7327-4a0d-8f8f-29323b1d74af",
   "metadata": {},
   "outputs": [
    {
     "data": {
      "text/html": [
       "<div>\n",
       "<style scoped>\n",
       "    .dataframe tbody tr th:only-of-type {\n",
       "        vertical-align: middle;\n",
       "    }\n",
       "\n",
       "    .dataframe tbody tr th {\n",
       "        vertical-align: top;\n",
       "    }\n",
       "\n",
       "    .dataframe thead th {\n",
       "        text-align: right;\n",
       "    }\n",
       "</style>\n",
       "<table border=\"1\" class=\"dataframe\">\n",
       "  <thead>\n",
       "    <tr style=\"text-align: right;\">\n",
       "      <th></th>\n",
       "      <th></th>\n",
       "      <th>names_changed</th>\n",
       "      <th>mafia</th>\n",
       "      <th>ranks</th>\n",
       "      <th>avg_mafia_rank</th>\n",
       "    </tr>\n",
       "    <tr>\n",
       "      <th>session</th>\n",
       "      <th>file_name</th>\n",
       "      <th></th>\n",
       "      <th></th>\n",
       "      <th></th>\n",
       "      <th></th>\n",
       "    </tr>\n",
       "  </thead>\n",
       "  <tbody>\n",
       "    <tr>\n",
       "      <th rowspan=\"2\" valign=\"top\">1</th>\n",
       "      <th>session_1</th>\n",
       "      <td>False</td>\n",
       "      <td>[Ryan Hodges, Natalie Morris]</td>\n",
       "      <td>[Mary Trujillo, Troy Thomas, Natalie Morris, R...</td>\n",
       "      <td>35.714286</td>\n",
       "    </tr>\n",
       "    <tr>\n",
       "      <th>session_1_anonymized</th>\n",
       "      <td>True</td>\n",
       "      <td>[Player_M, Player_W]</td>\n",
       "      <td>[Player_P, Player_F, Player_D, Player_J, Playe...</td>\n",
       "      <td>71.428571</td>\n",
       "    </tr>\n",
       "    <tr>\n",
       "      <th rowspan=\"2\" valign=\"top\">2</th>\n",
       "      <th>session_2</th>\n",
       "      <td>False</td>\n",
       "      <td>[Shawn Bailey, Tricia Miller]</td>\n",
       "      <td>[Diane Mooney, Alicia Randall, Jordan May, Sha...</td>\n",
       "      <td>50.000000</td>\n",
       "    </tr>\n",
       "    <tr>\n",
       "      <th>session_2_anonymized</th>\n",
       "      <td>True</td>\n",
       "      <td>[Player_T, Player_E]</td>\n",
       "      <td>[Player_J, Player_T, Player_I, Player_O, Playe...</td>\n",
       "      <td>25.000000</td>\n",
       "    </tr>\n",
       "    <tr>\n",
       "      <th>3</th>\n",
       "      <th>session_3</th>\n",
       "      <td>False</td>\n",
       "      <td>[Jeremy Davis, Harold Peterson]</td>\n",
       "      <td>[Roy Moore, Scott Glenn, Kimberly Ibarra, Jere...</td>\n",
       "      <td>38.888889</td>\n",
       "    </tr>\n",
       "    <tr>\n",
       "      <th>...</th>\n",
       "      <th>...</th>\n",
       "      <td>...</td>\n",
       "      <td>...</td>\n",
       "      <td>...</td>\n",
       "      <td>...</td>\n",
       "    </tr>\n",
       "    <tr>\n",
       "      <th>42</th>\n",
       "      <th>session_42_anonymized</th>\n",
       "      <td>True</td>\n",
       "      <td>[Player_D, Player_T]</td>\n",
       "      <td>[Player_B, Player_L, Player_E, Player_A, Playe...</td>\n",
       "      <td>75.000000</td>\n",
       "    </tr>\n",
       "    <tr>\n",
       "      <th rowspan=\"2\" valign=\"top\">43</th>\n",
       "      <th>session_43</th>\n",
       "      <td>False</td>\n",
       "      <td>[Zachary Hurley, Laura Pena]</td>\n",
       "      <td>[Valerie White, Danielle Silva, Carol Stone, D...</td>\n",
       "      <td>75.000000</td>\n",
       "    </tr>\n",
       "    <tr>\n",
       "      <th>session_43_anonymized</th>\n",
       "      <td>True</td>\n",
       "      <td>[Player_H, Player_K]</td>\n",
       "      <td>[Player_B, Player_K, Player_E, Player_U, Playe...</td>\n",
       "      <td>43.750000</td>\n",
       "    </tr>\n",
       "    <tr>\n",
       "      <th rowspan=\"2\" valign=\"top\">44</th>\n",
       "      <th>session_44</th>\n",
       "      <td>False</td>\n",
       "      <td>[Richard Stevens, Jessica Michael]</td>\n",
       "      <td>[Deborah Alvarez, Nicole Barker, Angela Murphy...</td>\n",
       "      <td>68.750000</td>\n",
       "    </tr>\n",
       "    <tr>\n",
       "      <th>session_44_anonymized</th>\n",
       "      <td>True</td>\n",
       "      <td>[Player_I, Player_Y]</td>\n",
       "      <td>[Player_B, Player_C, Player_Z, Player_A, Playe...</td>\n",
       "      <td>75.000000</td>\n",
       "    </tr>\n",
       "  </tbody>\n",
       "</table>\n",
       "<p>88 rows × 4 columns</p>\n",
       "</div>"
      ],
      "text/plain": [
       "                               names_changed  \\\n",
       "session file_name                              \n",
       "1       session_1                      False   \n",
       "        session_1_anonymized            True   \n",
       "2       session_2                      False   \n",
       "        session_2_anonymized            True   \n",
       "3       session_3                      False   \n",
       "...                                      ...   \n",
       "42      session_42_anonymized           True   \n",
       "43      session_43                     False   \n",
       "        session_43_anonymized           True   \n",
       "44      session_44                     False   \n",
       "        session_44_anonymized           True   \n",
       "\n",
       "                                                            mafia  \\\n",
       "session file_name                                                   \n",
       "1       session_1                   [Ryan Hodges, Natalie Morris]   \n",
       "        session_1_anonymized                 [Player_M, Player_W]   \n",
       "2       session_2                   [Shawn Bailey, Tricia Miller]   \n",
       "        session_2_anonymized                 [Player_T, Player_E]   \n",
       "3       session_3                 [Jeremy Davis, Harold Peterson]   \n",
       "...                                                           ...   \n",
       "42      session_42_anonymized                [Player_D, Player_T]   \n",
       "43      session_43                   [Zachary Hurley, Laura Pena]   \n",
       "        session_43_anonymized                [Player_H, Player_K]   \n",
       "44      session_44             [Richard Stevens, Jessica Michael]   \n",
       "        session_44_anonymized                [Player_I, Player_Y]   \n",
       "\n",
       "                                                                           ranks  \\\n",
       "session file_name                                                                  \n",
       "1       session_1              [Mary Trujillo, Troy Thomas, Natalie Morris, R...   \n",
       "        session_1_anonymized   [Player_P, Player_F, Player_D, Player_J, Playe...   \n",
       "2       session_2              [Diane Mooney, Alicia Randall, Jordan May, Sha...   \n",
       "        session_2_anonymized   [Player_J, Player_T, Player_I, Player_O, Playe...   \n",
       "3       session_3              [Roy Moore, Scott Glenn, Kimberly Ibarra, Jere...   \n",
       "...                                                                          ...   \n",
       "42      session_42_anonymized  [Player_B, Player_L, Player_E, Player_A, Playe...   \n",
       "43      session_43             [Valerie White, Danielle Silva, Carol Stone, D...   \n",
       "        session_43_anonymized  [Player_B, Player_K, Player_E, Player_U, Playe...   \n",
       "44      session_44             [Deborah Alvarez, Nicole Barker, Angela Murphy...   \n",
       "        session_44_anonymized  [Player_B, Player_C, Player_Z, Player_A, Playe...   \n",
       "\n",
       "                               avg_mafia_rank  \n",
       "session file_name                              \n",
       "1       session_1                   35.714286  \n",
       "        session_1_anonymized        71.428571  \n",
       "2       session_2                   50.000000  \n",
       "        session_2_anonymized        25.000000  \n",
       "3       session_3                   38.888889  \n",
       "...                                       ...  \n",
       "42      session_42_anonymized       75.000000  \n",
       "43      session_43                  75.000000  \n",
       "        session_43_anonymized       43.750000  \n",
       "44      session_44                  68.750000  \n",
       "        session_44_anonymized       75.000000  \n",
       "\n",
       "[88 rows x 4 columns]"
      ]
     },
     "execution_count": 25,
     "metadata": {},
     "output_type": "execute_result"
    }
   ],
   "source": [
    "ranks_df.set_index(['session','file_name']).sort_values(by='session')"
   ]
  },
  {
   "cell_type": "markdown",
   "id": "4b92f4b1",
   "metadata": {},
   "source": [
    "#### Data Analysis\n",
    "Here is what matters."
   ]
  },
  {
   "cell_type": "code",
   "execution_count": 26,
   "id": "0f024e28",
   "metadata": {},
   "outputs": [],
   "source": [
    "# Times the rankings where accurate sorted by most accurate\n",
    "accurate_rankings = ranks_df[ranks_df['avg_mafia_rank'] < 40].sort_values(by='avg_mafia_rank')\n"
   ]
  },
  {
   "cell_type": "code",
   "execution_count": 27,
   "id": "eb0494fe",
   "metadata": {},
   "outputs": [
    {
     "name": "stdout",
     "output_type": "stream",
     "text": [
      "Percentage of times 'avg_mafia_rank' was higher than 40: 48.86%\n",
      "Not rounded: 48.86363636363637%\n"
     ]
    }
   ],
   "source": [
    "# Count the number of rows where 'avg_mafia_rank' is less than 40\n",
    "count_less_than_40 = len(ranks_df[ranks_df['avg_mafia_rank'] < 40])\n",
    "\n",
    "# Calculate the total number of rows in the DataFrame\n",
    "total_rows = len(ranks_df)\n",
    "\n",
    "# Calculate the percentage\n",
    "percentage = (count_less_than_40 / total_rows) * 100\n",
    "\n",
    "print(f\"Percentage of times 'avg_mafia_rank' was higher than 40: {percentage:.2f}%\")\n",
    "print(f\"Not rounded: {percentage}%\")"
   ]
  },
  {
   "cell_type": "markdown",
   "id": "987131e3",
   "metadata": {},
   "source": []
  },
  {
   "cell_type": "code",
   "execution_count": 28,
   "id": "4bec3969",
   "metadata": {},
   "outputs": [
    {
     "name": "stdout",
     "output_type": "stream",
     "text": [
      "Times aliases effected the avg_mafia_rank\n"
     ]
    },
    {
     "data": {
      "text/html": [
       "<div>\n",
       "<style scoped>\n",
       "    .dataframe tbody tr th:only-of-type {\n",
       "        vertical-align: middle;\n",
       "    }\n",
       "\n",
       "    .dataframe tbody tr th {\n",
       "        vertical-align: top;\n",
       "    }\n",
       "\n",
       "    .dataframe thead th {\n",
       "        text-align: right;\n",
       "    }\n",
       "</style>\n",
       "<table border=\"1\" class=\"dataframe\">\n",
       "  <thead>\n",
       "    <tr style=\"text-align: right;\">\n",
       "      <th></th>\n",
       "      <th>file_name</th>\n",
       "      <th>session</th>\n",
       "      <th>names_changed</th>\n",
       "      <th>mafia</th>\n",
       "      <th>ranks</th>\n",
       "      <th>avg_mafia_rank</th>\n",
       "    </tr>\n",
       "  </thead>\n",
       "  <tbody>\n",
       "    <tr>\n",
       "      <th>session_1</th>\n",
       "      <td>session_1</td>\n",
       "      <td>1</td>\n",
       "      <td>False</td>\n",
       "      <td>[Ryan Hodges, Natalie Morris]</td>\n",
       "      <td>[Mary Trujillo, Troy Thomas, Natalie Morris, R...</td>\n",
       "      <td>35.714286</td>\n",
       "    </tr>\n",
       "    <tr>\n",
       "      <th>session_1_anonymized</th>\n",
       "      <td>session_1_anonymized</td>\n",
       "      <td>1</td>\n",
       "      <td>True</td>\n",
       "      <td>[Player_M, Player_W]</td>\n",
       "      <td>[Player_P, Player_F, Player_D, Player_J, Playe...</td>\n",
       "      <td>71.428571</td>\n",
       "    </tr>\n",
       "    <tr>\n",
       "      <th>session_2</th>\n",
       "      <td>session_2</td>\n",
       "      <td>2</td>\n",
       "      <td>False</td>\n",
       "      <td>[Shawn Bailey, Tricia Miller]</td>\n",
       "      <td>[Diane Mooney, Alicia Randall, Jordan May, Sha...</td>\n",
       "      <td>50.000000</td>\n",
       "    </tr>\n",
       "    <tr>\n",
       "      <th>session_2_anonymized</th>\n",
       "      <td>session_2_anonymized</td>\n",
       "      <td>2</td>\n",
       "      <td>True</td>\n",
       "      <td>[Player_T, Player_E]</td>\n",
       "      <td>[Player_J, Player_T, Player_I, Player_O, Playe...</td>\n",
       "      <td>25.000000</td>\n",
       "    </tr>\n",
       "    <tr>\n",
       "      <th>session_3</th>\n",
       "      <td>session_3</td>\n",
       "      <td>3</td>\n",
       "      <td>False</td>\n",
       "      <td>[Jeremy Davis, Harold Peterson]</td>\n",
       "      <td>[Roy Moore, Scott Glenn, Kimberly Ibarra, Jere...</td>\n",
       "      <td>38.888889</td>\n",
       "    </tr>\n",
       "    <tr>\n",
       "      <th>...</th>\n",
       "      <td>...</td>\n",
       "      <td>...</td>\n",
       "      <td>...</td>\n",
       "      <td>...</td>\n",
       "      <td>...</td>\n",
       "      <td>...</td>\n",
       "    </tr>\n",
       "    <tr>\n",
       "      <th>session_42_anonymized</th>\n",
       "      <td>session_42_anonymized</td>\n",
       "      <td>42</td>\n",
       "      <td>True</td>\n",
       "      <td>[Player_D, Player_T]</td>\n",
       "      <td>[Player_B, Player_L, Player_E, Player_A, Playe...</td>\n",
       "      <td>75.000000</td>\n",
       "    </tr>\n",
       "    <tr>\n",
       "      <th>session_43</th>\n",
       "      <td>session_43</td>\n",
       "      <td>43</td>\n",
       "      <td>False</td>\n",
       "      <td>[Zachary Hurley, Laura Pena]</td>\n",
       "      <td>[Valerie White, Danielle Silva, Carol Stone, D...</td>\n",
       "      <td>75.000000</td>\n",
       "    </tr>\n",
       "    <tr>\n",
       "      <th>session_43_anonymized</th>\n",
       "      <td>session_43_anonymized</td>\n",
       "      <td>43</td>\n",
       "      <td>True</td>\n",
       "      <td>[Player_H, Player_K]</td>\n",
       "      <td>[Player_B, Player_K, Player_E, Player_U, Playe...</td>\n",
       "      <td>43.750000</td>\n",
       "    </tr>\n",
       "    <tr>\n",
       "      <th>session_44</th>\n",
       "      <td>session_44</td>\n",
       "      <td>44</td>\n",
       "      <td>False</td>\n",
       "      <td>[Richard Stevens, Jessica Michael]</td>\n",
       "      <td>[Deborah Alvarez, Nicole Barker, Angela Murphy...</td>\n",
       "      <td>68.750000</td>\n",
       "    </tr>\n",
       "    <tr>\n",
       "      <th>session_44_anonymized</th>\n",
       "      <td>session_44_anonymized</td>\n",
       "      <td>44</td>\n",
       "      <td>True</td>\n",
       "      <td>[Player_I, Player_Y]</td>\n",
       "      <td>[Player_B, Player_C, Player_Z, Player_A, Playe...</td>\n",
       "      <td>75.000000</td>\n",
       "    </tr>\n",
       "  </tbody>\n",
       "</table>\n",
       "<p>72 rows × 6 columns</p>\n",
       "</div>"
      ],
      "text/plain": [
       "                                   file_name  session  names_changed  \\\n",
       "session_1                          session_1        1          False   \n",
       "session_1_anonymized    session_1_anonymized        1           True   \n",
       "session_2                          session_2        2          False   \n",
       "session_2_anonymized    session_2_anonymized        2           True   \n",
       "session_3                          session_3        3          False   \n",
       "...                                      ...      ...            ...   \n",
       "session_42_anonymized  session_42_anonymized       42           True   \n",
       "session_43                        session_43       43          False   \n",
       "session_43_anonymized  session_43_anonymized       43           True   \n",
       "session_44                        session_44       44          False   \n",
       "session_44_anonymized  session_44_anonymized       44           True   \n",
       "\n",
       "                                                    mafia  \\\n",
       "session_1                   [Ryan Hodges, Natalie Morris]   \n",
       "session_1_anonymized                 [Player_M, Player_W]   \n",
       "session_2                   [Shawn Bailey, Tricia Miller]   \n",
       "session_2_anonymized                 [Player_T, Player_E]   \n",
       "session_3                 [Jeremy Davis, Harold Peterson]   \n",
       "...                                                   ...   \n",
       "session_42_anonymized                [Player_D, Player_T]   \n",
       "session_43                   [Zachary Hurley, Laura Pena]   \n",
       "session_43_anonymized                [Player_H, Player_K]   \n",
       "session_44             [Richard Stevens, Jessica Michael]   \n",
       "session_44_anonymized                [Player_I, Player_Y]   \n",
       "\n",
       "                                                                   ranks  \\\n",
       "session_1              [Mary Trujillo, Troy Thomas, Natalie Morris, R...   \n",
       "session_1_anonymized   [Player_P, Player_F, Player_D, Player_J, Playe...   \n",
       "session_2              [Diane Mooney, Alicia Randall, Jordan May, Sha...   \n",
       "session_2_anonymized   [Player_J, Player_T, Player_I, Player_O, Playe...   \n",
       "session_3              [Roy Moore, Scott Glenn, Kimberly Ibarra, Jere...   \n",
       "...                                                                  ...   \n",
       "session_42_anonymized  [Player_B, Player_L, Player_E, Player_A, Playe...   \n",
       "session_43             [Valerie White, Danielle Silva, Carol Stone, D...   \n",
       "session_43_anonymized  [Player_B, Player_K, Player_E, Player_U, Playe...   \n",
       "session_44             [Deborah Alvarez, Nicole Barker, Angela Murphy...   \n",
       "session_44_anonymized  [Player_B, Player_C, Player_Z, Player_A, Playe...   \n",
       "\n",
       "                       avg_mafia_rank  \n",
       "session_1                   35.714286  \n",
       "session_1_anonymized        71.428571  \n",
       "session_2                   50.000000  \n",
       "session_2_anonymized        25.000000  \n",
       "session_3                   38.888889  \n",
       "...                               ...  \n",
       "session_42_anonymized       75.000000  \n",
       "session_43                  75.000000  \n",
       "session_43_anonymized       43.750000  \n",
       "session_44                  68.750000  \n",
       "session_44_anonymized       75.000000  \n",
       "\n",
       "[72 rows x 6 columns]"
      ]
     },
     "execution_count": 28,
     "metadata": {},
     "output_type": "execute_result"
    }
   ],
   "source": [
    "# First, check where avg_mafia_rank is different for each session\n",
    "session_group = ranks_df.groupby('session')['avg_mafia_rank'].nunique()\n",
    "# Filter out sessions where there is more than one unique avg_mafia_rank\n",
    "sessions_with_diff_rank = session_group[session_group > 1].index\n",
    "# Now filter the original dataframe based on these sessions\n",
    "filtered_df = ranks_df[ranks_df['session'].isin(sessions_with_diff_rank)]\n",
    "# Display the result\n",
    "print(\"Times aliases effected the avg_mafia_rank\")\n",
    "filtered_df"
   ]
  },
  {
   "cell_type": "code",
   "execution_count": 196,
   "id": "04153272",
   "metadata": {},
   "outputs": [
    {
     "data": {
      "text/plain": [
       "48.327334809892946"
      ]
     },
     "execution_count": 196,
     "metadata": {},
     "output_type": "execute_result"
    }
   ],
   "source": [
    "ranks_df['avg_mafia_rank'].mean()"
   ]
  },
  {
   "cell_type": "code",
   "execution_count": 29,
   "id": "5edbb6bb",
   "metadata": {},
   "outputs": [
    {
     "data": {
      "text/plain": [
       "42.49233405483405"
      ]
     },
     "execution_count": 29,
     "metadata": {},
     "output_type": "execute_result"
    }
   ],
   "source": [
    "ranks_df['avg_mafia_rank'].mean()\n"
   ]
  },
  {
   "cell_type": "markdown",
   "id": "c24875b2-ac09-4a64-a730-34dd8e27a09c",
   "metadata": {},
   "source": [
    "### Graphs"
   ]
  },
  {
   "cell_type": "code",
   "execution_count": 30,
   "id": "d9fe0253",
   "metadata": {},
   "outputs": [
    {
     "data": {
      "application/vnd.plotly.v1+json": {
       "config": {
        "plotlyServerURL": "https://plot.ly"
       },
       "data": [
        {
         "alignmentgroup": "True",
         "bingroup": "x",
         "histfunc": "sum",
         "hovertemplate": "file_name=%{x}<br>sum of avg_mafia_rank=%{y}<extra></extra>",
         "legendgroup": "",
         "marker": {
          "color": "#636efa",
          "pattern": {
           "shape": ""
          }
         },
         "name": "",
         "offsetgroup": "",
         "orientation": "v",
         "showlegend": false,
         "type": "histogram",
         "x": [
          "session_1",
          "session_1_anonymized",
          "session_2",
          "session_2_anonymized",
          "session_3",
          "session_3_anonymized",
          "session_4",
          "session_4_anonymized",
          "session_5",
          "session_5_anonymized",
          "session_6",
          "session_6_anonymized",
          "session_7",
          "session_7_anonymized",
          "session_8",
          "session_8_anonymized",
          "session_9",
          "session_9_anonymized",
          "session_10",
          "session_10_anonymized",
          "session_11",
          "session_11_anonymized",
          "session_12",
          "session_12_anonymized",
          "session_13",
          "session_13_anonymized",
          "session_14",
          "session_14_anonymized",
          "session_15",
          "session_15_anonymized",
          "session_16",
          "session_16_anonymized",
          "session_17",
          "session_17_anonymized",
          "session_18",
          "session_18_anonymized",
          "session_19",
          "session_19_anonymized",
          "session_20",
          "session_20_anonymized",
          "session_21",
          "session_21_anonymized",
          "session_22",
          "session_22_anonymized",
          "session_23",
          "session_23_anonymized",
          "session_24",
          "session_24_anonymized",
          "session_25",
          "session_25_anonymized",
          "session_26",
          "session_26_anonymized",
          "session_27",
          "session_27_anonymized",
          "session_28",
          "session_28_anonymized",
          "session_29",
          "session_29_anonymized",
          "session_30",
          "session_30_anonymized",
          "session_31",
          "session_31_anonymized",
          "session_32",
          "session_32_anonymized",
          "session_33",
          "session_33_anonymized",
          "session_34",
          "session_34_anonymized",
          "session_35",
          "session_35_anonymized",
          "session_36",
          "session_36_anonymized",
          "session_37",
          "session_37_anonymized",
          "session_38",
          "session_38_anonymized",
          "session_39",
          "session_39_anonymized",
          "session_40",
          "session_40_anonymized",
          "session_41",
          "session_41_anonymized",
          "session_42",
          "session_42_anonymized",
          "session_43",
          "session_43_anonymized",
          "session_44",
          "session_44_anonymized"
         ],
         "xaxis": "x",
         "y": [
          35.71428571428571,
          71.42857142857142,
          50,
          25,
          38.888888888888886,
          27.77777777777778,
          31.25,
          31.25,
          57.14285714285714,
          35.71428571428571,
          38.888888888888886,
          38.888888888888886,
          72.22222222222223,
          77.77777777777777,
          56.25,
          56.25,
          38.888888888888886,
          61.11111111111111,
          27.777777777777775,
          66.66666666666667,
          40,
          30,
          83.33333333333334,
          27.77777777777778,
          44.44444444444445,
          11.11111111111111,
          33.33333333333333,
          55.55555555555555,
          25,
          80,
          15,
          45,
          72.22222222222223,
          38.888888888888886,
          25,
          25,
          62.5,
          37.5,
          64.28571428571428,
          14.285714285714285,
          30,
          40,
          33.33333333333333,
          44.44444444444445,
          43.75,
          43.75,
          25,
          43.75,
          31.25,
          31.25,
          0,
          0,
          81.25,
          31.25,
          56.25,
          68.75,
          14.285714285714285,
          42.857142857142854,
          12.5,
          75,
          37.5,
          56.25,
          41.66666666666667,
          49.99999999999999,
          33.33333333333333,
          22.22222222222222,
          61.111111111111114,
          44.44444444444445,
          50,
          28.57142857142857,
          12.5,
          12.5,
          6.25,
          18.75,
          50,
          37.5,
          56.25,
          62.5,
          21.428571428571427,
          50,
          50,
          12.5,
          68.75,
          75,
          75,
          43.75,
          68.75,
          75
         ],
         "yaxis": "y"
        }
       ],
       "layout": {
        "barmode": "relative",
        "legend": {
         "tracegroupgap": 0
        },
        "margin": {
         "t": 60
        },
        "template": {
         "data": {
          "bar": [
           {
            "error_x": {
             "color": "#2a3f5f"
            },
            "error_y": {
             "color": "#2a3f5f"
            },
            "marker": {
             "line": {
              "color": "#E5ECF6",
              "width": 0.5
             },
             "pattern": {
              "fillmode": "overlay",
              "size": 10,
              "solidity": 0.2
             }
            },
            "type": "bar"
           }
          ],
          "barpolar": [
           {
            "marker": {
             "line": {
              "color": "#E5ECF6",
              "width": 0.5
             },
             "pattern": {
              "fillmode": "overlay",
              "size": 10,
              "solidity": 0.2
             }
            },
            "type": "barpolar"
           }
          ],
          "carpet": [
           {
            "aaxis": {
             "endlinecolor": "#2a3f5f",
             "gridcolor": "white",
             "linecolor": "white",
             "minorgridcolor": "white",
             "startlinecolor": "#2a3f5f"
            },
            "baxis": {
             "endlinecolor": "#2a3f5f",
             "gridcolor": "white",
             "linecolor": "white",
             "minorgridcolor": "white",
             "startlinecolor": "#2a3f5f"
            },
            "type": "carpet"
           }
          ],
          "choropleth": [
           {
            "colorbar": {
             "outlinewidth": 0,
             "ticks": ""
            },
            "type": "choropleth"
           }
          ],
          "contour": [
           {
            "colorbar": {
             "outlinewidth": 0,
             "ticks": ""
            },
            "colorscale": [
             [
              0,
              "#0d0887"
             ],
             [
              0.1111111111111111,
              "#46039f"
             ],
             [
              0.2222222222222222,
              "#7201a8"
             ],
             [
              0.3333333333333333,
              "#9c179e"
             ],
             [
              0.4444444444444444,
              "#bd3786"
             ],
             [
              0.5555555555555556,
              "#d8576b"
             ],
             [
              0.6666666666666666,
              "#ed7953"
             ],
             [
              0.7777777777777778,
              "#fb9f3a"
             ],
             [
              0.8888888888888888,
              "#fdca26"
             ],
             [
              1,
              "#f0f921"
             ]
            ],
            "type": "contour"
           }
          ],
          "contourcarpet": [
           {
            "colorbar": {
             "outlinewidth": 0,
             "ticks": ""
            },
            "type": "contourcarpet"
           }
          ],
          "heatmap": [
           {
            "colorbar": {
             "outlinewidth": 0,
             "ticks": ""
            },
            "colorscale": [
             [
              0,
              "#0d0887"
             ],
             [
              0.1111111111111111,
              "#46039f"
             ],
             [
              0.2222222222222222,
              "#7201a8"
             ],
             [
              0.3333333333333333,
              "#9c179e"
             ],
             [
              0.4444444444444444,
              "#bd3786"
             ],
             [
              0.5555555555555556,
              "#d8576b"
             ],
             [
              0.6666666666666666,
              "#ed7953"
             ],
             [
              0.7777777777777778,
              "#fb9f3a"
             ],
             [
              0.8888888888888888,
              "#fdca26"
             ],
             [
              1,
              "#f0f921"
             ]
            ],
            "type": "heatmap"
           }
          ],
          "heatmapgl": [
           {
            "colorbar": {
             "outlinewidth": 0,
             "ticks": ""
            },
            "colorscale": [
             [
              0,
              "#0d0887"
             ],
             [
              0.1111111111111111,
              "#46039f"
             ],
             [
              0.2222222222222222,
              "#7201a8"
             ],
             [
              0.3333333333333333,
              "#9c179e"
             ],
             [
              0.4444444444444444,
              "#bd3786"
             ],
             [
              0.5555555555555556,
              "#d8576b"
             ],
             [
              0.6666666666666666,
              "#ed7953"
             ],
             [
              0.7777777777777778,
              "#fb9f3a"
             ],
             [
              0.8888888888888888,
              "#fdca26"
             ],
             [
              1,
              "#f0f921"
             ]
            ],
            "type": "heatmapgl"
           }
          ],
          "histogram": [
           {
            "marker": {
             "pattern": {
              "fillmode": "overlay",
              "size": 10,
              "solidity": 0.2
             }
            },
            "type": "histogram"
           }
          ],
          "histogram2d": [
           {
            "colorbar": {
             "outlinewidth": 0,
             "ticks": ""
            },
            "colorscale": [
             [
              0,
              "#0d0887"
             ],
             [
              0.1111111111111111,
              "#46039f"
             ],
             [
              0.2222222222222222,
              "#7201a8"
             ],
             [
              0.3333333333333333,
              "#9c179e"
             ],
             [
              0.4444444444444444,
              "#bd3786"
             ],
             [
              0.5555555555555556,
              "#d8576b"
             ],
             [
              0.6666666666666666,
              "#ed7953"
             ],
             [
              0.7777777777777778,
              "#fb9f3a"
             ],
             [
              0.8888888888888888,
              "#fdca26"
             ],
             [
              1,
              "#f0f921"
             ]
            ],
            "type": "histogram2d"
           }
          ],
          "histogram2dcontour": [
           {
            "colorbar": {
             "outlinewidth": 0,
             "ticks": ""
            },
            "colorscale": [
             [
              0,
              "#0d0887"
             ],
             [
              0.1111111111111111,
              "#46039f"
             ],
             [
              0.2222222222222222,
              "#7201a8"
             ],
             [
              0.3333333333333333,
              "#9c179e"
             ],
             [
              0.4444444444444444,
              "#bd3786"
             ],
             [
              0.5555555555555556,
              "#d8576b"
             ],
             [
              0.6666666666666666,
              "#ed7953"
             ],
             [
              0.7777777777777778,
              "#fb9f3a"
             ],
             [
              0.8888888888888888,
              "#fdca26"
             ],
             [
              1,
              "#f0f921"
             ]
            ],
            "type": "histogram2dcontour"
           }
          ],
          "mesh3d": [
           {
            "colorbar": {
             "outlinewidth": 0,
             "ticks": ""
            },
            "type": "mesh3d"
           }
          ],
          "parcoords": [
           {
            "line": {
             "colorbar": {
              "outlinewidth": 0,
              "ticks": ""
             }
            },
            "type": "parcoords"
           }
          ],
          "pie": [
           {
            "automargin": true,
            "type": "pie"
           }
          ],
          "scatter": [
           {
            "fillpattern": {
             "fillmode": "overlay",
             "size": 10,
             "solidity": 0.2
            },
            "type": "scatter"
           }
          ],
          "scatter3d": [
           {
            "line": {
             "colorbar": {
              "outlinewidth": 0,
              "ticks": ""
             }
            },
            "marker": {
             "colorbar": {
              "outlinewidth": 0,
              "ticks": ""
             }
            },
            "type": "scatter3d"
           }
          ],
          "scattercarpet": [
           {
            "marker": {
             "colorbar": {
              "outlinewidth": 0,
              "ticks": ""
             }
            },
            "type": "scattercarpet"
           }
          ],
          "scattergeo": [
           {
            "marker": {
             "colorbar": {
              "outlinewidth": 0,
              "ticks": ""
             }
            },
            "type": "scattergeo"
           }
          ],
          "scattergl": [
           {
            "marker": {
             "colorbar": {
              "outlinewidth": 0,
              "ticks": ""
             }
            },
            "type": "scattergl"
           }
          ],
          "scattermapbox": [
           {
            "marker": {
             "colorbar": {
              "outlinewidth": 0,
              "ticks": ""
             }
            },
            "type": "scattermapbox"
           }
          ],
          "scatterpolar": [
           {
            "marker": {
             "colorbar": {
              "outlinewidth": 0,
              "ticks": ""
             }
            },
            "type": "scatterpolar"
           }
          ],
          "scatterpolargl": [
           {
            "marker": {
             "colorbar": {
              "outlinewidth": 0,
              "ticks": ""
             }
            },
            "type": "scatterpolargl"
           }
          ],
          "scatterternary": [
           {
            "marker": {
             "colorbar": {
              "outlinewidth": 0,
              "ticks": ""
             }
            },
            "type": "scatterternary"
           }
          ],
          "surface": [
           {
            "colorbar": {
             "outlinewidth": 0,
             "ticks": ""
            },
            "colorscale": [
             [
              0,
              "#0d0887"
             ],
             [
              0.1111111111111111,
              "#46039f"
             ],
             [
              0.2222222222222222,
              "#7201a8"
             ],
             [
              0.3333333333333333,
              "#9c179e"
             ],
             [
              0.4444444444444444,
              "#bd3786"
             ],
             [
              0.5555555555555556,
              "#d8576b"
             ],
             [
              0.6666666666666666,
              "#ed7953"
             ],
             [
              0.7777777777777778,
              "#fb9f3a"
             ],
             [
              0.8888888888888888,
              "#fdca26"
             ],
             [
              1,
              "#f0f921"
             ]
            ],
            "type": "surface"
           }
          ],
          "table": [
           {
            "cells": {
             "fill": {
              "color": "#EBF0F8"
             },
             "line": {
              "color": "white"
             }
            },
            "header": {
             "fill": {
              "color": "#C8D4E3"
             },
             "line": {
              "color": "white"
             }
            },
            "type": "table"
           }
          ]
         },
         "layout": {
          "annotationdefaults": {
           "arrowcolor": "#2a3f5f",
           "arrowhead": 0,
           "arrowwidth": 1
          },
          "autotypenumbers": "strict",
          "coloraxis": {
           "colorbar": {
            "outlinewidth": 0,
            "ticks": ""
           }
          },
          "colorscale": {
           "diverging": [
            [
             0,
             "#8e0152"
            ],
            [
             0.1,
             "#c51b7d"
            ],
            [
             0.2,
             "#de77ae"
            ],
            [
             0.3,
             "#f1b6da"
            ],
            [
             0.4,
             "#fde0ef"
            ],
            [
             0.5,
             "#f7f7f7"
            ],
            [
             0.6,
             "#e6f5d0"
            ],
            [
             0.7,
             "#b8e186"
            ],
            [
             0.8,
             "#7fbc41"
            ],
            [
             0.9,
             "#4d9221"
            ],
            [
             1,
             "#276419"
            ]
           ],
           "sequential": [
            [
             0,
             "#0d0887"
            ],
            [
             0.1111111111111111,
             "#46039f"
            ],
            [
             0.2222222222222222,
             "#7201a8"
            ],
            [
             0.3333333333333333,
             "#9c179e"
            ],
            [
             0.4444444444444444,
             "#bd3786"
            ],
            [
             0.5555555555555556,
             "#d8576b"
            ],
            [
             0.6666666666666666,
             "#ed7953"
            ],
            [
             0.7777777777777778,
             "#fb9f3a"
            ],
            [
             0.8888888888888888,
             "#fdca26"
            ],
            [
             1,
             "#f0f921"
            ]
           ],
           "sequentialminus": [
            [
             0,
             "#0d0887"
            ],
            [
             0.1111111111111111,
             "#46039f"
            ],
            [
             0.2222222222222222,
             "#7201a8"
            ],
            [
             0.3333333333333333,
             "#9c179e"
            ],
            [
             0.4444444444444444,
             "#bd3786"
            ],
            [
             0.5555555555555556,
             "#d8576b"
            ],
            [
             0.6666666666666666,
             "#ed7953"
            ],
            [
             0.7777777777777778,
             "#fb9f3a"
            ],
            [
             0.8888888888888888,
             "#fdca26"
            ],
            [
             1,
             "#f0f921"
            ]
           ]
          },
          "colorway": [
           "#636efa",
           "#EF553B",
           "#00cc96",
           "#ab63fa",
           "#FFA15A",
           "#19d3f3",
           "#FF6692",
           "#B6E880",
           "#FF97FF",
           "#FECB52"
          ],
          "font": {
           "color": "#2a3f5f"
          },
          "geo": {
           "bgcolor": "white",
           "lakecolor": "white",
           "landcolor": "#E5ECF6",
           "showlakes": true,
           "showland": true,
           "subunitcolor": "white"
          },
          "hoverlabel": {
           "align": "left"
          },
          "hovermode": "closest",
          "mapbox": {
           "style": "light"
          },
          "paper_bgcolor": "white",
          "plot_bgcolor": "#E5ECF6",
          "polar": {
           "angularaxis": {
            "gridcolor": "white",
            "linecolor": "white",
            "ticks": ""
           },
           "bgcolor": "#E5ECF6",
           "radialaxis": {
            "gridcolor": "white",
            "linecolor": "white",
            "ticks": ""
           }
          },
          "scene": {
           "xaxis": {
            "backgroundcolor": "#E5ECF6",
            "gridcolor": "white",
            "gridwidth": 2,
            "linecolor": "white",
            "showbackground": true,
            "ticks": "",
            "zerolinecolor": "white"
           },
           "yaxis": {
            "backgroundcolor": "#E5ECF6",
            "gridcolor": "white",
            "gridwidth": 2,
            "linecolor": "white",
            "showbackground": true,
            "ticks": "",
            "zerolinecolor": "white"
           },
           "zaxis": {
            "backgroundcolor": "#E5ECF6",
            "gridcolor": "white",
            "gridwidth": 2,
            "linecolor": "white",
            "showbackground": true,
            "ticks": "",
            "zerolinecolor": "white"
           }
          },
          "shapedefaults": {
           "line": {
            "color": "#2a3f5f"
           }
          },
          "ternary": {
           "aaxis": {
            "gridcolor": "white",
            "linecolor": "white",
            "ticks": ""
           },
           "baxis": {
            "gridcolor": "white",
            "linecolor": "white",
            "ticks": ""
           },
           "bgcolor": "#E5ECF6",
           "caxis": {
            "gridcolor": "white",
            "linecolor": "white",
            "ticks": ""
           }
          },
          "title": {
           "x": 0.05
          },
          "xaxis": {
           "automargin": true,
           "gridcolor": "white",
           "linecolor": "white",
           "ticks": "",
           "title": {
            "standoff": 15
           },
           "zerolinecolor": "white",
           "zerolinewidth": 2
          },
          "yaxis": {
           "automargin": true,
           "gridcolor": "white",
           "linecolor": "white",
           "ticks": "",
           "title": {
            "standoff": 15
           },
           "zerolinecolor": "white",
           "zerolinewidth": 2
          }
         }
        },
        "xaxis": {
         "anchor": "y",
         "domain": [
          0,
          1
         ],
         "title": {
          "text": "file_name"
         }
        },
        "yaxis": {
         "anchor": "x",
         "domain": [
          0,
          1
         ],
         "title": {
          "text": "sum of avg_mafia_rank"
         }
        }
       }
      }
     },
     "metadata": {},
     "output_type": "display_data"
    }
   ],
   "source": [
    "#ranks_df.groupby('names_changed')['avg_mafia_rank'].mean().plot.pie()\n",
    "fig_hist_avg_rank = px.histogram(ranks_df, x=\"file_name\", y=\"avg_mafia_rank\") \n",
    "fig_hist_avg_rank.show()"
   ]
  },
  {
   "cell_type": "code",
   "execution_count": null,
   "id": "9e5c038b",
   "metadata": {},
   "outputs": [],
   "source": [
    "ranks_df.plot(title=)"
   ]
  },
  {
   "cell_type": "code",
   "execution_count": 161,
   "id": "910e3dd5",
   "metadata": {},
   "outputs": [
    {
     "data": {
      "image/png": "[encoded data removed]",
      "text/plain": [
       "<Figure size 1000x600 with 1 Axes>"
      ]
     },
     "metadata": {},
     "output_type": "display_data"
    }
   ],
   "source": [
    "import seaborn as sns\n",
    "\n",
    "# Assuming ranks_df is your DataFrame\n",
    "\n",
    "# Create the scatter plot\n",
    "plt.figure(figsize=(10, 6))\n",
    "\n",
    "# Use seaborn scatterplot to differentiate by names_changed\n",
    "sns.scatterplot(data=ranks_df, x='session', y='avg_mafia_rank', hue='names_changed', palette={True: 'blue', False: 'orange'})\n",
    "\n",
    "# Add labels and title\n",
    "plt.title(\"Double Scatter Plot: Session vs Avg Mafia Rank\")\n",
    "plt.xlabel(\"Session\")\n",
    "plt.ylabel(\"Avg Mafia Rank\")\n",
    "\n",
    "# Show the plot\n",
    "plt.show()\n"
   ]
  },
  {
   "cell_type": "code",
   "execution_count": 31,
   "id": "f7fec45c",
   "metadata": {},
   "outputs": [
    {
     "data": {
      "image/png": "[encoded data removed]",
      "text/plain": [
       "<Figure size 1000x600 with 1 Axes>"
      ]
     },
     "metadata": {},
     "output_type": "display_data"
    }
   ],
   "source": [
    "import seaborn as sns\n",
    "\n",
    "# Assuming ranks_df is your DataFrame\n",
    "\n",
    "# Create the scatter plot\n",
    "plt.figure(figsize=(10, 6))\n",
    "\n",
    "# Use seaborn scatterplot to differentiate by names_changed\n",
    "sns.scatterplot(data=ranks_df, x='session', y='avg_mafia_rank', hue='names_changed', palette={True: 'blue', False: 'orange'})\n",
    "\n",
    "# Add labels and title\n",
    "plt.title(\"Double Scatter Plot: Session vs Avg Mafia Rank\")\n",
    "plt.xlabel(\"Session\")\n",
    "plt.ylabel(\"Avg Mafia Rank\")\n",
    "\n",
    "# Show the plot\n",
    "plt.show()\n"
   ]
  },
  {
   "cell_type": "code",
   "execution_count": 296,
   "id": "be7e0fde-f4ff-44c1-b069-b5209bf01101",
   "metadata": {},
   "outputs": [
    {
     "data": {
      "text/plain": [
       "array([False,  True])"
      ]
     },
     "execution_count": 296,
     "metadata": {},
     "output_type": "execute_result"
    }
   ],
   "source": [
    "ranks_df.names_changed.unique()"
   ]
  },
  {
   "cell_type": "code",
   "execution_count": 108,
   "id": "10523eac-9c12-4b59-af26-b41cf29daaa2",
   "metadata": {},
   "outputs": [
    {
     "data": {
      "image/png": "[encoded data removed]",
      "text/plain": [
       "<Figure size 640x480 with 1 Axes>"
      ]
     },
     "metadata": {},
     "output_type": "display_data"
    },
    {
     "data": {
      "text/plain": [
       "names_changed\n",
       "False    48.618032\n",
       "True     48.036637\n",
       "Name: avg_mafia_rank, dtype: float64"
      ]
     },
     "execution_count": 108,
     "metadata": {},
     "output_type": "execute_result"
    }
   ],
   "source": [
    "# Group by 'names_changed' and calculate the average of 'avg_mafia_rank' for each group\n",
    "avg_mafia_rank_by_names_changed = ranks_df.groupby('names_changed')['avg_mafia_rank'].mean()\n",
    "\n",
    "# Plotting the bar chart\n",
    "avg_mafia_rank_by_names_changed.plot(kind='bar', color=['blue', 'green'], title='Average Mafia Rank when Names Changed (True vs False)')\n",
    "plt.ylabel('Average of avg_mafia_rank')\n",
    "plt.xticks(rotation=0)\n",
    "plt.show()\n",
    "avg_mafia_rank_by_names_changed"
   ]
  },
  {
   "cell_type": "code",
   "execution_count": 192,
   "id": "66dc9055",
   "metadata": {},
   "outputs": [
    {
     "data": {
      "text/plain": [
       "Index([18, 26], dtype='int64', name='session')"
      ]
     },
     "execution_count": 192,
     "metadata": {},
     "output_type": "execute_result"
    }
   ],
   "source": [
    "sessions_with_diff_rank"
   ]
  },
  {
   "cell_type": "code",
   "execution_count": 186,
   "id": "877be238",
   "metadata": {},
   "outputs": [
    {
     "data": {
      "text/html": [
       "<div>\n",
       "<style scoped>\n",
       "    .dataframe tbody tr th:only-of-type {\n",
       "        vertical-align: middle;\n",
       "    }\n",
       "\n",
       "    .dataframe tbody tr th {\n",
       "        vertical-align: top;\n",
       "    }\n",
       "\n",
       "    .dataframe thead th {\n",
       "        text-align: right;\n",
       "    }\n",
       "</style>\n",
       "<table border=\"1\" class=\"dataframe\">\n",
       "  <thead>\n",
       "    <tr style=\"text-align: right;\">\n",
       "      <th></th>\n",
       "      <th>file_name</th>\n",
       "      <th>session</th>\n",
       "      <th>names_changed</th>\n",
       "      <th>mafia</th>\n",
       "      <th>ranks</th>\n",
       "      <th>avg_mafia_rank</th>\n",
       "    </tr>\n",
       "  </thead>\n",
       "  <tbody>\n",
       "    <tr>\n",
       "      <th>session_2</th>\n",
       "      <td>session_2</td>\n",
       "      <td>2</td>\n",
       "      <td>False</td>\n",
       "      <td>[Shawn Bailey, Tricia Miller]</td>\n",
       "      <td>[Stephen Clark, Gabriel Durham, Shawn Bailey, ...</td>\n",
       "      <td>30.000000</td>\n",
       "    </tr>\n",
       "    <tr>\n",
       "      <th>session_42</th>\n",
       "      <td>session_42</td>\n",
       "      <td>42</td>\n",
       "      <td>False</td>\n",
       "      <td>[Jason Smith, Robert Anderson]</td>\n",
       "      <td>[Jason Smith, Kimberly Warren, Ricardo Owens, ...</td>\n",
       "      <td>31.250000</td>\n",
       "    </tr>\n",
       "    <tr>\n",
       "      <th>session_38</th>\n",
       "      <td>session_38</td>\n",
       "      <td>38</td>\n",
       "      <td>False</td>\n",
       "      <td>[Garrett Baker]</td>\n",
       "      <td>[Clayton Cook, James Smith, Ryan Ray, Garrett ...</td>\n",
       "      <td>37.500000</td>\n",
       "    </tr>\n",
       "    <tr>\n",
       "      <th>session_37</th>\n",
       "      <td>session_37</td>\n",
       "      <td>37</td>\n",
       "      <td>False</td>\n",
       "      <td>[Elizabeth Saunders, Mariah Burke]</td>\n",
       "      <td>[Michelle Graham, Elizabeth Saunders, Kaitlyn ...</td>\n",
       "      <td>31.250000</td>\n",
       "    </tr>\n",
       "    <tr>\n",
       "      <th>session_34</th>\n",
       "      <td>session_34</td>\n",
       "      <td>34</td>\n",
       "      <td>False</td>\n",
       "      <td>[Eric Fisher, James Lamb]</td>\n",
       "      <td>[Eric Fisher, George Le, Maxwell Reyes, Lori S...</td>\n",
       "      <td>33.333333</td>\n",
       "    </tr>\n",
       "    <tr>\n",
       "      <th>session_31</th>\n",
       "      <td>session_31</td>\n",
       "      <td>31</td>\n",
       "      <td>False</td>\n",
       "      <td>[Jon Gutierrez, Ryan Russell]</td>\n",
       "      <td>[Jon Gutierrez, Brent Green, Kellie Anderson, ...</td>\n",
       "      <td>31.250000</td>\n",
       "    </tr>\n",
       "    <tr>\n",
       "      <th>session_28</th>\n",
       "      <td>session_28</td>\n",
       "      <td>28</td>\n",
       "      <td>False</td>\n",
       "      <td>[Mike Burton, William Holmes]</td>\n",
       "      <td>[Mike Burton, Scott Thomas, Charles Graham, Ro...</td>\n",
       "      <td>31.250000</td>\n",
       "    </tr>\n",
       "    <tr>\n",
       "      <th>session_44</th>\n",
       "      <td>session_44</td>\n",
       "      <td>44</td>\n",
       "      <td>False</td>\n",
       "      <td>[Richard Stevens, Jessica Michael]</td>\n",
       "      <td>[Richard Stevens, Jessica Michael, Deborah Alv...</td>\n",
       "      <td>6.250000</td>\n",
       "    </tr>\n",
       "    <tr>\n",
       "      <th>session_26</th>\n",
       "      <td>session_26</td>\n",
       "      <td>26</td>\n",
       "      <td>False</td>\n",
       "      <td>[Jennifer Diaz]</td>\n",
       "      <td>[Sarah Williams, Jennifer Diaz, Theresa Torres]</td>\n",
       "      <td>33.333333</td>\n",
       "    </tr>\n",
       "    <tr>\n",
       "      <th>session_19</th>\n",
       "      <td>session_19</td>\n",
       "      <td>19</td>\n",
       "      <td>False</td>\n",
       "      <td>[John Thompson]</td>\n",
       "      <td>[Frank Butler, Tanya Kennedy, John Thompson, M...</td>\n",
       "      <td>25.000000</td>\n",
       "    </tr>\n",
       "    <tr>\n",
       "      <th>session_27</th>\n",
       "      <td>session_27</td>\n",
       "      <td>27</td>\n",
       "      <td>False</td>\n",
       "      <td>[Erin Blevins, Brittany Evans]</td>\n",
       "      <td>[Erin Blevins, Melissa Hunt, Jorge Mcintosh, B...</td>\n",
       "      <td>18.750000</td>\n",
       "    </tr>\n",
       "    <tr>\n",
       "      <th>session_4</th>\n",
       "      <td>session_4</td>\n",
       "      <td>4</td>\n",
       "      <td>False</td>\n",
       "      <td>[Nicolas Cole, Wendy White]</td>\n",
       "      <td>[Nicolas Cole, Chelsea Cook, Danielle Castro, ...</td>\n",
       "      <td>37.500000</td>\n",
       "    </tr>\n",
       "    <tr>\n",
       "      <th>session_9</th>\n",
       "      <td>session_9</td>\n",
       "      <td>9</td>\n",
       "      <td>False</td>\n",
       "      <td>[Kelsey Wallace, Anna Lopez]</td>\n",
       "      <td>[Kelsey Wallace, Mr. Robert Bryant, Jacob Lowe...</td>\n",
       "      <td>16.666667</td>\n",
       "    </tr>\n",
       "    <tr>\n",
       "      <th>session_6</th>\n",
       "      <td>session_6</td>\n",
       "      <td>6</td>\n",
       "      <td>False</td>\n",
       "      <td>[Ricky Mcneil, Jesse Martin]</td>\n",
       "      <td>[Jeremiah Johnson, Ricky Mcneil, Christopher D...</td>\n",
       "      <td>38.888889</td>\n",
       "    </tr>\n",
       "    <tr>\n",
       "      <th>session_3</th>\n",
       "      <td>session_3</td>\n",
       "      <td>3</td>\n",
       "      <td>False</td>\n",
       "      <td>[Jeremy Davis, Harold Peterson]</td>\n",
       "      <td>[William Reed, Diana Ayala, Jeremy Davis, Haro...</td>\n",
       "      <td>27.777778</td>\n",
       "    </tr>\n",
       "    <tr>\n",
       "      <th>session_42_anonymized</th>\n",
       "      <td>session_42_anonymized</td>\n",
       "      <td>42</td>\n",
       "      <td>True</td>\n",
       "      <td>[Player_D, Player_T]</td>\n",
       "      <td>[Player_D, Player_A, Player_Z, Player_J, Playe...</td>\n",
       "      <td>31.250000</td>\n",
       "    </tr>\n",
       "    <tr>\n",
       "      <th>session_2_anonymized</th>\n",
       "      <td>session_2_anonymized</td>\n",
       "      <td>2</td>\n",
       "      <td>True</td>\n",
       "      <td>[Player_T, Player_E]</td>\n",
       "      <td>[Player_B, Player_N, Player_T, Player_O, Playe...</td>\n",
       "      <td>30.000000</td>\n",
       "    </tr>\n",
       "    <tr>\n",
       "      <th>session_38_anonymized</th>\n",
       "      <td>session_38_anonymized</td>\n",
       "      <td>38</td>\n",
       "      <td>True</td>\n",
       "      <td>[Player_M]</td>\n",
       "      <td>[Player_Y, Player_P, Player_H, Player_M, Playe...</td>\n",
       "      <td>37.500000</td>\n",
       "    </tr>\n",
       "    <tr>\n",
       "      <th>session_37_anonymized</th>\n",
       "      <td>session_37_anonymized</td>\n",
       "      <td>37</td>\n",
       "      <td>True</td>\n",
       "      <td>[Player_Z, Player_B]</td>\n",
       "      <td>[Player_R, Player_Z, Player_Q, Player_K, Playe...</td>\n",
       "      <td>31.250000</td>\n",
       "    </tr>\n",
       "    <tr>\n",
       "      <th>session_3_anonymized</th>\n",
       "      <td>session_3_anonymized</td>\n",
       "      <td>3</td>\n",
       "      <td>True</td>\n",
       "      <td>[Player_Q, Player_M]</td>\n",
       "      <td>[Player_V, Player_B, Player_Q, Player_M, Playe...</td>\n",
       "      <td>27.777778</td>\n",
       "    </tr>\n",
       "    <tr>\n",
       "      <th>session_34_anonymized</th>\n",
       "      <td>session_34_anonymized</td>\n",
       "      <td>34</td>\n",
       "      <td>True</td>\n",
       "      <td>[Player_G, Player_D]</td>\n",
       "      <td>[Player_G, Player_R, Player_Q, Player_U, Playe...</td>\n",
       "      <td>33.333333</td>\n",
       "    </tr>\n",
       "    <tr>\n",
       "      <th>session_19_anonymized</th>\n",
       "      <td>session_19_anonymized</td>\n",
       "      <td>19</td>\n",
       "      <td>True</td>\n",
       "      <td>[Player_E]</td>\n",
       "      <td>[Player_P, Player_Y, Player_E, Player_U, Playe...</td>\n",
       "      <td>25.000000</td>\n",
       "    </tr>\n",
       "    <tr>\n",
       "      <th>session_31_anonymized</th>\n",
       "      <td>session_31_anonymized</td>\n",
       "      <td>31</td>\n",
       "      <td>True</td>\n",
       "      <td>[Player_Z, Player_J]</td>\n",
       "      <td>[Player_Z, Player_M, Player_P, Player_N, Playe...</td>\n",
       "      <td>31.250000</td>\n",
       "    </tr>\n",
       "    <tr>\n",
       "      <th>session_4_anonymized</th>\n",
       "      <td>session_4_anonymized</td>\n",
       "      <td>4</td>\n",
       "      <td>True</td>\n",
       "      <td>[Player_O, Player_G]</td>\n",
       "      <td>[Player_O, Player_K, Player_U, Player_N, Playe...</td>\n",
       "      <td>37.500000</td>\n",
       "    </tr>\n",
       "    <tr>\n",
       "      <th>session_28_anonymized</th>\n",
       "      <td>session_28_anonymized</td>\n",
       "      <td>28</td>\n",
       "      <td>True</td>\n",
       "      <td>[Player_M, Player_K]</td>\n",
       "      <td>[Player_M, Player_I, Player_B, Player_E, Playe...</td>\n",
       "      <td>31.250000</td>\n",
       "    </tr>\n",
       "    <tr>\n",
       "      <th>session_27_anonymized</th>\n",
       "      <td>session_27_anonymized</td>\n",
       "      <td>27</td>\n",
       "      <td>True</td>\n",
       "      <td>[Player_E, Player_M]</td>\n",
       "      <td>[Player_E, Player_X, Player_I, Player_M, Playe...</td>\n",
       "      <td>18.750000</td>\n",
       "    </tr>\n",
       "    <tr>\n",
       "      <th>session_6_anonymized</th>\n",
       "      <td>session_6_anonymized</td>\n",
       "      <td>6</td>\n",
       "      <td>True</td>\n",
       "      <td>[Player_Y, Player_O]</td>\n",
       "      <td>[Player_I, Player_Y, Player_J, Player_C, Playe...</td>\n",
       "      <td>38.888889</td>\n",
       "    </tr>\n",
       "    <tr>\n",
       "      <th>session_26_anonymized</th>\n",
       "      <td>session_26_anonymized</td>\n",
       "      <td>26</td>\n",
       "      <td>True</td>\n",
       "      <td>[Player_Z]</td>\n",
       "      <td>[Player_K, Player_Z, Player_J, Player_S]</td>\n",
       "      <td>25.000000</td>\n",
       "    </tr>\n",
       "    <tr>\n",
       "      <th>session_9_anonymized</th>\n",
       "      <td>session_9_anonymized</td>\n",
       "      <td>9</td>\n",
       "      <td>True</td>\n",
       "      <td>[Player_L, Player_T]</td>\n",
       "      <td>[Player_L, Player_E, Player_S, Player_T, Playe...</td>\n",
       "      <td>16.666667</td>\n",
       "    </tr>\n",
       "    <tr>\n",
       "      <th>session_44_anonymized</th>\n",
       "      <td>session_44_anonymized</td>\n",
       "      <td>44</td>\n",
       "      <td>True</td>\n",
       "      <td>[Player_I, Player_Y]</td>\n",
       "      <td>[Player_I, Player_Y, Player_B, Player_C, Playe...</td>\n",
       "      <td>6.250000</td>\n",
       "    </tr>\n",
       "  </tbody>\n",
       "</table>\n",
       "</div>"
      ],
      "text/plain": [
       "                                   file_name  session  names_changed  \\\n",
       "session_2                          session_2        2          False   \n",
       "session_42                        session_42       42          False   \n",
       "session_38                        session_38       38          False   \n",
       "session_37                        session_37       37          False   \n",
       "session_34                        session_34       34          False   \n",
       "session_31                        session_31       31          False   \n",
       "session_28                        session_28       28          False   \n",
       "session_44                        session_44       44          False   \n",
       "session_26                        session_26       26          False   \n",
       "session_19                        session_19       19          False   \n",
       "session_27                        session_27       27          False   \n",
       "session_4                          session_4        4          False   \n",
       "session_9                          session_9        9          False   \n",
       "session_6                          session_6        6          False   \n",
       "session_3                          session_3        3          False   \n",
       "session_42_anonymized  session_42_anonymized       42           True   \n",
       "session_2_anonymized    session_2_anonymized        2           True   \n",
       "session_38_anonymized  session_38_anonymized       38           True   \n",
       "session_37_anonymized  session_37_anonymized       37           True   \n",
       "session_3_anonymized    session_3_anonymized        3           True   \n",
       "session_34_anonymized  session_34_anonymized       34           True   \n",
       "session_19_anonymized  session_19_anonymized       19           True   \n",
       "session_31_anonymized  session_31_anonymized       31           True   \n",
       "session_4_anonymized    session_4_anonymized        4           True   \n",
       "session_28_anonymized  session_28_anonymized       28           True   \n",
       "session_27_anonymized  session_27_anonymized       27           True   \n",
       "session_6_anonymized    session_6_anonymized        6           True   \n",
       "session_26_anonymized  session_26_anonymized       26           True   \n",
       "session_9_anonymized    session_9_anonymized        9           True   \n",
       "session_44_anonymized  session_44_anonymized       44           True   \n",
       "\n",
       "                                                    mafia  \\\n",
       "session_2                   [Shawn Bailey, Tricia Miller]   \n",
       "session_42                 [Jason Smith, Robert Anderson]   \n",
       "session_38                                [Garrett Baker]   \n",
       "session_37             [Elizabeth Saunders, Mariah Burke]   \n",
       "session_34                      [Eric Fisher, James Lamb]   \n",
       "session_31                  [Jon Gutierrez, Ryan Russell]   \n",
       "session_28                  [Mike Burton, William Holmes]   \n",
       "session_44             [Richard Stevens, Jessica Michael]   \n",
       "session_26                                [Jennifer Diaz]   \n",
       "session_19                                [John Thompson]   \n",
       "session_27                 [Erin Blevins, Brittany Evans]   \n",
       "session_4                     [Nicolas Cole, Wendy White]   \n",
       "session_9                    [Kelsey Wallace, Anna Lopez]   \n",
       "session_6                    [Ricky Mcneil, Jesse Martin]   \n",
       "session_3                 [Jeremy Davis, Harold Peterson]   \n",
       "session_42_anonymized                [Player_D, Player_T]   \n",
       "session_2_anonymized                 [Player_T, Player_E]   \n",
       "session_38_anonymized                          [Player_M]   \n",
       "session_37_anonymized                [Player_Z, Player_B]   \n",
       "session_3_anonymized                 [Player_Q, Player_M]   \n",
       "session_34_anonymized                [Player_G, Player_D]   \n",
       "session_19_anonymized                          [Player_E]   \n",
       "session_31_anonymized                [Player_Z, Player_J]   \n",
       "session_4_anonymized                 [Player_O, Player_G]   \n",
       "session_28_anonymized                [Player_M, Player_K]   \n",
       "session_27_anonymized                [Player_E, Player_M]   \n",
       "session_6_anonymized                 [Player_Y, Player_O]   \n",
       "session_26_anonymized                          [Player_Z]   \n",
       "session_9_anonymized                 [Player_L, Player_T]   \n",
       "session_44_anonymized                [Player_I, Player_Y]   \n",
       "\n",
       "                                                                   ranks  \\\n",
       "session_2              [Stephen Clark, Gabriel Durham, Shawn Bailey, ...   \n",
       "session_42             [Jason Smith, Kimberly Warren, Ricardo Owens, ...   \n",
       "session_38             [Clayton Cook, James Smith, Ryan Ray, Garrett ...   \n",
       "session_37             [Michelle Graham, Elizabeth Saunders, Kaitlyn ...   \n",
       "session_34             [Eric Fisher, George Le, Maxwell Reyes, Lori S...   \n",
       "session_31             [Jon Gutierrez, Brent Green, Kellie Anderson, ...   \n",
       "session_28             [Mike Burton, Scott Thomas, Charles Graham, Ro...   \n",
       "session_44             [Richard Stevens, Jessica Michael, Deborah Alv...   \n",
       "session_26               [Sarah Williams, Jennifer Diaz, Theresa Torres]   \n",
       "session_19             [Frank Butler, Tanya Kennedy, John Thompson, M...   \n",
       "session_27             [Erin Blevins, Melissa Hunt, Jorge Mcintosh, B...   \n",
       "session_4              [Nicolas Cole, Chelsea Cook, Danielle Castro, ...   \n",
       "session_9              [Kelsey Wallace, Mr. Robert Bryant, Jacob Lowe...   \n",
       "session_6              [Jeremiah Johnson, Ricky Mcneil, Christopher D...   \n",
       "session_3              [William Reed, Diana Ayala, Jeremy Davis, Haro...   \n",
       "session_42_anonymized  [Player_D, Player_A, Player_Z, Player_J, Playe...   \n",
       "session_2_anonymized   [Player_B, Player_N, Player_T, Player_O, Playe...   \n",
       "session_38_anonymized  [Player_Y, Player_P, Player_H, Player_M, Playe...   \n",
       "session_37_anonymized  [Player_R, Player_Z, Player_Q, Player_K, Playe...   \n",
       "session_3_anonymized   [Player_V, Player_B, Player_Q, Player_M, Playe...   \n",
       "session_34_anonymized  [Player_G, Player_R, Player_Q, Player_U, Playe...   \n",
       "session_19_anonymized  [Player_P, Player_Y, Player_E, Player_U, Playe...   \n",
       "session_31_anonymized  [Player_Z, Player_M, Player_P, Player_N, Playe...   \n",
       "session_4_anonymized   [Player_O, Player_K, Player_U, Player_N, Playe...   \n",
       "session_28_anonymized  [Player_M, Player_I, Player_B, Player_E, Playe...   \n",
       "session_27_anonymized  [Player_E, Player_X, Player_I, Player_M, Playe...   \n",
       "session_6_anonymized   [Player_I, Player_Y, Player_J, Player_C, Playe...   \n",
       "session_26_anonymized           [Player_K, Player_Z, Player_J, Player_S]   \n",
       "session_9_anonymized   [Player_L, Player_E, Player_S, Player_T, Playe...   \n",
       "session_44_anonymized  [Player_I, Player_Y, Player_B, Player_C, Playe...   \n",
       "\n",
       "                       avg_mafia_rank  \n",
       "session_2                   30.000000  \n",
       "session_42                  31.250000  \n",
       "session_38                  37.500000  \n",
       "session_37                  31.250000  \n",
       "session_34                  33.333333  \n",
       "session_31                  31.250000  \n",
       "session_28                  31.250000  \n",
       "session_44                   6.250000  \n",
       "session_26                  33.333333  \n",
       "session_19                  25.000000  \n",
       "session_27                  18.750000  \n",
       "session_4                   37.500000  \n",
       "session_9                   16.666667  \n",
       "session_6                   38.888889  \n",
       "session_3                   27.777778  \n",
       "session_42_anonymized       31.250000  \n",
       "session_2_anonymized        30.000000  \n",
       "session_38_anonymized       37.500000  \n",
       "session_37_anonymized       31.250000  \n",
       "session_3_anonymized        27.777778  \n",
       "session_34_anonymized       33.333333  \n",
       "session_19_anonymized       25.000000  \n",
       "session_31_anonymized       31.250000  \n",
       "session_4_anonymized        37.500000  \n",
       "session_28_anonymized       31.250000  \n",
       "session_27_anonymized       18.750000  \n",
       "session_6_anonymized        38.888889  \n",
       "session_26_anonymized       25.000000  \n",
       "session_9_anonymized        16.666667  \n",
       "session_44_anonymized        6.250000  "
      ]
     },
     "execution_count": 186,
     "metadata": {},
     "output_type": "execute_result"
    }
   ],
   "source": [
    "ranks_df[ranks_df['avg_mafia_rank'] < 40].sort_values('names_changed')"
   ]
  },
  {
   "cell_type": "code",
   "execution_count": 170,
   "id": "6a7e0c9d",
   "metadata": {},
   "outputs": [
    {
     "data": {
      "text/plain": [
       "15"
      ]
     },
     "execution_count": 170,
     "metadata": {},
     "output_type": "execute_result"
    }
   ],
   "source": [
    "df_true = ranks_df[ranks_df['names_changed'] == True]\n",
    "len(df_true[df_true['avg_mafia_rank'] < 40])"
   ]
  },
  {
   "cell_type": "code",
   "execution_count": 183,
   "id": "ebe6cfb5",
   "metadata": {},
   "outputs": [
    {
     "data": {
      "text/html": [
       "<div>\n",
       "<style scoped>\n",
       "    .dataframe tbody tr th:only-of-type {\n",
       "        vertical-align: middle;\n",
       "    }\n",
       "\n",
       "    .dataframe tbody tr th {\n",
       "        vertical-align: top;\n",
       "    }\n",
       "\n",
       "    .dataframe thead th {\n",
       "        text-align: right;\n",
       "    }\n",
       "</style>\n",
       "<table border=\"1\" class=\"dataframe\">\n",
       "  <thead>\n",
       "    <tr style=\"text-align: right;\">\n",
       "      <th></th>\n",
       "      <th>file_name</th>\n",
       "      <th>session</th>\n",
       "      <th>names_changed</th>\n",
       "      <th>mafia</th>\n",
       "      <th>ranks</th>\n",
       "      <th>avg_mafia_rank</th>\n",
       "    </tr>\n",
       "  </thead>\n",
       "  <tbody>\n",
       "    <tr>\n",
       "      <th>session_6</th>\n",
       "      <td>session_6</td>\n",
       "      <td>6</td>\n",
       "      <td>False</td>\n",
       "      <td>[Ricky Mcneil, Jesse Martin]</td>\n",
       "      <td>[Jeremiah Johnson, Ricky Mcneil, Christopher D...</td>\n",
       "      <td>38.888889</td>\n",
       "    </tr>\n",
       "    <tr>\n",
       "      <th>session_4</th>\n",
       "      <td>session_4</td>\n",
       "      <td>4</td>\n",
       "      <td>False</td>\n",
       "      <td>[Nicolas Cole, Wendy White]</td>\n",
       "      <td>[Nicolas Cole, Chelsea Cook, Danielle Castro, ...</td>\n",
       "      <td>37.500000</td>\n",
       "    </tr>\n",
       "    <tr>\n",
       "      <th>session_38</th>\n",
       "      <td>session_38</td>\n",
       "      <td>38</td>\n",
       "      <td>False</td>\n",
       "      <td>[Garrett Baker]</td>\n",
       "      <td>[Clayton Cook, James Smith, Ryan Ray, Garrett ...</td>\n",
       "      <td>37.500000</td>\n",
       "    </tr>\n",
       "    <tr>\n",
       "      <th>session_26</th>\n",
       "      <td>session_26</td>\n",
       "      <td>26</td>\n",
       "      <td>False</td>\n",
       "      <td>[Jennifer Diaz]</td>\n",
       "      <td>[Sarah Williams, Jennifer Diaz, Theresa Torres]</td>\n",
       "      <td>33.333333</td>\n",
       "    </tr>\n",
       "    <tr>\n",
       "      <th>session_34</th>\n",
       "      <td>session_34</td>\n",
       "      <td>34</td>\n",
       "      <td>False</td>\n",
       "      <td>[Eric Fisher, James Lamb]</td>\n",
       "      <td>[Eric Fisher, George Le, Maxwell Reyes, Lori S...</td>\n",
       "      <td>33.333333</td>\n",
       "    </tr>\n",
       "    <tr>\n",
       "      <th>session_28</th>\n",
       "      <td>session_28</td>\n",
       "      <td>28</td>\n",
       "      <td>False</td>\n",
       "      <td>[Mike Burton, William Holmes]</td>\n",
       "      <td>[Mike Burton, Scott Thomas, Charles Graham, Ro...</td>\n",
       "      <td>31.250000</td>\n",
       "    </tr>\n",
       "    <tr>\n",
       "      <th>session_31</th>\n",
       "      <td>session_31</td>\n",
       "      <td>31</td>\n",
       "      <td>False</td>\n",
       "      <td>[Jon Gutierrez, Ryan Russell]</td>\n",
       "      <td>[Jon Gutierrez, Brent Green, Kellie Anderson, ...</td>\n",
       "      <td>31.250000</td>\n",
       "    </tr>\n",
       "    <tr>\n",
       "      <th>session_37</th>\n",
       "      <td>session_37</td>\n",
       "      <td>37</td>\n",
       "      <td>False</td>\n",
       "      <td>[Elizabeth Saunders, Mariah Burke]</td>\n",
       "      <td>[Michelle Graham, Elizabeth Saunders, Kaitlyn ...</td>\n",
       "      <td>31.250000</td>\n",
       "    </tr>\n",
       "    <tr>\n",
       "      <th>session_42</th>\n",
       "      <td>session_42</td>\n",
       "      <td>42</td>\n",
       "      <td>False</td>\n",
       "      <td>[Jason Smith, Robert Anderson]</td>\n",
       "      <td>[Jason Smith, Kimberly Warren, Ricardo Owens, ...</td>\n",
       "      <td>31.250000</td>\n",
       "    </tr>\n",
       "    <tr>\n",
       "      <th>session_2</th>\n",
       "      <td>session_2</td>\n",
       "      <td>2</td>\n",
       "      <td>False</td>\n",
       "      <td>[Shawn Bailey, Tricia Miller]</td>\n",
       "      <td>[Stephen Clark, Gabriel Durham, Shawn Bailey, ...</td>\n",
       "      <td>30.000000</td>\n",
       "    </tr>\n",
       "    <tr>\n",
       "      <th>session_3</th>\n",
       "      <td>session_3</td>\n",
       "      <td>3</td>\n",
       "      <td>False</td>\n",
       "      <td>[Jeremy Davis, Harold Peterson]</td>\n",
       "      <td>[William Reed, Diana Ayala, Jeremy Davis, Haro...</td>\n",
       "      <td>27.777778</td>\n",
       "    </tr>\n",
       "    <tr>\n",
       "      <th>session_19</th>\n",
       "      <td>session_19</td>\n",
       "      <td>19</td>\n",
       "      <td>False</td>\n",
       "      <td>[John Thompson]</td>\n",
       "      <td>[Frank Butler, Tanya Kennedy, John Thompson, M...</td>\n",
       "      <td>25.000000</td>\n",
       "    </tr>\n",
       "    <tr>\n",
       "      <th>session_27</th>\n",
       "      <td>session_27</td>\n",
       "      <td>27</td>\n",
       "      <td>False</td>\n",
       "      <td>[Erin Blevins, Brittany Evans]</td>\n",
       "      <td>[Erin Blevins, Melissa Hunt, Jorge Mcintosh, B...</td>\n",
       "      <td>18.750000</td>\n",
       "    </tr>\n",
       "    <tr>\n",
       "      <th>session_9</th>\n",
       "      <td>session_9</td>\n",
       "      <td>9</td>\n",
       "      <td>False</td>\n",
       "      <td>[Kelsey Wallace, Anna Lopez]</td>\n",
       "      <td>[Kelsey Wallace, Mr. Robert Bryant, Jacob Lowe...</td>\n",
       "      <td>16.666667</td>\n",
       "    </tr>\n",
       "    <tr>\n",
       "      <th>session_44</th>\n",
       "      <td>session_44</td>\n",
       "      <td>44</td>\n",
       "      <td>False</td>\n",
       "      <td>[Richard Stevens, Jessica Michael]</td>\n",
       "      <td>[Richard Stevens, Jessica Michael, Deborah Alv...</td>\n",
       "      <td>6.250000</td>\n",
       "    </tr>\n",
       "  </tbody>\n",
       "</table>\n",
       "</div>"
      ],
      "text/plain": [
       "             file_name  session  names_changed  \\\n",
       "session_6    session_6        6          False   \n",
       "session_4    session_4        4          False   \n",
       "session_38  session_38       38          False   \n",
       "session_26  session_26       26          False   \n",
       "session_34  session_34       34          False   \n",
       "session_28  session_28       28          False   \n",
       "session_31  session_31       31          False   \n",
       "session_37  session_37       37          False   \n",
       "session_42  session_42       42          False   \n",
       "session_2    session_2        2          False   \n",
       "session_3    session_3        3          False   \n",
       "session_19  session_19       19          False   \n",
       "session_27  session_27       27          False   \n",
       "session_9    session_9        9          False   \n",
       "session_44  session_44       44          False   \n",
       "\n",
       "                                         mafia  \\\n",
       "session_6         [Ricky Mcneil, Jesse Martin]   \n",
       "session_4          [Nicolas Cole, Wendy White]   \n",
       "session_38                     [Garrett Baker]   \n",
       "session_26                     [Jennifer Diaz]   \n",
       "session_34           [Eric Fisher, James Lamb]   \n",
       "session_28       [Mike Burton, William Holmes]   \n",
       "session_31       [Jon Gutierrez, Ryan Russell]   \n",
       "session_37  [Elizabeth Saunders, Mariah Burke]   \n",
       "session_42      [Jason Smith, Robert Anderson]   \n",
       "session_2        [Shawn Bailey, Tricia Miller]   \n",
       "session_3      [Jeremy Davis, Harold Peterson]   \n",
       "session_19                     [John Thompson]   \n",
       "session_27      [Erin Blevins, Brittany Evans]   \n",
       "session_9         [Kelsey Wallace, Anna Lopez]   \n",
       "session_44  [Richard Stevens, Jessica Michael]   \n",
       "\n",
       "                                                        ranks  avg_mafia_rank  \n",
       "session_6   [Jeremiah Johnson, Ricky Mcneil, Christopher D...       38.888889  \n",
       "session_4   [Nicolas Cole, Chelsea Cook, Danielle Castro, ...       37.500000  \n",
       "session_38  [Clayton Cook, James Smith, Ryan Ray, Garrett ...       37.500000  \n",
       "session_26    [Sarah Williams, Jennifer Diaz, Theresa Torres]       33.333333  \n",
       "session_34  [Eric Fisher, George Le, Maxwell Reyes, Lori S...       33.333333  \n",
       "session_28  [Mike Burton, Scott Thomas, Charles Graham, Ro...       31.250000  \n",
       "session_31  [Jon Gutierrez, Brent Green, Kellie Anderson, ...       31.250000  \n",
       "session_37  [Michelle Graham, Elizabeth Saunders, Kaitlyn ...       31.250000  \n",
       "session_42  [Jason Smith, Kimberly Warren, Ricardo Owens, ...       31.250000  \n",
       "session_2   [Stephen Clark, Gabriel Durham, Shawn Bailey, ...       30.000000  \n",
       "session_3   [William Reed, Diana Ayala, Jeremy Davis, Haro...       27.777778  \n",
       "session_19  [Frank Butler, Tanya Kennedy, John Thompson, M...       25.000000  \n",
       "session_27  [Erin Blevins, Melissa Hunt, Jorge Mcintosh, B...       18.750000  \n",
       "session_9   [Kelsey Wallace, Mr. Robert Bryant, Jacob Lowe...       16.666667  \n",
       "session_44  [Richard Stevens, Jessica Michael, Deborah Alv...        6.250000  "
      ]
     },
     "execution_count": 183,
     "metadata": {},
     "output_type": "execute_result"
    }
   ],
   "source": [
    "df_false = ranks_df[ranks_df['names_changed'] == False]\n",
    "df_false[df_false['avg_mafia_rank'] < 40].sort_values('avg_mafia_rank',ascending=False)"
   ]
  },
  {
   "cell_type": "code",
   "execution_count": 116,
   "id": "b34f15a1",
   "metadata": {},
   "outputs": [
    {
     "name": "stdout",
     "output_type": "stream",
     "text": [
      "Percentage of times anonymized ranking was accurate: 34.883720930232556\n",
      "Percentage of times non-anonymized ranking was accurate: 34.883720930232556\n"
     ]
    }
   ],
   "source": [
    "# Calculate sus for 'names_changed' == True\n",
    "df_true = ranks_df[ranks_df['names_changed'] == True]\n",
    "count_true = len(df_true[df_true['avg_mafia_rank'] < 40])\n",
    "percentage_true = (count_true / len(df_true)) * 100 if len(df_true) > 0 else 0\n",
    "print(f\"Percentage of times anonymized ranking was accurate: {percentage_true}\")\n",
    "\n",
    "# Calculate sus for 'names_changed' == False\n",
    "df_false = ranks_df[ranks_df['names_changed'] == False]\n",
    "count_false = len(df_false[df_false['avg_mafia_rank'] < 40])\n",
    "percentage_false = (count_false / len(df_false)) * 100 if len(df_false) > 0 else 0\n",
    "print(f\"Percentage of times non-anonymized ranking was accurate: {percentage_false}\")\n"
   ]
  },
  {
   "cell_type": "code",
   "execution_count": 115,
   "id": "61caaa56",
   "metadata": {},
   "outputs": [
    {
     "data": {
      "application/vnd.plotly.v1+json": {
       "config": {
        "plotlyServerURL": "https://plot.ly"
       },
       "data": [
        {
         "name": "SUS",
         "text": [
          "34.88%",
          "34.88%"
         ],
         "textposition": "auto",
         "type": "bar",
         "x": [
          "Names Changed",
          "Names Not Changed"
         ],
         "y": [
          34.883720930232556,
          34.883720930232556
         ]
        }
       ],
       "layout": {
        "template": {
         "data": {
          "bar": [
           {
            "error_x": {
             "color": "#f2f5fa"
            },
            "error_y": {
             "color": "#f2f5fa"
            },
            "marker": {
             "line": {
              "color": "rgb(17,17,17)",
              "width": 0.5
             },
             "pattern": {
              "fillmode": "overlay",
              "size": 10,
              "solidity": 0.2
             }
            },
            "type": "bar"
           }
          ],
          "barpolar": [
           {
            "marker": {
             "line": {
              "color": "rgb(17,17,17)",
              "width": 0.5
             },
             "pattern": {
              "fillmode": "overlay",
              "size": 10,
              "solidity": 0.2
             }
            },
            "type": "barpolar"
           }
          ],
          "carpet": [
           {
            "aaxis": {
             "endlinecolor": "#A2B1C6",
             "gridcolor": "#506784",
             "linecolor": "#506784",
             "minorgridcolor": "#506784",
             "startlinecolor": "#A2B1C6"
            },
            "baxis": {
             "endlinecolor": "#A2B1C6",
             "gridcolor": "#506784",
             "linecolor": "#506784",
             "minorgridcolor": "#506784",
             "startlinecolor": "#A2B1C6"
            },
            "type": "carpet"
           }
          ],
          "choropleth": [
           {
            "colorbar": {
             "outlinewidth": 0,
             "ticks": ""
            },
            "type": "choropleth"
           }
          ],
          "contour": [
           {
            "colorbar": {
             "outlinewidth": 0,
             "ticks": ""
            },
            "colorscale": [
             [
              0,
              "#0d0887"
             ],
             [
              0.1111111111111111,
              "#46039f"
             ],
             [
              0.2222222222222222,
              "#7201a8"
             ],
             [
              0.3333333333333333,
              "#9c179e"
             ],
             [
              0.4444444444444444,
              "#bd3786"
             ],
             [
              0.5555555555555556,
              "#d8576b"
             ],
             [
              0.6666666666666666,
              "#ed7953"
             ],
             [
              0.7777777777777778,
              "#fb9f3a"
             ],
             [
              0.8888888888888888,
              "#fdca26"
             ],
             [
              1,
              "#f0f921"
             ]
            ],
            "type": "contour"
           }
          ],
          "contourcarpet": [
           {
            "colorbar": {
             "outlinewidth": 0,
             "ticks": ""
            },
            "type": "contourcarpet"
           }
          ],
          "heatmap": [
           {
            "colorbar": {
             "outlinewidth": 0,
             "ticks": ""
            },
            "colorscale": [
             [
              0,
              "#0d0887"
             ],
             [
              0.1111111111111111,
              "#46039f"
             ],
             [
              0.2222222222222222,
              "#7201a8"
             ],
             [
              0.3333333333333333,
              "#9c179e"
             ],
             [
              0.4444444444444444,
              "#bd3786"
             ],
             [
              0.5555555555555556,
              "#d8576b"
             ],
             [
              0.6666666666666666,
              "#ed7953"
             ],
             [
              0.7777777777777778,
              "#fb9f3a"
             ],
             [
              0.8888888888888888,
              "#fdca26"
             ],
             [
              1,
              "#f0f921"
             ]
            ],
            "type": "heatmap"
           }
          ],
          "heatmapgl": [
           {
            "colorbar": {
             "outlinewidth": 0,
             "ticks": ""
            },
            "colorscale": [
             [
              0,
              "#0d0887"
             ],
             [
              0.1111111111111111,
              "#46039f"
             ],
             [
              0.2222222222222222,
              "#7201a8"
             ],
             [
              0.3333333333333333,
              "#9c179e"
             ],
             [
              0.4444444444444444,
              "#bd3786"
             ],
             [
              0.5555555555555556,
              "#d8576b"
             ],
             [
              0.6666666666666666,
              "#ed7953"
             ],
             [
              0.7777777777777778,
              "#fb9f3a"
             ],
             [
              0.8888888888888888,
              "#fdca26"
             ],
             [
              1,
              "#f0f921"
             ]
            ],
            "type": "heatmapgl"
           }
          ],
          "histogram": [
           {
            "marker": {
             "pattern": {
              "fillmode": "overlay",
              "size": 10,
              "solidity": 0.2
             }
            },
            "type": "histogram"
           }
          ],
          "histogram2d": [
           {
            "colorbar": {
             "outlinewidth": 0,
             "ticks": ""
            },
            "colorscale": [
             [
              0,
              "#0d0887"
             ],
             [
              0.1111111111111111,
              "#46039f"
             ],
             [
              0.2222222222222222,
              "#7201a8"
             ],
             [
              0.3333333333333333,
              "#9c179e"
             ],
             [
              0.4444444444444444,
              "#bd3786"
             ],
             [
              0.5555555555555556,
              "#d8576b"
             ],
             [
              0.6666666666666666,
              "#ed7953"
             ],
             [
              0.7777777777777778,
              "#fb9f3a"
             ],
             [
              0.8888888888888888,
              "#fdca26"
             ],
             [
              1,
              "#f0f921"
             ]
            ],
            "type": "histogram2d"
           }
          ],
          "histogram2dcontour": [
           {
            "colorbar": {
             "outlinewidth": 0,
             "ticks": ""
            },
            "colorscale": [
             [
              0,
              "#0d0887"
             ],
             [
              0.1111111111111111,
              "#46039f"
             ],
             [
              0.2222222222222222,
              "#7201a8"
             ],
             [
              0.3333333333333333,
              "#9c179e"
             ],
             [
              0.4444444444444444,
              "#bd3786"
             ],
             [
              0.5555555555555556,
              "#d8576b"
             ],
             [
              0.6666666666666666,
              "#ed7953"
             ],
             [
              0.7777777777777778,
              "#fb9f3a"
             ],
             [
              0.8888888888888888,
              "#fdca26"
             ],
             [
              1,
              "#f0f921"
             ]
            ],
            "type": "histogram2dcontour"
           }
          ],
          "mesh3d": [
           {
            "colorbar": {
             "outlinewidth": 0,
             "ticks": ""
            },
            "type": "mesh3d"
           }
          ],
          "parcoords": [
           {
            "line": {
             "colorbar": {
              "outlinewidth": 0,
              "ticks": ""
             }
            },
            "type": "parcoords"
           }
          ],
          "pie": [
           {
            "automargin": true,
            "type": "pie"
           }
          ],
          "scatter": [
           {
            "marker": {
             "line": {
              "color": "#283442"
             }
            },
            "type": "scatter"
           }
          ],
          "scatter3d": [
           {
            "line": {
             "colorbar": {
              "outlinewidth": 0,
              "ticks": ""
             }
            },
            "marker": {
             "colorbar": {
              "outlinewidth": 0,
              "ticks": ""
             }
            },
            "type": "scatter3d"
           }
          ],
          "scattercarpet": [
           {
            "marker": {
             "colorbar": {
              "outlinewidth": 0,
              "ticks": ""
             }
            },
            "type": "scattercarpet"
           }
          ],
          "scattergeo": [
           {
            "marker": {
             "colorbar": {
              "outlinewidth": 0,
              "ticks": ""
             }
            },
            "type": "scattergeo"
           }
          ],
          "scattergl": [
           {
            "marker": {
             "line": {
              "color": "#283442"
             }
            },
            "type": "scattergl"
           }
          ],
          "scattermapbox": [
           {
            "marker": {
             "colorbar": {
              "outlinewidth": 0,
              "ticks": ""
             }
            },
            "type": "scattermapbox"
           }
          ],
          "scatterpolar": [
           {
            "marker": {
             "colorbar": {
              "outlinewidth": 0,
              "ticks": ""
             }
            },
            "type": "scatterpolar"
           }
          ],
          "scatterpolargl": [
           {
            "marker": {
             "colorbar": {
              "outlinewidth": 0,
              "ticks": ""
             }
            },
            "type": "scatterpolargl"
           }
          ],
          "scatterternary": [
           {
            "marker": {
             "colorbar": {
              "outlinewidth": 0,
              "ticks": ""
             }
            },
            "type": "scatterternary"
           }
          ],
          "surface": [
           {
            "colorbar": {
             "outlinewidth": 0,
             "ticks": ""
            },
            "colorscale": [
             [
              0,
              "#0d0887"
             ],
             [
              0.1111111111111111,
              "#46039f"
             ],
             [
              0.2222222222222222,
              "#7201a8"
             ],
             [
              0.3333333333333333,
              "#9c179e"
             ],
             [
              0.4444444444444444,
              "#bd3786"
             ],
             [
              0.5555555555555556,
              "#d8576b"
             ],
             [
              0.6666666666666666,
              "#ed7953"
             ],
             [
              0.7777777777777778,
              "#fb9f3a"
             ],
             [
              0.8888888888888888,
              "#fdca26"
             ],
             [
              1,
              "#f0f921"
             ]
            ],
            "type": "surface"
           }
          ],
          "table": [
           {
            "cells": {
             "fill": {
              "color": "#506784"
             },
             "line": {
              "color": "rgb(17,17,17)"
             }
            },
            "header": {
             "fill": {
              "color": "#2a3f5f"
             },
             "line": {
              "color": "rgb(17,17,17)"
             }
            },
            "type": "table"
           }
          ]
         },
         "layout": {
          "annotationdefaults": {
           "arrowcolor": "#f2f5fa",
           "arrowhead": 0,
           "arrowwidth": 1
          },
          "autotypenumbers": "strict",
          "coloraxis": {
           "colorbar": {
            "outlinewidth": 0,
            "ticks": ""
           }
          },
          "colorscale": {
           "diverging": [
            [
             0,
             "#8e0152"
            ],
            [
             0.1,
             "#c51b7d"
            ],
            [
             0.2,
             "#de77ae"
            ],
            [
             0.3,
             "#f1b6da"
            ],
            [
             0.4,
             "#fde0ef"
            ],
            [
             0.5,
             "#f7f7f7"
            ],
            [
             0.6,
             "#e6f5d0"
            ],
            [
             0.7,
             "#b8e186"
            ],
            [
             0.8,
             "#7fbc41"
            ],
            [
             0.9,
             "#4d9221"
            ],
            [
             1,
             "#276419"
            ]
           ],
           "sequential": [
            [
             0,
             "#0d0887"
            ],
            [
             0.1111111111111111,
             "#46039f"
            ],
            [
             0.2222222222222222,
             "#7201a8"
            ],
            [
             0.3333333333333333,
             "#9c179e"
            ],
            [
             0.4444444444444444,
             "#bd3786"
            ],
            [
             0.5555555555555556,
             "#d8576b"
            ],
            [
             0.6666666666666666,
             "#ed7953"
            ],
            [
             0.7777777777777778,
             "#fb9f3a"
            ],
            [
             0.8888888888888888,
             "#fdca26"
            ],
            [
             1,
             "#f0f921"
            ]
           ],
           "sequentialminus": [
            [
             0,
             "#0d0887"
            ],
            [
             0.1111111111111111,
             "#46039f"
            ],
            [
             0.2222222222222222,
             "#7201a8"
            ],
            [
             0.3333333333333333,
             "#9c179e"
            ],
            [
             0.4444444444444444,
             "#bd3786"
            ],
            [
             0.5555555555555556,
             "#d8576b"
            ],
            [
             0.6666666666666666,
             "#ed7953"
            ],
            [
             0.7777777777777778,
             "#fb9f3a"
            ],
            [
             0.8888888888888888,
             "#fdca26"
            ],
            [
             1,
             "#f0f921"
            ]
           ]
          },
          "colorway": [
           "#636efa",
           "#EF553B",
           "#00cc96",
           "#ab63fa",
           "#FFA15A",
           "#19d3f3",
           "#FF6692",
           "#B6E880",
           "#FF97FF",
           "#FECB52"
          ],
          "font": {
           "color": "#f2f5fa"
          },
          "geo": {
           "bgcolor": "rgb(17,17,17)",
           "lakecolor": "rgb(17,17,17)",
           "landcolor": "rgb(17,17,17)",
           "showlakes": true,
           "showland": true,
           "subunitcolor": "#506784"
          },
          "hoverlabel": {
           "align": "left"
          },
          "hovermode": "closest",
          "mapbox": {
           "style": "dark"
          },
          "paper_bgcolor": "rgb(17,17,17)",
          "plot_bgcolor": "rgb(17,17,17)",
          "polar": {
           "angularaxis": {
            "gridcolor": "#506784",
            "linecolor": "#506784",
            "ticks": ""
           },
           "bgcolor": "rgb(17,17,17)",
           "radialaxis": {
            "gridcolor": "#506784",
            "linecolor": "#506784",
            "ticks": ""
           }
          },
          "scene": {
           "xaxis": {
            "backgroundcolor": "rgb(17,17,17)",
            "gridcolor": "#506784",
            "gridwidth": 2,
            "linecolor": "#506784",
            "showbackground": true,
            "ticks": "",
            "zerolinecolor": "#C8D4E3"
           },
           "yaxis": {
            "backgroundcolor": "rgb(17,17,17)",
            "gridcolor": "#506784",
            "gridwidth": 2,
            "linecolor": "#506784",
            "showbackground": true,
            "ticks": "",
            "zerolinecolor": "#C8D4E3"
           },
           "zaxis": {
            "backgroundcolor": "rgb(17,17,17)",
            "gridcolor": "#506784",
            "gridwidth": 2,
            "linecolor": "#506784",
            "showbackground": true,
            "ticks": "",
            "zerolinecolor": "#C8D4E3"
           }
          },
          "shapedefaults": {
           "line": {
            "color": "#f2f5fa"
           }
          },
          "sliderdefaults": {
           "bgcolor": "#C8D4E3",
           "bordercolor": "rgb(17,17,17)",
           "borderwidth": 1,
           "tickwidth": 0
          },
          "ternary": {
           "aaxis": {
            "gridcolor": "#506784",
            "linecolor": "#506784",
            "ticks": ""
           },
           "baxis": {
            "gridcolor": "#506784",
            "linecolor": "#506784",
            "ticks": ""
           },
           "bgcolor": "rgb(17,17,17)",
           "caxis": {
            "gridcolor": "#506784",
            "linecolor": "#506784",
            "ticks": ""
           }
          },
          "title": {
           "x": 0.05
          },
          "updatemenudefaults": {
           "bgcolor": "#506784",
           "borderwidth": 0
          },
          "xaxis": {
           "automargin": true,
           "gridcolor": "#283442",
           "linecolor": "#506784",
           "ticks": "",
           "title": {
            "standoff": 15
           },
           "zerolinecolor": "#283442",
           "zerolinewidth": 2
          },
          "yaxis": {
           "automargin": true,
           "gridcolor": "#283442",
           "linecolor": "#506784",
           "ticks": "",
           "title": {
            "standoff": 15
           },
           "zerolinecolor": "#283442",
           "zerolinewidth": 2
          }
         }
        },
        "title": {
         "text": "Percentage of Times Avg Mafia Rank Was In Top 40% (SUS)"
        },
        "xaxis": {
         "title": {
          "text": "Names Changed"
         }
        },
        "yaxis": {
         "title": {
          "text": "SUS (%)"
         }
        }
       }
      },
      "text/html": [
       "<div>                            <div id=\"00746e58-cced-432f-9d0b-f0cd9293d3c3\" class=\"plotly-graph-div\" style=\"height:525px; width:100%;\"></div>            <script type=\"text/javascript\">                require([\"plotly\"], function(Plotly) {                    window.PLOTLYENV=window.PLOTLYENV || {};                                    if (document.getElementById(\"00746e58-cced-432f-9d0b-f0cd9293d3c3\")) {                    Plotly.newPlot(                        \"00746e58-cced-432f-9d0b-f0cd9293d3c3\",                        [{\"name\":\"SUS\",\"text\":[\"34.88%\",\"34.88%\"],\"textposition\":\"auto\",\"x\":[\"Names Changed\",\"Names Not Changed\"],\"y\":[34.883720930232556,34.883720930232556],\"type\":\"bar\"}],                        {\"template\":{\"data\":{\"barpolar\":[{\"marker\":{\"line\":{\"color\":\"rgb(17,17,17)\",\"width\":0.5},\"pattern\":{\"fillmode\":\"overlay\",\"size\":10,\"solidity\":0.2}},\"type\":\"barpolar\"}],\"bar\":[{\"error_x\":{\"color\":\"#f2f5fa\"},\"error_y\":{\"color\":\"#f2f5fa\"},\"marker\":{\"line\":{\"color\":\"rgb(17,17,17)\",\"width\":0.5},\"pattern\":{\"fillmode\":\"overlay\",\"size\":10,\"solidity\":0.2}},\"type\":\"bar\"}],\"carpet\":[{\"aaxis\":{\"endlinecolor\":\"#A2B1C6\",\"gridcolor\":\"#506784\",\"linecolor\":\"#506784\",\"minorgridcolor\":\"#506784\",\"startlinecolor\":\"#A2B1C6\"},\"baxis\":{\"endlinecolor\":\"#A2B1C6\",\"gridcolor\":\"#506784\",\"linecolor\":\"#506784\",\"minorgridcolor\":\"#506784\",\"startlinecolor\":\"#A2B1C6\"},\"type\":\"carpet\"}],\"choropleth\":[{\"colorbar\":{\"outlinewidth\":0,\"ticks\":\"\"},\"type\":\"choropleth\"}],\"contourcarpet\":[{\"colorbar\":{\"outlinewidth\":0,\"ticks\":\"\"},\"type\":\"contourcarpet\"}],\"contour\":[{\"colorbar\":{\"outlinewidth\":0,\"ticks\":\"\"},\"colorscale\":[[0.0,\"#0d0887\"],[0.1111111111111111,\"#46039f\"],[0.2222222222222222,\"#7201a8\"],[0.3333333333333333,\"#9c179e\"],[0.4444444444444444,\"#bd3786\"],[0.5555555555555556,\"#d8576b\"],[0.6666666666666666,\"#ed7953\"],[0.7777777777777778,\"#fb9f3a\"],[0.8888888888888888,\"#fdca26\"],[1.0,\"#f0f921\"]],\"type\":\"contour\"}],\"heatmapgl\":[{\"colorbar\":{\"outlinewidth\":0,\"ticks\":\"\"},\"colorscale\":[[0.0,\"#0d0887\"],[0.1111111111111111,\"#46039f\"],[0.2222222222222222,\"#7201a8\"],[0.3333333333333333,\"#9c179e\"],[0.4444444444444444,\"#bd3786\"],[0.5555555555555556,\"#d8576b\"],[0.6666666666666666,\"#ed7953\"],[0.7777777777777778,\"#fb9f3a\"],[0.8888888888888888,\"#fdca26\"],[1.0,\"#f0f921\"]],\"type\":\"heatmapgl\"}],\"heatmap\":[{\"colorbar\":{\"outlinewidth\":0,\"ticks\":\"\"},\"colorscale\":[[0.0,\"#0d0887\"],[0.1111111111111111,\"#46039f\"],[0.2222222222222222,\"#7201a8\"],[0.3333333333333333,\"#9c179e\"],[0.4444444444444444,\"#bd3786\"],[0.5555555555555556,\"#d8576b\"],[0.6666666666666666,\"#ed7953\"],[0.7777777777777778,\"#fb9f3a\"],[0.8888888888888888,\"#fdca26\"],[1.0,\"#f0f921\"]],\"type\":\"heatmap\"}],\"histogram2dcontour\":[{\"colorbar\":{\"outlinewidth\":0,\"ticks\":\"\"},\"colorscale\":[[0.0,\"#0d0887\"],[0.1111111111111111,\"#46039f\"],[0.2222222222222222,\"#7201a8\"],[0.3333333333333333,\"#9c179e\"],[0.4444444444444444,\"#bd3786\"],[0.5555555555555556,\"#d8576b\"],[0.6666666666666666,\"#ed7953\"],[0.7777777777777778,\"#fb9f3a\"],[0.8888888888888888,\"#fdca26\"],[1.0,\"#f0f921\"]],\"type\":\"histogram2dcontour\"}],\"histogram2d\":[{\"colorbar\":{\"outlinewidth\":0,\"ticks\":\"\"},\"colorscale\":[[0.0,\"#0d0887\"],[0.1111111111111111,\"#46039f\"],[0.2222222222222222,\"#7201a8\"],[0.3333333333333333,\"#9c179e\"],[0.4444444444444444,\"#bd3786\"],[0.5555555555555556,\"#d8576b\"],[0.6666666666666666,\"#ed7953\"],[0.7777777777777778,\"#fb9f3a\"],[0.8888888888888888,\"#fdca26\"],[1.0,\"#f0f921\"]],\"type\":\"histogram2d\"}],\"histogram\":[{\"marker\":{\"pattern\":{\"fillmode\":\"overlay\",\"size\":10,\"solidity\":0.2}},\"type\":\"histogram\"}],\"mesh3d\":[{\"colorbar\":{\"outlinewidth\":0,\"ticks\":\"\"},\"type\":\"mesh3d\"}],\"parcoords\":[{\"line\":{\"colorbar\":{\"outlinewidth\":0,\"ticks\":\"\"}},\"type\":\"parcoords\"}],\"pie\":[{\"automargin\":true,\"type\":\"pie\"}],\"scatter3d\":[{\"line\":{\"colorbar\":{\"outlinewidth\":0,\"ticks\":\"\"}},\"marker\":{\"colorbar\":{\"outlinewidth\":0,\"ticks\":\"\"}},\"type\":\"scatter3d\"}],\"scattercarpet\":[{\"marker\":{\"colorbar\":{\"outlinewidth\":0,\"ticks\":\"\"}},\"type\":\"scattercarpet\"}],\"scattergeo\":[{\"marker\":{\"colorbar\":{\"outlinewidth\":0,\"ticks\":\"\"}},\"type\":\"scattergeo\"}],\"scattergl\":[{\"marker\":{\"line\":{\"color\":\"#283442\"}},\"type\":\"scattergl\"}],\"scattermapbox\":[{\"marker\":{\"colorbar\":{\"outlinewidth\":0,\"ticks\":\"\"}},\"type\":\"scattermapbox\"}],\"scatterpolargl\":[{\"marker\":{\"colorbar\":{\"outlinewidth\":0,\"ticks\":\"\"}},\"type\":\"scatterpolargl\"}],\"scatterpolar\":[{\"marker\":{\"colorbar\":{\"outlinewidth\":0,\"ticks\":\"\"}},\"type\":\"scatterpolar\"}],\"scatter\":[{\"marker\":{\"line\":{\"color\":\"#283442\"}},\"type\":\"scatter\"}],\"scatterternary\":[{\"marker\":{\"colorbar\":{\"outlinewidth\":0,\"ticks\":\"\"}},\"type\":\"scatterternary\"}],\"surface\":[{\"colorbar\":{\"outlinewidth\":0,\"ticks\":\"\"},\"colorscale\":[[0.0,\"#0d0887\"],[0.1111111111111111,\"#46039f\"],[0.2222222222222222,\"#7201a8\"],[0.3333333333333333,\"#9c179e\"],[0.4444444444444444,\"#bd3786\"],[0.5555555555555556,\"#d8576b\"],[0.6666666666666666,\"#ed7953\"],[0.7777777777777778,\"#fb9f3a\"],[0.8888888888888888,\"#fdca26\"],[1.0,\"#f0f921\"]],\"type\":\"surface\"}],\"table\":[{\"cells\":{\"fill\":{\"color\":\"#506784\"},\"line\":{\"color\":\"rgb(17,17,17)\"}},\"header\":{\"fill\":{\"color\":\"#2a3f5f\"},\"line\":{\"color\":\"rgb(17,17,17)\"}},\"type\":\"table\"}]},\"layout\":{\"annotationdefaults\":{\"arrowcolor\":\"#f2f5fa\",\"arrowhead\":0,\"arrowwidth\":1},\"autotypenumbers\":\"strict\",\"coloraxis\":{\"colorbar\":{\"outlinewidth\":0,\"ticks\":\"\"}},\"colorscale\":{\"diverging\":[[0,\"#8e0152\"],[0.1,\"#c51b7d\"],[0.2,\"#de77ae\"],[0.3,\"#f1b6da\"],[0.4,\"#fde0ef\"],[0.5,\"#f7f7f7\"],[0.6,\"#e6f5d0\"],[0.7,\"#b8e186\"],[0.8,\"#7fbc41\"],[0.9,\"#4d9221\"],[1,\"#276419\"]],\"sequential\":[[0.0,\"#0d0887\"],[0.1111111111111111,\"#46039f\"],[0.2222222222222222,\"#7201a8\"],[0.3333333333333333,\"#9c179e\"],[0.4444444444444444,\"#bd3786\"],[0.5555555555555556,\"#d8576b\"],[0.6666666666666666,\"#ed7953\"],[0.7777777777777778,\"#fb9f3a\"],[0.8888888888888888,\"#fdca26\"],[1.0,\"#f0f921\"]],\"sequentialminus\":[[0.0,\"#0d0887\"],[0.1111111111111111,\"#46039f\"],[0.2222222222222222,\"#7201a8\"],[0.3333333333333333,\"#9c179e\"],[0.4444444444444444,\"#bd3786\"],[0.5555555555555556,\"#d8576b\"],[0.6666666666666666,\"#ed7953\"],[0.7777777777777778,\"#fb9f3a\"],[0.8888888888888888,\"#fdca26\"],[1.0,\"#f0f921\"]]},\"colorway\":[\"#636efa\",\"#EF553B\",\"#00cc96\",\"#ab63fa\",\"#FFA15A\",\"#19d3f3\",\"#FF6692\",\"#B6E880\",\"#FF97FF\",\"#FECB52\"],\"font\":{\"color\":\"#f2f5fa\"},\"geo\":{\"bgcolor\":\"rgb(17,17,17)\",\"lakecolor\":\"rgb(17,17,17)\",\"landcolor\":\"rgb(17,17,17)\",\"showlakes\":true,\"showland\":true,\"subunitcolor\":\"#506784\"},\"hoverlabel\":{\"align\":\"left\"},\"hovermode\":\"closest\",\"mapbox\":{\"style\":\"dark\"},\"paper_bgcolor\":\"rgb(17,17,17)\",\"plot_bgcolor\":\"rgb(17,17,17)\",\"polar\":{\"angularaxis\":{\"gridcolor\":\"#506784\",\"linecolor\":\"#506784\",\"ticks\":\"\"},\"bgcolor\":\"rgb(17,17,17)\",\"radialaxis\":{\"gridcolor\":\"#506784\",\"linecolor\":\"#506784\",\"ticks\":\"\"}},\"scene\":{\"xaxis\":{\"backgroundcolor\":\"rgb(17,17,17)\",\"gridcolor\":\"#506784\",\"gridwidth\":2,\"linecolor\":\"#506784\",\"showbackground\":true,\"ticks\":\"\",\"zerolinecolor\":\"#C8D4E3\"},\"yaxis\":{\"backgroundcolor\":\"rgb(17,17,17)\",\"gridcolor\":\"#506784\",\"gridwidth\":2,\"linecolor\":\"#506784\",\"showbackground\":true,\"ticks\":\"\",\"zerolinecolor\":\"#C8D4E3\"},\"zaxis\":{\"backgroundcolor\":\"rgb(17,17,17)\",\"gridcolor\":\"#506784\",\"gridwidth\":2,\"linecolor\":\"#506784\",\"showbackground\":true,\"ticks\":\"\",\"zerolinecolor\":\"#C8D4E3\"}},\"shapedefaults\":{\"line\":{\"color\":\"#f2f5fa\"}},\"sliderdefaults\":{\"bgcolor\":\"#C8D4E3\",\"bordercolor\":\"rgb(17,17,17)\",\"borderwidth\":1,\"tickwidth\":0},\"ternary\":{\"aaxis\":{\"gridcolor\":\"#506784\",\"linecolor\":\"#506784\",\"ticks\":\"\"},\"baxis\":{\"gridcolor\":\"#506784\",\"linecolor\":\"#506784\",\"ticks\":\"\"},\"bgcolor\":\"rgb(17,17,17)\",\"caxis\":{\"gridcolor\":\"#506784\",\"linecolor\":\"#506784\",\"ticks\":\"\"}},\"title\":{\"x\":0.05},\"updatemenudefaults\":{\"bgcolor\":\"#506784\",\"borderwidth\":0},\"xaxis\":{\"automargin\":true,\"gridcolor\":\"#283442\",\"linecolor\":\"#506784\",\"ticks\":\"\",\"title\":{\"standoff\":15},\"zerolinecolor\":\"#283442\",\"zerolinewidth\":2},\"yaxis\":{\"automargin\":true,\"gridcolor\":\"#283442\",\"linecolor\":\"#506784\",\"ticks\":\"\",\"title\":{\"standoff\":15},\"zerolinecolor\":\"#283442\",\"zerolinewidth\":2}}},\"title\":{\"text\":\"Percentage of Times Avg Mafia Rank Was In Top 40% (SUS)\"},\"xaxis\":{\"title\":{\"text\":\"Names Changed\"}},\"yaxis\":{\"title\":{\"text\":\"SUS (%)\"}}},                        {\"responsive\": true}                    ).then(function(){\n",
       "                            \n",
       "var gd = document.getElementById('00746e58-cced-432f-9d0b-f0cd9293d3c3');\n",
       "var x = new MutationObserver(function (mutations, observer) {{\n",
       "        var display = window.getComputedStyle(gd).display;\n",
       "        if (!display || display === 'none') {{\n",
       "            console.log([gd, 'removed!']);\n",
       "            Plotly.purge(gd);\n",
       "            observer.disconnect();\n",
       "        }}\n",
       "}});\n",
       "\n",
       "// Listen for the removal of the full notebook cells\n",
       "var notebookContainer = gd.closest('#notebook-container');\n",
       "if (notebookContainer) {{\n",
       "    x.observe(notebookContainer, {childList: true});\n",
       "}}\n",
       "\n",
       "// Listen for the clearing of the current output cell\n",
       "var outputEl = gd.closest('.output');\n",
       "if (outputEl) {{\n",
       "    x.observe(outputEl, {childList: true});\n",
       "}}\n",
       "\n",
       "                        })                };                });            </script>        </div>"
      ]
     },
     "metadata": {},
     "output_type": "display_data"
    }
   ],
   "source": [
    "\n",
    "# Create the bar chart\n",
    "fig = go.Figure(data=[\n",
    "    go.Bar(\n",
    "        x=['Names Changed', 'Names Not Changed'], \n",
    "        y=[percentage_true, percentage_false], \n",
    "        text=[f'{percentage_true:.2f}%', f'{percentage_false:.2f}%'],\n",
    "        textposition='auto',\n",
    "        name='SUS'\n",
    "    )\n",
    "])\n",
    "\n",
    "# Add labels and title\n",
    "fig.update_layout(\n",
    "    title=\"Percentage of Times Avg Mafia Rank Was In Top 40% (SUS)\",\n",
    "    xaxis_title=\"Names Changed\",\n",
    "    yaxis_title=\"SUS (%)\",\n",
    "    template=\"plotly_dark\"\n",
    ")\n",
    "\n",
    "# Show the plot\n",
    "fig.show()"
   ]
  },
  {
   "cell_type": "code",
   "execution_count": 200,
   "id": "9c67a9a9",
   "metadata": {},
   "outputs": [
    {
     "data": {
      "application/vnd.plotly.v1+json": {
       "config": {
        "plotlyServerURL": "https://plot.ly"
       },
       "data": [
        {
         "hovertemplate": "<extra></extra>",
         "legendgroup": "",
         "marker": {
          "color": "#636efa",
          "symbol": "circle"
         },
         "mode": "markers",
         "name": "",
         "orientation": "v",
         "showlegend": false,
         "type": "scatter",
         "xaxis": "x",
         "yaxis": "y"
        },
        {
         "marker": {
          "color": "blue",
          "opacity": 0.5
         },
         "mode": "markers",
         "name": "Names Changed = False",
         "type": "scatter",
         "x": [
          1,
          2,
          3,
          4,
          5,
          6,
          7,
          8,
          9,
          10,
          11,
          12,
          13,
          14,
          15,
          16,
          17,
          18,
          19,
          21,
          22,
          23,
          24,
          25,
          26,
          27,
          28,
          29,
          30,
          31,
          32,
          33,
          34,
          35,
          36,
          37,
          38,
          39,
          40,
          41,
          42,
          43,
          44
         ],
         "y": [
          42.857142857142854,
          30,
          27.777777777777775,
          37.5,
          78.57142857142857,
          38.888888888888886,
          44.44444444444444,
          56.25,
          16.666666666666664,
          55.55555555555556,
          40,
          83.33333333333334,
          50,
          66.66666666666667,
          40,
          65,
          44.44444444444444,
          66.66666666666666,
          25,
          50,
          77.77777777777777,
          56.25,
          62.5,
          68.75,
          33.33333333333333,
          18.75,
          31.25,
          57.14285714285714,
          87.5,
          31.25,
          41.66666666666666,
          55.55555555555556,
          33.33333333333333,
          57.14285714285714,
          81.25,
          31.25,
          37.5,
          50,
          50,
          75,
          31.25,
          56.25,
          6.25
         ]
        },
        {
         "marker": {
          "color": "green",
          "opacity": 0.5
         },
         "mode": "markers",
         "name": "Names Changed = True",
         "type": "scatter",
         "x": [
          1,
          2,
          3,
          4,
          5,
          6,
          7,
          8,
          9,
          10,
          11,
          12,
          13,
          14,
          15,
          16,
          17,
          18,
          19,
          21,
          22,
          23,
          24,
          25,
          26,
          27,
          28,
          29,
          30,
          31,
          32,
          33,
          34,
          35,
          36,
          37,
          38,
          39,
          40,
          41,
          42,
          43,
          44
         ],
         "y": [
          42.857142857142854,
          30,
          27.777777777777775,
          37.5,
          78.57142857142857,
          38.888888888888886,
          44.44444444444444,
          56.25,
          16.666666666666664,
          55.55555555555556,
          40,
          83.33333333333334,
          50,
          66.66666666666667,
          40,
          65,
          44.44444444444444,
          50,
          25,
          50,
          77.77777777777777,
          56.25,
          62.5,
          68.75,
          25,
          18.75,
          31.25,
          57.14285714285714,
          87.5,
          31.25,
          41.66666666666666,
          55.55555555555556,
          33.33333333333333,
          57.14285714285714,
          81.25,
          31.25,
          37.5,
          50,
          50,
          75,
          31.25,
          56.25,
          6.25
         ]
        }
       ],
       "layout": {
        "legend": {
         "title": {
          "text": "Names Changed"
         },
         "tracegroupgap": 0
        },
        "margin": {
         "t": 60
        },
        "template": {
         "data": {
          "bar": [
           {
            "error_x": {
             "color": "#2a3f5f"
            },
            "error_y": {
             "color": "#2a3f5f"
            },
            "marker": {
             "line": {
              "color": "#E5ECF6",
              "width": 0.5
             },
             "pattern": {
              "fillmode": "overlay",
              "size": 10,
              "solidity": 0.2
             }
            },
            "type": "bar"
           }
          ],
          "barpolar": [
           {
            "marker": {
             "line": {
              "color": "#E5ECF6",
              "width": 0.5
             },
             "pattern": {
              "fillmode": "overlay",
              "size": 10,
              "solidity": 0.2
             }
            },
            "type": "barpolar"
           }
          ],
          "carpet": [
           {
            "aaxis": {
             "endlinecolor": "#2a3f5f",
             "gridcolor": "white",
             "linecolor": "white",
             "minorgridcolor": "white",
             "startlinecolor": "#2a3f5f"
            },
            "baxis": {
             "endlinecolor": "#2a3f5f",
             "gridcolor": "white",
             "linecolor": "white",
             "minorgridcolor": "white",
             "startlinecolor": "#2a3f5f"
            },
            "type": "carpet"
           }
          ],
          "choropleth": [
           {
            "colorbar": {
             "outlinewidth": 0,
             "ticks": ""
            },
            "type": "choropleth"
           }
          ],
          "contour": [
           {
            "colorbar": {
             "outlinewidth": 0,
             "ticks": ""
            },
            "colorscale": [
             [
              0,
              "#0d0887"
             ],
             [
              0.1111111111111111,
              "#46039f"
             ],
             [
              0.2222222222222222,
              "#7201a8"
             ],
             [
              0.3333333333333333,
              "#9c179e"
             ],
             [
              0.4444444444444444,
              "#bd3786"
             ],
             [
              0.5555555555555556,
              "#d8576b"
             ],
             [
              0.6666666666666666,
              "#ed7953"
             ],
             [
              0.7777777777777778,
              "#fb9f3a"
             ],
             [
              0.8888888888888888,
              "#fdca26"
             ],
             [
              1,
              "#f0f921"
             ]
            ],
            "type": "contour"
           }
          ],
          "contourcarpet": [
           {
            "colorbar": {
             "outlinewidth": 0,
             "ticks": ""
            },
            "type": "contourcarpet"
           }
          ],
          "heatmap": [
           {
            "colorbar": {
             "outlinewidth": 0,
             "ticks": ""
            },
            "colorscale": [
             [
              0,
              "#0d0887"
             ],
             [
              0.1111111111111111,
              "#46039f"
             ],
             [
              0.2222222222222222,
              "#7201a8"
             ],
             [
              0.3333333333333333,
              "#9c179e"
             ],
             [
              0.4444444444444444,
              "#bd3786"
             ],
             [
              0.5555555555555556,
              "#d8576b"
             ],
             [
              0.6666666666666666,
              "#ed7953"
             ],
             [
              0.7777777777777778,
              "#fb9f3a"
             ],
             [
              0.8888888888888888,
              "#fdca26"
             ],
             [
              1,
              "#f0f921"
             ]
            ],
            "type": "heatmap"
           }
          ],
          "heatmapgl": [
           {
            "colorbar": {
             "outlinewidth": 0,
             "ticks": ""
            },
            "colorscale": [
             [
              0,
              "#0d0887"
             ],
             [
              0.1111111111111111,
              "#46039f"
             ],
             [
              0.2222222222222222,
              "#7201a8"
             ],
             [
              0.3333333333333333,
              "#9c179e"
             ],
             [
              0.4444444444444444,
              "#bd3786"
             ],
             [
              0.5555555555555556,
              "#d8576b"
             ],
             [
              0.6666666666666666,
              "#ed7953"
             ],
             [
              0.7777777777777778,
              "#fb9f3a"
             ],
             [
              0.8888888888888888,
              "#fdca26"
             ],
             [
              1,
              "#f0f921"
             ]
            ],
            "type": "heatmapgl"
           }
          ],
          "histogram": [
           {
            "marker": {
             "pattern": {
              "fillmode": "overlay",
              "size": 10,
              "solidity": 0.2
             }
            },
            "type": "histogram"
           }
          ],
          "histogram2d": [
           {
            "colorbar": {
             "outlinewidth": 0,
             "ticks": ""
            },
            "colorscale": [
             [
              0,
              "#0d0887"
             ],
             [
              0.1111111111111111,
              "#46039f"
             ],
             [
              0.2222222222222222,
              "#7201a8"
             ],
             [
              0.3333333333333333,
              "#9c179e"
             ],
             [
              0.4444444444444444,
              "#bd3786"
             ],
             [
              0.5555555555555556,
              "#d8576b"
             ],
             [
              0.6666666666666666,
              "#ed7953"
             ],
             [
              0.7777777777777778,
              "#fb9f3a"
             ],
             [
              0.8888888888888888,
              "#fdca26"
             ],
             [
              1,
              "#f0f921"
             ]
            ],
            "type": "histogram2d"
           }
          ],
          "histogram2dcontour": [
           {
            "colorbar": {
             "outlinewidth": 0,
             "ticks": ""
            },
            "colorscale": [
             [
              0,
              "#0d0887"
             ],
             [
              0.1111111111111111,
              "#46039f"
             ],
             [
              0.2222222222222222,
              "#7201a8"
             ],
             [
              0.3333333333333333,
              "#9c179e"
             ],
             [
              0.4444444444444444,
              "#bd3786"
             ],
             [
              0.5555555555555556,
              "#d8576b"
             ],
             [
              0.6666666666666666,
              "#ed7953"
             ],
             [
              0.7777777777777778,
              "#fb9f3a"
             ],
             [
              0.8888888888888888,
              "#fdca26"
             ],
             [
              1,
              "#f0f921"
             ]
            ],
            "type": "histogram2dcontour"
           }
          ],
          "mesh3d": [
           {
            "colorbar": {
             "outlinewidth": 0,
             "ticks": ""
            },
            "type": "mesh3d"
           }
          ],
          "parcoords": [
           {
            "line": {
             "colorbar": {
              "outlinewidth": 0,
              "ticks": ""
             }
            },
            "type": "parcoords"
           }
          ],
          "pie": [
           {
            "automargin": true,
            "type": "pie"
           }
          ],
          "scatter": [
           {
            "fillpattern": {
             "fillmode": "overlay",
             "size": 10,
             "solidity": 0.2
            },
            "type": "scatter"
           }
          ],
          "scatter3d": [
           {
            "line": {
             "colorbar": {
              "outlinewidth": 0,
              "ticks": ""
             }
            },
            "marker": {
             "colorbar": {
              "outlinewidth": 0,
              "ticks": ""
             }
            },
            "type": "scatter3d"
           }
          ],
          "scattercarpet": [
           {
            "marker": {
             "colorbar": {
              "outlinewidth": 0,
              "ticks": ""
             }
            },
            "type": "scattercarpet"
           }
          ],
          "scattergeo": [
           {
            "marker": {
             "colorbar": {
              "outlinewidth": 0,
              "ticks": ""
             }
            },
            "type": "scattergeo"
           }
          ],
          "scattergl": [
           {
            "marker": {
             "colorbar": {
              "outlinewidth": 0,
              "ticks": ""
             }
            },
            "type": "scattergl"
           }
          ],
          "scattermapbox": [
           {
            "marker": {
             "colorbar": {
              "outlinewidth": 0,
              "ticks": ""
             }
            },
            "type": "scattermapbox"
           }
          ],
          "scatterpolar": [
           {
            "marker": {
             "colorbar": {
              "outlinewidth": 0,
              "ticks": ""
             }
            },
            "type": "scatterpolar"
           }
          ],
          "scatterpolargl": [
           {
            "marker": {
             "colorbar": {
              "outlinewidth": 0,
              "ticks": ""
             }
            },
            "type": "scatterpolargl"
           }
          ],
          "scatterternary": [
           {
            "marker": {
             "colorbar": {
              "outlinewidth": 0,
              "ticks": ""
             }
            },
            "type": "scatterternary"
           }
          ],
          "surface": [
           {
            "colorbar": {
             "outlinewidth": 0,
             "ticks": ""
            },
            "colorscale": [
             [
              0,
              "#0d0887"
             ],
             [
              0.1111111111111111,
              "#46039f"
             ],
             [
              0.2222222222222222,
              "#7201a8"
             ],
             [
              0.3333333333333333,
              "#9c179e"
             ],
             [
              0.4444444444444444,
              "#bd3786"
             ],
             [
              0.5555555555555556,
              "#d8576b"
             ],
             [
              0.6666666666666666,
              "#ed7953"
             ],
             [
              0.7777777777777778,
              "#fb9f3a"
             ],
             [
              0.8888888888888888,
              "#fdca26"
             ],
             [
              1,
              "#f0f921"
             ]
            ],
            "type": "surface"
           }
          ],
          "table": [
           {
            "cells": {
             "fill": {
              "color": "#EBF0F8"
             },
             "line": {
              "color": "white"
             }
            },
            "header": {
             "fill": {
              "color": "#C8D4E3"
             },
             "line": {
              "color": "white"
             }
            },
            "type": "table"
           }
          ]
         },
         "layout": {
          "annotationdefaults": {
           "arrowcolor": "#2a3f5f",
           "arrowhead": 0,
           "arrowwidth": 1
          },
          "autotypenumbers": "strict",
          "coloraxis": {
           "colorbar": {
            "outlinewidth": 0,
            "ticks": ""
           }
          },
          "colorscale": {
           "diverging": [
            [
             0,
             "#8e0152"
            ],
            [
             0.1,
             "#c51b7d"
            ],
            [
             0.2,
             "#de77ae"
            ],
            [
             0.3,
             "#f1b6da"
            ],
            [
             0.4,
             "#fde0ef"
            ],
            [
             0.5,
             "#f7f7f7"
            ],
            [
             0.6,
             "#e6f5d0"
            ],
            [
             0.7,
             "#b8e186"
            ],
            [
             0.8,
             "#7fbc41"
            ],
            [
             0.9,
             "#4d9221"
            ],
            [
             1,
             "#276419"
            ]
           ],
           "sequential": [
            [
             0,
             "#0d0887"
            ],
            [
             0.1111111111111111,
             "#46039f"
            ],
            [
             0.2222222222222222,
             "#7201a8"
            ],
            [
             0.3333333333333333,
             "#9c179e"
            ],
            [
             0.4444444444444444,
             "#bd3786"
            ],
            [
             0.5555555555555556,
             "#d8576b"
            ],
            [
             0.6666666666666666,
             "#ed7953"
            ],
            [
             0.7777777777777778,
             "#fb9f3a"
            ],
            [
             0.8888888888888888,
             "#fdca26"
            ],
            [
             1,
             "#f0f921"
            ]
           ],
           "sequentialminus": [
            [
             0,
             "#0d0887"
            ],
            [
             0.1111111111111111,
             "#46039f"
            ],
            [
             0.2222222222222222,
             "#7201a8"
            ],
            [
             0.3333333333333333,
             "#9c179e"
            ],
            [
             0.4444444444444444,
             "#bd3786"
            ],
            [
             0.5555555555555556,
             "#d8576b"
            ],
            [
             0.6666666666666666,
             "#ed7953"
            ],
            [
             0.7777777777777778,
             "#fb9f3a"
            ],
            [
             0.8888888888888888,
             "#fdca26"
            ],
            [
             1,
             "#f0f921"
            ]
           ]
          },
          "colorway": [
           "#636efa",
           "#EF553B",
           "#00cc96",
           "#ab63fa",
           "#FFA15A",
           "#19d3f3",
           "#FF6692",
           "#B6E880",
           "#FF97FF",
           "#FECB52"
          ],
          "font": {
           "color": "#2a3f5f"
          },
          "geo": {
           "bgcolor": "white",
           "lakecolor": "white",
           "landcolor": "#E5ECF6",
           "showlakes": true,
           "showland": true,
           "subunitcolor": "white"
          },
          "hoverlabel": {
           "align": "left"
          },
          "hovermode": "closest",
          "mapbox": {
           "style": "light"
          },
          "paper_bgcolor": "white",
          "plot_bgcolor": "#E5ECF6",
          "polar": {
           "angularaxis": {
            "gridcolor": "white",
            "linecolor": "white",
            "ticks": ""
           },
           "bgcolor": "#E5ECF6",
           "radialaxis": {
            "gridcolor": "white",
            "linecolor": "white",
            "ticks": ""
           }
          },
          "scene": {
           "xaxis": {
            "backgroundcolor": "#E5ECF6",
            "gridcolor": "white",
            "gridwidth": 2,
            "linecolor": "white",
            "showbackground": true,
            "ticks": "",
            "zerolinecolor": "white"
           },
           "yaxis": {
            "backgroundcolor": "#E5ECF6",
            "gridcolor": "white",
            "gridwidth": 2,
            "linecolor": "white",
            "showbackground": true,
            "ticks": "",
            "zerolinecolor": "white"
           },
           "zaxis": {
            "backgroundcolor": "#E5ECF6",
            "gridcolor": "white",
            "gridwidth": 2,
            "linecolor": "white",
            "showbackground": true,
            "ticks": "",
            "zerolinecolor": "white"
           }
          },
          "shapedefaults": {
           "line": {
            "color": "#2a3f5f"
           }
          },
          "ternary": {
           "aaxis": {
            "gridcolor": "white",
            "linecolor": "white",
            "ticks": ""
           },
           "baxis": {
            "gridcolor": "white",
            "linecolor": "white",
            "ticks": ""
           },
           "bgcolor": "#E5ECF6",
           "caxis": {
            "gridcolor": "white",
            "linecolor": "white",
            "ticks": ""
           }
          },
          "title": {
           "x": 0.05
          },
          "xaxis": {
           "automargin": true,
           "gridcolor": "white",
           "linecolor": "white",
           "ticks": "",
           "title": {
            "standoff": 15
           },
           "zerolinecolor": "white",
           "zerolinewidth": 2
          },
          "yaxis": {
           "automargin": true,
           "gridcolor": "white",
           "linecolor": "white",
           "ticks": "",
           "title": {
            "standoff": 15
           },
           "zerolinecolor": "white",
           "zerolinewidth": 2
          }
         }
        },
        "title": {
         "text": "Avg Percentile Rank of Mafia per Session"
        },
        "xaxis": {
         "anchor": "y",
         "domain": [
          0,
          1
         ],
         "title": {
          "text": "Session"
         }
        },
        "yaxis": {
         "anchor": "x",
         "domain": [
          0,
          1
         ],
         "title": {
          "text": "Avg Mafia Percentile Rank (%)"
         }
        }
       }
      },
      "text/html": [
       "<div>                            <div id=\"f53b7596-0a74-4c94-89ad-b6fedfabebe0\" class=\"plotly-graph-div\" style=\"height:525px; width:100%;\"></div>            <script type=\"text/javascript\">                require([\"plotly\"], function(Plotly) {                    window.PLOTLYENV=window.PLOTLYENV || {};                                    if (document.getElementById(\"f53b7596-0a74-4c94-89ad-b6fedfabebe0\")) {                    Plotly.newPlot(                        \"f53b7596-0a74-4c94-89ad-b6fedfabebe0\",                        [{\"hovertemplate\":\"<extra></extra>\",\"legendgroup\":\"\",\"marker\":{\"color\":\"#636efa\",\"symbol\":\"circle\"},\"mode\":\"markers\",\"name\":\"\",\"orientation\":\"v\",\"showlegend\":false,\"xaxis\":\"x\",\"yaxis\":\"y\",\"type\":\"scatter\"},{\"marker\":{\"color\":\"blue\",\"opacity\":0.5},\"mode\":\"markers\",\"name\":\"Names Changed = False\",\"x\":[1,2,3,4,5,6,7,8,9,10,11,12,13,14,15,16,17,18,19,21,22,23,24,25,26,27,28,29,30,31,32,33,34,35,36,37,38,39,40,41,42,43,44],\"y\":[42.857142857142854,30.0,27.777777777777775,37.5,78.57142857142857,38.888888888888886,44.44444444444444,56.25,16.666666666666664,55.55555555555556,40.0,83.33333333333334,50.0,66.66666666666667,40.0,65.0,44.44444444444444,66.66666666666666,25.0,50.0,77.77777777777777,56.25,62.5,68.75,33.33333333333333,18.75,31.25,57.14285714285714,87.5,31.25,41.66666666666666,55.55555555555556,33.33333333333333,57.14285714285714,81.25,31.25,37.5,50.0,50.0,75.0,31.25,56.25,6.25],\"type\":\"scatter\"},{\"marker\":{\"color\":\"green\",\"opacity\":0.5},\"mode\":\"markers\",\"name\":\"Names Changed = True\",\"x\":[1,2,3,4,5,6,7,8,9,10,11,12,13,14,15,16,17,18,19,21,22,23,24,25,26,27,28,29,30,31,32,33,34,35,36,37,38,39,40,41,42,43,44],\"y\":[42.857142857142854,30.0,27.777777777777775,37.5,78.57142857142857,38.888888888888886,44.44444444444444,56.25,16.666666666666664,55.55555555555556,40.0,83.33333333333334,50.0,66.66666666666667,40.0,65.0,44.44444444444444,50.0,25.0,50.0,77.77777777777777,56.25,62.5,68.75,25.0,18.75,31.25,57.14285714285714,87.5,31.25,41.66666666666666,55.55555555555556,33.33333333333333,57.14285714285714,81.25,31.25,37.5,50.0,50.0,75.0,31.25,56.25,6.25],\"type\":\"scatter\"}],                        {\"template\":{\"data\":{\"histogram2dcontour\":[{\"type\":\"histogram2dcontour\",\"colorbar\":{\"outlinewidth\":0,\"ticks\":\"\"},\"colorscale\":[[0.0,\"#0d0887\"],[0.1111111111111111,\"#46039f\"],[0.2222222222222222,\"#7201a8\"],[0.3333333333333333,\"#9c179e\"],[0.4444444444444444,\"#bd3786\"],[0.5555555555555556,\"#d8576b\"],[0.6666666666666666,\"#ed7953\"],[0.7777777777777778,\"#fb9f3a\"],[0.8888888888888888,\"#fdca26\"],[1.0,\"#f0f921\"]]}],\"choropleth\":[{\"type\":\"choropleth\",\"colorbar\":{\"outlinewidth\":0,\"ticks\":\"\"}}],\"histogram2d\":[{\"type\":\"histogram2d\",\"colorbar\":{\"outlinewidth\":0,\"ticks\":\"\"},\"colorscale\":[[0.0,\"#0d0887\"],[0.1111111111111111,\"#46039f\"],[0.2222222222222222,\"#7201a8\"],[0.3333333333333333,\"#9c179e\"],[0.4444444444444444,\"#bd3786\"],[0.5555555555555556,\"#d8576b\"],[0.6666666666666666,\"#ed7953\"],[0.7777777777777778,\"#fb9f3a\"],[0.8888888888888888,\"#fdca26\"],[1.0,\"#f0f921\"]]}],\"heatmap\":[{\"type\":\"heatmap\",\"colorbar\":{\"outlinewidth\":0,\"ticks\":\"\"},\"colorscale\":[[0.0,\"#0d0887\"],[0.1111111111111111,\"#46039f\"],[0.2222222222222222,\"#7201a8\"],[0.3333333333333333,\"#9c179e\"],[0.4444444444444444,\"#bd3786\"],[0.5555555555555556,\"#d8576b\"],[0.6666666666666666,\"#ed7953\"],[0.7777777777777778,\"#fb9f3a\"],[0.8888888888888888,\"#fdca26\"],[1.0,\"#f0f921\"]]}],\"heatmapgl\":[{\"type\":\"heatmapgl\",\"colorbar\":{\"outlinewidth\":0,\"ticks\":\"\"},\"colorscale\":[[0.0,\"#0d0887\"],[0.1111111111111111,\"#46039f\"],[0.2222222222222222,\"#7201a8\"],[0.3333333333333333,\"#9c179e\"],[0.4444444444444444,\"#bd3786\"],[0.5555555555555556,\"#d8576b\"],[0.6666666666666666,\"#ed7953\"],[0.7777777777777778,\"#fb9f3a\"],[0.8888888888888888,\"#fdca26\"],[1.0,\"#f0f921\"]]}],\"contourcarpet\":[{\"type\":\"contourcarpet\",\"colorbar\":{\"outlinewidth\":0,\"ticks\":\"\"}}],\"contour\":[{\"type\":\"contour\",\"colorbar\":{\"outlinewidth\":0,\"ticks\":\"\"},\"colorscale\":[[0.0,\"#0d0887\"],[0.1111111111111111,\"#46039f\"],[0.2222222222222222,\"#7201a8\"],[0.3333333333333333,\"#9c179e\"],[0.4444444444444444,\"#bd3786\"],[0.5555555555555556,\"#d8576b\"],[0.6666666666666666,\"#ed7953\"],[0.7777777777777778,\"#fb9f3a\"],[0.8888888888888888,\"#fdca26\"],[1.0,\"#f0f921\"]]}],\"surface\":[{\"type\":\"surface\",\"colorbar\":{\"outlinewidth\":0,\"ticks\":\"\"},\"colorscale\":[[0.0,\"#0d0887\"],[0.1111111111111111,\"#46039f\"],[0.2222222222222222,\"#7201a8\"],[0.3333333333333333,\"#9c179e\"],[0.4444444444444444,\"#bd3786\"],[0.5555555555555556,\"#d8576b\"],[0.6666666666666666,\"#ed7953\"],[0.7777777777777778,\"#fb9f3a\"],[0.8888888888888888,\"#fdca26\"],[1.0,\"#f0f921\"]]}],\"mesh3d\":[{\"type\":\"mesh3d\",\"colorbar\":{\"outlinewidth\":0,\"ticks\":\"\"}}],\"scatter\":[{\"fillpattern\":{\"fillmode\":\"overlay\",\"size\":10,\"solidity\":0.2},\"type\":\"scatter\"}],\"parcoords\":[{\"type\":\"parcoords\",\"line\":{\"colorbar\":{\"outlinewidth\":0,\"ticks\":\"\"}}}],\"scatterpolargl\":[{\"type\":\"scatterpolargl\",\"marker\":{\"colorbar\":{\"outlinewidth\":0,\"ticks\":\"\"}}}],\"bar\":[{\"error_x\":{\"color\":\"#2a3f5f\"},\"error_y\":{\"color\":\"#2a3f5f\"},\"marker\":{\"line\":{\"color\":\"#E5ECF6\",\"width\":0.5},\"pattern\":{\"fillmode\":\"overlay\",\"size\":10,\"solidity\":0.2}},\"type\":\"bar\"}],\"scattergeo\":[{\"type\":\"scattergeo\",\"marker\":{\"colorbar\":{\"outlinewidth\":0,\"ticks\":\"\"}}}],\"scatterpolar\":[{\"type\":\"scatterpolar\",\"marker\":{\"colorbar\":{\"outlinewidth\":0,\"ticks\":\"\"}}}],\"histogram\":[{\"marker\":{\"pattern\":{\"fillmode\":\"overlay\",\"size\":10,\"solidity\":0.2}},\"type\":\"histogram\"}],\"scattergl\":[{\"type\":\"scattergl\",\"marker\":{\"colorbar\":{\"outlinewidth\":0,\"ticks\":\"\"}}}],\"scatter3d\":[{\"type\":\"scatter3d\",\"line\":{\"colorbar\":{\"outlinewidth\":0,\"ticks\":\"\"}},\"marker\":{\"colorbar\":{\"outlinewidth\":0,\"ticks\":\"\"}}}],\"scattermapbox\":[{\"type\":\"scattermapbox\",\"marker\":{\"colorbar\":{\"outlinewidth\":0,\"ticks\":\"\"}}}],\"scatterternary\":[{\"type\":\"scatterternary\",\"marker\":{\"colorbar\":{\"outlinewidth\":0,\"ticks\":\"\"}}}],\"scattercarpet\":[{\"type\":\"scattercarpet\",\"marker\":{\"colorbar\":{\"outlinewidth\":0,\"ticks\":\"\"}}}],\"carpet\":[{\"aaxis\":{\"endlinecolor\":\"#2a3f5f\",\"gridcolor\":\"white\",\"linecolor\":\"white\",\"minorgridcolor\":\"white\",\"startlinecolor\":\"#2a3f5f\"},\"baxis\":{\"endlinecolor\":\"#2a3f5f\",\"gridcolor\":\"white\",\"linecolor\":\"white\",\"minorgridcolor\":\"white\",\"startlinecolor\":\"#2a3f5f\"},\"type\":\"carpet\"}],\"table\":[{\"cells\":{\"fill\":{\"color\":\"#EBF0F8\"},\"line\":{\"color\":\"white\"}},\"header\":{\"fill\":{\"color\":\"#C8D4E3\"},\"line\":{\"color\":\"white\"}},\"type\":\"table\"}],\"barpolar\":[{\"marker\":{\"line\":{\"color\":\"#E5ECF6\",\"width\":0.5},\"pattern\":{\"fillmode\":\"overlay\",\"size\":10,\"solidity\":0.2}},\"type\":\"barpolar\"}],\"pie\":[{\"automargin\":true,\"type\":\"pie\"}]},\"layout\":{\"autotypenumbers\":\"strict\",\"colorway\":[\"#636efa\",\"#EF553B\",\"#00cc96\",\"#ab63fa\",\"#FFA15A\",\"#19d3f3\",\"#FF6692\",\"#B6E880\",\"#FF97FF\",\"#FECB52\"],\"font\":{\"color\":\"#2a3f5f\"},\"hovermode\":\"closest\",\"hoverlabel\":{\"align\":\"left\"},\"paper_bgcolor\":\"white\",\"plot_bgcolor\":\"#E5ECF6\",\"polar\":{\"bgcolor\":\"#E5ECF6\",\"angularaxis\":{\"gridcolor\":\"white\",\"linecolor\":\"white\",\"ticks\":\"\"},\"radialaxis\":{\"gridcolor\":\"white\",\"linecolor\":\"white\",\"ticks\":\"\"}},\"ternary\":{\"bgcolor\":\"#E5ECF6\",\"aaxis\":{\"gridcolor\":\"white\",\"linecolor\":\"white\",\"ticks\":\"\"},\"baxis\":{\"gridcolor\":\"white\",\"linecolor\":\"white\",\"ticks\":\"\"},\"caxis\":{\"gridcolor\":\"white\",\"linecolor\":\"white\",\"ticks\":\"\"}},\"coloraxis\":{\"colorbar\":{\"outlinewidth\":0,\"ticks\":\"\"}},\"colorscale\":{\"sequential\":[[0.0,\"#0d0887\"],[0.1111111111111111,\"#46039f\"],[0.2222222222222222,\"#7201a8\"],[0.3333333333333333,\"#9c179e\"],[0.4444444444444444,\"#bd3786\"],[0.5555555555555556,\"#d8576b\"],[0.6666666666666666,\"#ed7953\"],[0.7777777777777778,\"#fb9f3a\"],[0.8888888888888888,\"#fdca26\"],[1.0,\"#f0f921\"]],\"sequentialminus\":[[0.0,\"#0d0887\"],[0.1111111111111111,\"#46039f\"],[0.2222222222222222,\"#7201a8\"],[0.3333333333333333,\"#9c179e\"],[0.4444444444444444,\"#bd3786\"],[0.5555555555555556,\"#d8576b\"],[0.6666666666666666,\"#ed7953\"],[0.7777777777777778,\"#fb9f3a\"],[0.8888888888888888,\"#fdca26\"],[1.0,\"#f0f921\"]],\"diverging\":[[0,\"#8e0152\"],[0.1,\"#c51b7d\"],[0.2,\"#de77ae\"],[0.3,\"#f1b6da\"],[0.4,\"#fde0ef\"],[0.5,\"#f7f7f7\"],[0.6,\"#e6f5d0\"],[0.7,\"#b8e186\"],[0.8,\"#7fbc41\"],[0.9,\"#4d9221\"],[1,\"#276419\"]]},\"xaxis\":{\"gridcolor\":\"white\",\"linecolor\":\"white\",\"ticks\":\"\",\"title\":{\"standoff\":15},\"zerolinecolor\":\"white\",\"automargin\":true,\"zerolinewidth\":2},\"yaxis\":{\"gridcolor\":\"white\",\"linecolor\":\"white\",\"ticks\":\"\",\"title\":{\"standoff\":15},\"zerolinecolor\":\"white\",\"automargin\":true,\"zerolinewidth\":2},\"scene\":{\"xaxis\":{\"backgroundcolor\":\"#E5ECF6\",\"gridcolor\":\"white\",\"linecolor\":\"white\",\"showbackground\":true,\"ticks\":\"\",\"zerolinecolor\":\"white\",\"gridwidth\":2},\"yaxis\":{\"backgroundcolor\":\"#E5ECF6\",\"gridcolor\":\"white\",\"linecolor\":\"white\",\"showbackground\":true,\"ticks\":\"\",\"zerolinecolor\":\"white\",\"gridwidth\":2},\"zaxis\":{\"backgroundcolor\":\"#E5ECF6\",\"gridcolor\":\"white\",\"linecolor\":\"white\",\"showbackground\":true,\"ticks\":\"\",\"zerolinecolor\":\"white\",\"gridwidth\":2}},\"shapedefaults\":{\"line\":{\"color\":\"#2a3f5f\"}},\"annotationdefaults\":{\"arrowcolor\":\"#2a3f5f\",\"arrowhead\":0,\"arrowwidth\":1},\"geo\":{\"bgcolor\":\"white\",\"landcolor\":\"#E5ECF6\",\"subunitcolor\":\"white\",\"showland\":true,\"showlakes\":true,\"lakecolor\":\"white\"},\"title\":{\"x\":0.05},\"mapbox\":{\"style\":\"light\"}}},\"xaxis\":{\"anchor\":\"y\",\"domain\":[0.0,1.0],\"title\":{\"text\":\"Session\"}},\"yaxis\":{\"anchor\":\"x\",\"domain\":[0.0,1.0],\"title\":{\"text\":\"Avg Mafia Percentile Rank (%)\"}},\"legend\":{\"tracegroupgap\":0,\"title\":{\"text\":\"Names Changed\"}},\"margin\":{\"t\":60},\"title\":{\"text\":\"Avg Percentile Rank of Mafia per Session\"}},                        {\"responsive\": true}                    ).then(function(){\n",
       "                            \n",
       "var gd = document.getElementById('f53b7596-0a74-4c94-89ad-b6fedfabebe0');\n",
       "var x = new MutationObserver(function (mutations, observer) {{\n",
       "        var display = window.getComputedStyle(gd).display;\n",
       "        if (!display || display === 'none') {{\n",
       "            console.log([gd, 'removed!']);\n",
       "            Plotly.purge(gd);\n",
       "            observer.disconnect();\n",
       "        }}\n",
       "}});\n",
       "\n",
       "// Listen for the removal of the full notebook cells\n",
       "var notebookContainer = gd.closest('#notebook-container');\n",
       "if (notebookContainer) {{\n",
       "    x.observe(notebookContainer, {childList: true});\n",
       "}}\n",
       "\n",
       "// Listen for the clearing of the current output cell\n",
       "var outputEl = gd.closest('.output');\n",
       "if (outputEl) {{\n",
       "    x.observe(outputEl, {childList: true});\n",
       "}}\n",
       "\n",
       "                        })                };                });            </script>        </div>"
      ]
     },
     "metadata": {},
     "output_type": "display_data"
    }
   ],
   "source": [
    "fig1 = px.scatter()\n",
    "\n",
    "# Add the points for 'names_changed' = False (blue)\n",
    "fig1.add_scatter(x=df_false['session'], y=df_false['avg_mafia_rank'], \n",
    "                mode='markers', name='Names Changed = False', marker=dict(color='blue', opacity=0.5))\n",
    "\n",
    "# Add the points for 'names_changed' = True (green)\n",
    "fig1.add_scatter(x=df_true['session'], y=df_true['avg_mafia_rank'], \n",
    "                mode='markers', name='Names Changed = True', marker=dict(color='green', opacity=0.5))\n",
    "\n",
    "# Set titles and labels\n",
    "fig1.update_layout(\n",
    "    title=\"Avg Percentile Rank of Mafia per Session\",\n",
    "    xaxis_title=\"Session\",\n",
    "    yaxis_title=\"Avg Mafia Percentile Rank (%)\",\n",
    "    legend_title=\"Names Changed\"\n",
    "    \n",
    ")\n",
    "\n",
    "# Show the plot\n",
    "fig1.show()"
   ]
  },
  {
   "cell_type": "code",
   "execution_count": 202,
   "id": "b4e9c309",
   "metadata": {},
   "outputs": [
    {
     "data": {
      "application/vnd.plotly.v1+json": {
       "config": {
        "plotlyServerURL": "https://plot.ly"
       },
       "data": [
        {
         "hovertemplate": "<extra></extra>",
         "legendgroup": "",
         "marker": {
          "color": "#636efa",
          "symbol": "circle"
         },
         "mode": "markers",
         "name": "",
         "orientation": "v",
         "showlegend": false,
         "type": "scatter",
         "xaxis": "x",
         "yaxis": "y"
        },
        {
         "marker": {
          "color": "blue",
          "opacity": 0.5
         },
         "mode": "markers",
         "name": "Names Changed = False",
         "type": "scatter",
         "x": [
          1,
          2,
          3,
          4,
          5,
          6,
          7,
          8,
          9,
          10,
          11,
          12,
          13,
          14,
          15,
          16,
          17,
          18,
          19,
          21,
          22,
          23,
          24,
          25,
          26,
          27,
          28,
          29,
          30,
          31,
          32,
          33,
          34,
          35,
          36,
          37,
          38,
          39,
          40,
          41,
          42,
          43,
          44
         ],
         "y": [
          42.857142857142854,
          30,
          27.777777777777775,
          37.5,
          78.57142857142857,
          38.888888888888886,
          44.44444444444444,
          56.25,
          16.666666666666664,
          55.55555555555556,
          40,
          83.33333333333334,
          50,
          66.66666666666667,
          40,
          65,
          44.44444444444444,
          66.66666666666666,
          25,
          50,
          77.77777777777777,
          56.25,
          62.5,
          68.75,
          33.33333333333333,
          18.75,
          31.25,
          57.14285714285714,
          87.5,
          31.25,
          41.66666666666666,
          55.55555555555556,
          33.33333333333333,
          57.14285714285714,
          81.25,
          31.25,
          37.5,
          50,
          50,
          75,
          31.25,
          56.25,
          6.25
         ]
        },
        {
         "marker": {
          "color": "green",
          "opacity": 0.5
         },
         "mode": "markers",
         "name": "Names Changed = True",
         "type": "scatter",
         "x": [
          1,
          2,
          3,
          4,
          5,
          6,
          7,
          8,
          9,
          10,
          11,
          12,
          13,
          14,
          15,
          16,
          17,
          18,
          19,
          21,
          22,
          23,
          24,
          25,
          26,
          27,
          28,
          29,
          30,
          31,
          32,
          33,
          34,
          35,
          36,
          37,
          38,
          39,
          40,
          41,
          42,
          43,
          44
         ],
         "y": [
          42.857142857142854,
          30,
          27.777777777777775,
          37.5,
          78.57142857142857,
          38.888888888888886,
          44.44444444444444,
          56.25,
          16.666666666666664,
          55.55555555555556,
          40,
          83.33333333333334,
          50,
          66.66666666666667,
          40,
          65,
          44.44444444444444,
          50,
          25,
          50,
          77.77777777777777,
          56.25,
          62.5,
          68.75,
          25,
          18.75,
          31.25,
          57.14285714285714,
          87.5,
          31.25,
          41.66666666666666,
          55.55555555555556,
          33.33333333333333,
          57.14285714285714,
          81.25,
          31.25,
          37.5,
          50,
          50,
          75,
          31.25,
          56.25,
          6.25
         ]
        }
       ],
       "layout": {
        "legend": {
         "title": {
          "text": "Names Changed"
         },
         "tracegroupgap": 0
        },
        "margin": {
         "t": 60
        },
        "shapes": [
         {
          "line": {
           "color": "gray",
           "dash": "dot",
           "width": 2
          },
          "type": "line",
          "x0": 1,
          "x1": 44,
          "y0": 50,
          "y1": 50
         }
        ],
        "template": {
         "data": {
          "bar": [
           {
            "error_x": {
             "color": "#2a3f5f"
            },
            "error_y": {
             "color": "#2a3f5f"
            },
            "marker": {
             "line": {
              "color": "#E5ECF6",
              "width": 0.5
             },
             "pattern": {
              "fillmode": "overlay",
              "size": 10,
              "solidity": 0.2
             }
            },
            "type": "bar"
           }
          ],
          "barpolar": [
           {
            "marker": {
             "line": {
              "color": "#E5ECF6",
              "width": 0.5
             },
             "pattern": {
              "fillmode": "overlay",
              "size": 10,
              "solidity": 0.2
             }
            },
            "type": "barpolar"
           }
          ],
          "carpet": [
           {
            "aaxis": {
             "endlinecolor": "#2a3f5f",
             "gridcolor": "white",
             "linecolor": "white",
             "minorgridcolor": "white",
             "startlinecolor": "#2a3f5f"
            },
            "baxis": {
             "endlinecolor": "#2a3f5f",
             "gridcolor": "white",
             "linecolor": "white",
             "minorgridcolor": "white",
             "startlinecolor": "#2a3f5f"
            },
            "type": "carpet"
           }
          ],
          "choropleth": [
           {
            "colorbar": {
             "outlinewidth": 0,
             "ticks": ""
            },
            "type": "choropleth"
           }
          ],
          "contour": [
           {
            "colorbar": {
             "outlinewidth": 0,
             "ticks": ""
            },
            "colorscale": [
             [
              0,
              "#0d0887"
             ],
             [
              0.1111111111111111,
              "#46039f"
             ],
             [
              0.2222222222222222,
              "#7201a8"
             ],
             [
              0.3333333333333333,
              "#9c179e"
             ],
             [
              0.4444444444444444,
              "#bd3786"
             ],
             [
              0.5555555555555556,
              "#d8576b"
             ],
             [
              0.6666666666666666,
              "#ed7953"
             ],
             [
              0.7777777777777778,
              "#fb9f3a"
             ],
             [
              0.8888888888888888,
              "#fdca26"
             ],
             [
              1,
              "#f0f921"
             ]
            ],
            "type": "contour"
           }
          ],
          "contourcarpet": [
           {
            "colorbar": {
             "outlinewidth": 0,
             "ticks": ""
            },
            "type": "contourcarpet"
           }
          ],
          "heatmap": [
           {
            "colorbar": {
             "outlinewidth": 0,
             "ticks": ""
            },
            "colorscale": [
             [
              0,
              "#0d0887"
             ],
             [
              0.1111111111111111,
              "#46039f"
             ],
             [
              0.2222222222222222,
              "#7201a8"
             ],
             [
              0.3333333333333333,
              "#9c179e"
             ],
             [
              0.4444444444444444,
              "#bd3786"
             ],
             [
              0.5555555555555556,
              "#d8576b"
             ],
             [
              0.6666666666666666,
              "#ed7953"
             ],
             [
              0.7777777777777778,
              "#fb9f3a"
             ],
             [
              0.8888888888888888,
              "#fdca26"
             ],
             [
              1,
              "#f0f921"
             ]
            ],
            "type": "heatmap"
           }
          ],
          "heatmapgl": [
           {
            "colorbar": {
             "outlinewidth": 0,
             "ticks": ""
            },
            "colorscale": [
             [
              0,
              "#0d0887"
             ],
             [
              0.1111111111111111,
              "#46039f"
             ],
             [
              0.2222222222222222,
              "#7201a8"
             ],
             [
              0.3333333333333333,
              "#9c179e"
             ],
             [
              0.4444444444444444,
              "#bd3786"
             ],
             [
              0.5555555555555556,
              "#d8576b"
             ],
             [
              0.6666666666666666,
              "#ed7953"
             ],
             [
              0.7777777777777778,
              "#fb9f3a"
             ],
             [
              0.8888888888888888,
              "#fdca26"
             ],
             [
              1,
              "#f0f921"
             ]
            ],
            "type": "heatmapgl"
           }
          ],
          "histogram": [
           {
            "marker": {
             "pattern": {
              "fillmode": "overlay",
              "size": 10,
              "solidity": 0.2
             }
            },
            "type": "histogram"
           }
          ],
          "histogram2d": [
           {
            "colorbar": {
             "outlinewidth": 0,
             "ticks": ""
            },
            "colorscale": [
             [
              0,
              "#0d0887"
             ],
             [
              0.1111111111111111,
              "#46039f"
             ],
             [
              0.2222222222222222,
              "#7201a8"
             ],
             [
              0.3333333333333333,
              "#9c179e"
             ],
             [
              0.4444444444444444,
              "#bd3786"
             ],
             [
              0.5555555555555556,
              "#d8576b"
             ],
             [
              0.6666666666666666,
              "#ed7953"
             ],
             [
              0.7777777777777778,
              "#fb9f3a"
             ],
             [
              0.8888888888888888,
              "#fdca26"
             ],
             [
              1,
              "#f0f921"
             ]
            ],
            "type": "histogram2d"
           }
          ],
          "histogram2dcontour": [
           {
            "colorbar": {
             "outlinewidth": 0,
             "ticks": ""
            },
            "colorscale": [
             [
              0,
              "#0d0887"
             ],
             [
              0.1111111111111111,
              "#46039f"
             ],
             [
              0.2222222222222222,
              "#7201a8"
             ],
             [
              0.3333333333333333,
              "#9c179e"
             ],
             [
              0.4444444444444444,
              "#bd3786"
             ],
             [
              0.5555555555555556,
              "#d8576b"
             ],
             [
              0.6666666666666666,
              "#ed7953"
             ],
             [
              0.7777777777777778,
              "#fb9f3a"
             ],
             [
              0.8888888888888888,
              "#fdca26"
             ],
             [
              1,
              "#f0f921"
             ]
            ],
            "type": "histogram2dcontour"
           }
          ],
          "mesh3d": [
           {
            "colorbar": {
             "outlinewidth": 0,
             "ticks": ""
            },
            "type": "mesh3d"
           }
          ],
          "parcoords": [
           {
            "line": {
             "colorbar": {
              "outlinewidth": 0,
              "ticks": ""
             }
            },
            "type": "parcoords"
           }
          ],
          "pie": [
           {
            "automargin": true,
            "type": "pie"
           }
          ],
          "scatter": [
           {
            "fillpattern": {
             "fillmode": "overlay",
             "size": 10,
             "solidity": 0.2
            },
            "type": "scatter"
           }
          ],
          "scatter3d": [
           {
            "line": {
             "colorbar": {
              "outlinewidth": 0,
              "ticks": ""
             }
            },
            "marker": {
             "colorbar": {
              "outlinewidth": 0,
              "ticks": ""
             }
            },
            "type": "scatter3d"
           }
          ],
          "scattercarpet": [
           {
            "marker": {
             "colorbar": {
              "outlinewidth": 0,
              "ticks": ""
             }
            },
            "type": "scattercarpet"
           }
          ],
          "scattergeo": [
           {
            "marker": {
             "colorbar": {
              "outlinewidth": 0,
              "ticks": ""
             }
            },
            "type": "scattergeo"
           }
          ],
          "scattergl": [
           {
            "marker": {
             "colorbar": {
              "outlinewidth": 0,
              "ticks": ""
             }
            },
            "type": "scattergl"
           }
          ],
          "scattermapbox": [
           {
            "marker": {
             "colorbar": {
              "outlinewidth": 0,
              "ticks": ""
             }
            },
            "type": "scattermapbox"
           }
          ],
          "scatterpolar": [
           {
            "marker": {
             "colorbar": {
              "outlinewidth": 0,
              "ticks": ""
             }
            },
            "type": "scatterpolar"
           }
          ],
          "scatterpolargl": [
           {
            "marker": {
             "colorbar": {
              "outlinewidth": 0,
              "ticks": ""
             }
            },
            "type": "scatterpolargl"
           }
          ],
          "scatterternary": [
           {
            "marker": {
             "colorbar": {
              "outlinewidth": 0,
              "ticks": ""
             }
            },
            "type": "scatterternary"
           }
          ],
          "surface": [
           {
            "colorbar": {
             "outlinewidth": 0,
             "ticks": ""
            },
            "colorscale": [
             [
              0,
              "#0d0887"
             ],
             [
              0.1111111111111111,
              "#46039f"
             ],
             [
              0.2222222222222222,
              "#7201a8"
             ],
             [
              0.3333333333333333,
              "#9c179e"
             ],
             [
              0.4444444444444444,
              "#bd3786"
             ],
             [
              0.5555555555555556,
              "#d8576b"
             ],
             [
              0.6666666666666666,
              "#ed7953"
             ],
             [
              0.7777777777777778,
              "#fb9f3a"
             ],
             [
              0.8888888888888888,
              "#fdca26"
             ],
             [
              1,
              "#f0f921"
             ]
            ],
            "type": "surface"
           }
          ],
          "table": [
           {
            "cells": {
             "fill": {
              "color": "#EBF0F8"
             },
             "line": {
              "color": "white"
             }
            },
            "header": {
             "fill": {
              "color": "#C8D4E3"
             },
             "line": {
              "color": "white"
             }
            },
            "type": "table"
           }
          ]
         },
         "layout": {
          "annotationdefaults": {
           "arrowcolor": "#2a3f5f",
           "arrowhead": 0,
           "arrowwidth": 1
          },
          "autotypenumbers": "strict",
          "coloraxis": {
           "colorbar": {
            "outlinewidth": 0,
            "ticks": ""
           }
          },
          "colorscale": {
           "diverging": [
            [
             0,
             "#8e0152"
            ],
            [
             0.1,
             "#c51b7d"
            ],
            [
             0.2,
             "#de77ae"
            ],
            [
             0.3,
             "#f1b6da"
            ],
            [
             0.4,
             "#fde0ef"
            ],
            [
             0.5,
             "#f7f7f7"
            ],
            [
             0.6,
             "#e6f5d0"
            ],
            [
             0.7,
             "#b8e186"
            ],
            [
             0.8,
             "#7fbc41"
            ],
            [
             0.9,
             "#4d9221"
            ],
            [
             1,
             "#276419"
            ]
           ],
           "sequential": [
            [
             0,
             "#0d0887"
            ],
            [
             0.1111111111111111,
             "#46039f"
            ],
            [
             0.2222222222222222,
             "#7201a8"
            ],
            [
             0.3333333333333333,
             "#9c179e"
            ],
            [
             0.4444444444444444,
             "#bd3786"
            ],
            [
             0.5555555555555556,
             "#d8576b"
            ],
            [
             0.6666666666666666,
             "#ed7953"
            ],
            [
             0.7777777777777778,
             "#fb9f3a"
            ],
            [
             0.8888888888888888,
             "#fdca26"
            ],
            [
             1,
             "#f0f921"
            ]
           ],
           "sequentialminus": [
            [
             0,
             "#0d0887"
            ],
            [
             0.1111111111111111,
             "#46039f"
            ],
            [
             0.2222222222222222,
             "#7201a8"
            ],
            [
             0.3333333333333333,
             "#9c179e"
            ],
            [
             0.4444444444444444,
             "#bd3786"
            ],
            [
             0.5555555555555556,
             "#d8576b"
            ],
            [
             0.6666666666666666,
             "#ed7953"
            ],
            [
             0.7777777777777778,
             "#fb9f3a"
            ],
            [
             0.8888888888888888,
             "#fdca26"
            ],
            [
             1,
             "#f0f921"
            ]
           ]
          },
          "colorway": [
           "#636efa",
           "#EF553B",
           "#00cc96",
           "#ab63fa",
           "#FFA15A",
           "#19d3f3",
           "#FF6692",
           "#B6E880",
           "#FF97FF",
           "#FECB52"
          ],
          "font": {
           "color": "#2a3f5f"
          },
          "geo": {
           "bgcolor": "white",
           "lakecolor": "white",
           "landcolor": "#E5ECF6",
           "showlakes": true,
           "showland": true,
           "subunitcolor": "white"
          },
          "hoverlabel": {
           "align": "left"
          },
          "hovermode": "closest",
          "mapbox": {
           "style": "light"
          },
          "paper_bgcolor": "white",
          "plot_bgcolor": "#E5ECF6",
          "polar": {
           "angularaxis": {
            "gridcolor": "white",
            "linecolor": "white",
            "ticks": ""
           },
           "bgcolor": "#E5ECF6",
           "radialaxis": {
            "gridcolor": "white",
            "linecolor": "white",
            "ticks": ""
           }
          },
          "scene": {
           "xaxis": {
            "backgroundcolor": "#E5ECF6",
            "gridcolor": "white",
            "gridwidth": 2,
            "linecolor": "white",
            "showbackground": true,
            "ticks": "",
            "zerolinecolor": "white"
           },
           "yaxis": {
            "backgroundcolor": "#E5ECF6",
            "gridcolor": "white",
            "gridwidth": 2,
            "linecolor": "white",
            "showbackground": true,
            "ticks": "",
            "zerolinecolor": "white"
           },
           "zaxis": {
            "backgroundcolor": "#E5ECF6",
            "gridcolor": "white",
            "gridwidth": 2,
            "linecolor": "white",
            "showbackground": true,
            "ticks": "",
            "zerolinecolor": "white"
           }
          },
          "shapedefaults": {
           "line": {
            "color": "#2a3f5f"
           }
          },
          "ternary": {
           "aaxis": {
            "gridcolor": "white",
            "linecolor": "white",
            "ticks": ""
           },
           "baxis": {
            "gridcolor": "white",
            "linecolor": "white",
            "ticks": ""
           },
           "bgcolor": "#E5ECF6",
           "caxis": {
            "gridcolor": "white",
            "linecolor": "white",
            "ticks": ""
           }
          },
          "title": {
           "x": 0.05
          },
          "xaxis": {
           "automargin": true,
           "gridcolor": "white",
           "linecolor": "white",
           "ticks": "",
           "title": {
            "standoff": 15
           },
           "zerolinecolor": "white",
           "zerolinewidth": 2
          },
          "yaxis": {
           "automargin": true,
           "gridcolor": "white",
           "linecolor": "white",
           "ticks": "",
           "title": {
            "standoff": 15
           },
           "zerolinecolor": "white",
           "zerolinewidth": 2
          }
         }
        },
        "title": {
         "text": "Avg Percentile Rank of Mafia per Session"
        },
        "xaxis": {
         "anchor": "y",
         "domain": [
          0,
          1
         ],
         "title": {
          "text": "Session"
         }
        },
        "yaxis": {
         "anchor": "x",
         "domain": [
          0,
          1
         ],
         "title": {
          "text": "Avg Mafia Percentile Rank (%)"
         }
        }
       }
      },
      "text/html": [
       "<div>                            <div id=\"b91cf051-6eb2-4a38-93e2-06367572d47c\" class=\"plotly-graph-div\" style=\"height:525px; width:100%;\"></div>            <script type=\"text/javascript\">                require([\"plotly\"], function(Plotly) {                    window.PLOTLYENV=window.PLOTLYENV || {};                                    if (document.getElementById(\"b91cf051-6eb2-4a38-93e2-06367572d47c\")) {                    Plotly.newPlot(                        \"b91cf051-6eb2-4a38-93e2-06367572d47c\",                        [{\"hovertemplate\":\"<extra></extra>\",\"legendgroup\":\"\",\"marker\":{\"color\":\"#636efa\",\"symbol\":\"circle\"},\"mode\":\"markers\",\"name\":\"\",\"orientation\":\"v\",\"showlegend\":false,\"xaxis\":\"x\",\"yaxis\":\"y\",\"type\":\"scatter\"},{\"marker\":{\"color\":\"blue\",\"opacity\":0.5},\"mode\":\"markers\",\"name\":\"Names Changed = False\",\"x\":[1,2,3,4,5,6,7,8,9,10,11,12,13,14,15,16,17,18,19,21,22,23,24,25,26,27,28,29,30,31,32,33,34,35,36,37,38,39,40,41,42,43,44],\"y\":[42.857142857142854,30.0,27.777777777777775,37.5,78.57142857142857,38.888888888888886,44.44444444444444,56.25,16.666666666666664,55.55555555555556,40.0,83.33333333333334,50.0,66.66666666666667,40.0,65.0,44.44444444444444,66.66666666666666,25.0,50.0,77.77777777777777,56.25,62.5,68.75,33.33333333333333,18.75,31.25,57.14285714285714,87.5,31.25,41.66666666666666,55.55555555555556,33.33333333333333,57.14285714285714,81.25,31.25,37.5,50.0,50.0,75.0,31.25,56.25,6.25],\"type\":\"scatter\"},{\"marker\":{\"color\":\"green\",\"opacity\":0.5},\"mode\":\"markers\",\"name\":\"Names Changed = True\",\"x\":[1,2,3,4,5,6,7,8,9,10,11,12,13,14,15,16,17,18,19,21,22,23,24,25,26,27,28,29,30,31,32,33,34,35,36,37,38,39,40,41,42,43,44],\"y\":[42.857142857142854,30.0,27.777777777777775,37.5,78.57142857142857,38.888888888888886,44.44444444444444,56.25,16.666666666666664,55.55555555555556,40.0,83.33333333333334,50.0,66.66666666666667,40.0,65.0,44.44444444444444,50.0,25.0,50.0,77.77777777777777,56.25,62.5,68.75,25.0,18.75,31.25,57.14285714285714,87.5,31.25,41.66666666666666,55.55555555555556,33.33333333333333,57.14285714285714,81.25,31.25,37.5,50.0,50.0,75.0,31.25,56.25,6.25],\"type\":\"scatter\"}],                        {\"template\":{\"data\":{\"histogram2dcontour\":[{\"type\":\"histogram2dcontour\",\"colorbar\":{\"outlinewidth\":0,\"ticks\":\"\"},\"colorscale\":[[0.0,\"#0d0887\"],[0.1111111111111111,\"#46039f\"],[0.2222222222222222,\"#7201a8\"],[0.3333333333333333,\"#9c179e\"],[0.4444444444444444,\"#bd3786\"],[0.5555555555555556,\"#d8576b\"],[0.6666666666666666,\"#ed7953\"],[0.7777777777777778,\"#fb9f3a\"],[0.8888888888888888,\"#fdca26\"],[1.0,\"#f0f921\"]]}],\"choropleth\":[{\"type\":\"choropleth\",\"colorbar\":{\"outlinewidth\":0,\"ticks\":\"\"}}],\"histogram2d\":[{\"type\":\"histogram2d\",\"colorbar\":{\"outlinewidth\":0,\"ticks\":\"\"},\"colorscale\":[[0.0,\"#0d0887\"],[0.1111111111111111,\"#46039f\"],[0.2222222222222222,\"#7201a8\"],[0.3333333333333333,\"#9c179e\"],[0.4444444444444444,\"#bd3786\"],[0.5555555555555556,\"#d8576b\"],[0.6666666666666666,\"#ed7953\"],[0.7777777777777778,\"#fb9f3a\"],[0.8888888888888888,\"#fdca26\"],[1.0,\"#f0f921\"]]}],\"heatmap\":[{\"type\":\"heatmap\",\"colorbar\":{\"outlinewidth\":0,\"ticks\":\"\"},\"colorscale\":[[0.0,\"#0d0887\"],[0.1111111111111111,\"#46039f\"],[0.2222222222222222,\"#7201a8\"],[0.3333333333333333,\"#9c179e\"],[0.4444444444444444,\"#bd3786\"],[0.5555555555555556,\"#d8576b\"],[0.6666666666666666,\"#ed7953\"],[0.7777777777777778,\"#fb9f3a\"],[0.8888888888888888,\"#fdca26\"],[1.0,\"#f0f921\"]]}],\"heatmapgl\":[{\"type\":\"heatmapgl\",\"colorbar\":{\"outlinewidth\":0,\"ticks\":\"\"},\"colorscale\":[[0.0,\"#0d0887\"],[0.1111111111111111,\"#46039f\"],[0.2222222222222222,\"#7201a8\"],[0.3333333333333333,\"#9c179e\"],[0.4444444444444444,\"#bd3786\"],[0.5555555555555556,\"#d8576b\"],[0.6666666666666666,\"#ed7953\"],[0.7777777777777778,\"#fb9f3a\"],[0.8888888888888888,\"#fdca26\"],[1.0,\"#f0f921\"]]}],\"contourcarpet\":[{\"type\":\"contourcarpet\",\"colorbar\":{\"outlinewidth\":0,\"ticks\":\"\"}}],\"contour\":[{\"type\":\"contour\",\"colorbar\":{\"outlinewidth\":0,\"ticks\":\"\"},\"colorscale\":[[0.0,\"#0d0887\"],[0.1111111111111111,\"#46039f\"],[0.2222222222222222,\"#7201a8\"],[0.3333333333333333,\"#9c179e\"],[0.4444444444444444,\"#bd3786\"],[0.5555555555555556,\"#d8576b\"],[0.6666666666666666,\"#ed7953\"],[0.7777777777777778,\"#fb9f3a\"],[0.8888888888888888,\"#fdca26\"],[1.0,\"#f0f921\"]]}],\"surface\":[{\"type\":\"surface\",\"colorbar\":{\"outlinewidth\":0,\"ticks\":\"\"},\"colorscale\":[[0.0,\"#0d0887\"],[0.1111111111111111,\"#46039f\"],[0.2222222222222222,\"#7201a8\"],[0.3333333333333333,\"#9c179e\"],[0.4444444444444444,\"#bd3786\"],[0.5555555555555556,\"#d8576b\"],[0.6666666666666666,\"#ed7953\"],[0.7777777777777778,\"#fb9f3a\"],[0.8888888888888888,\"#fdca26\"],[1.0,\"#f0f921\"]]}],\"mesh3d\":[{\"type\":\"mesh3d\",\"colorbar\":{\"outlinewidth\":0,\"ticks\":\"\"}}],\"scatter\":[{\"fillpattern\":{\"fillmode\":\"overlay\",\"size\":10,\"solidity\":0.2},\"type\":\"scatter\"}],\"parcoords\":[{\"type\":\"parcoords\",\"line\":{\"colorbar\":{\"outlinewidth\":0,\"ticks\":\"\"}}}],\"scatterpolargl\":[{\"type\":\"scatterpolargl\",\"marker\":{\"colorbar\":{\"outlinewidth\":0,\"ticks\":\"\"}}}],\"bar\":[{\"error_x\":{\"color\":\"#2a3f5f\"},\"error_y\":{\"color\":\"#2a3f5f\"},\"marker\":{\"line\":{\"color\":\"#E5ECF6\",\"width\":0.5},\"pattern\":{\"fillmode\":\"overlay\",\"size\":10,\"solidity\":0.2}},\"type\":\"bar\"}],\"scattergeo\":[{\"type\":\"scattergeo\",\"marker\":{\"colorbar\":{\"outlinewidth\":0,\"ticks\":\"\"}}}],\"scatterpolar\":[{\"type\":\"scatterpolar\",\"marker\":{\"colorbar\":{\"outlinewidth\":0,\"ticks\":\"\"}}}],\"histogram\":[{\"marker\":{\"pattern\":{\"fillmode\":\"overlay\",\"size\":10,\"solidity\":0.2}},\"type\":\"histogram\"}],\"scattergl\":[{\"type\":\"scattergl\",\"marker\":{\"colorbar\":{\"outlinewidth\":0,\"ticks\":\"\"}}}],\"scatter3d\":[{\"type\":\"scatter3d\",\"line\":{\"colorbar\":{\"outlinewidth\":0,\"ticks\":\"\"}},\"marker\":{\"colorbar\":{\"outlinewidth\":0,\"ticks\":\"\"}}}],\"scattermapbox\":[{\"type\":\"scattermapbox\",\"marker\":{\"colorbar\":{\"outlinewidth\":0,\"ticks\":\"\"}}}],\"scatterternary\":[{\"type\":\"scatterternary\",\"marker\":{\"colorbar\":{\"outlinewidth\":0,\"ticks\":\"\"}}}],\"scattercarpet\":[{\"type\":\"scattercarpet\",\"marker\":{\"colorbar\":{\"outlinewidth\":0,\"ticks\":\"\"}}}],\"carpet\":[{\"aaxis\":{\"endlinecolor\":\"#2a3f5f\",\"gridcolor\":\"white\",\"linecolor\":\"white\",\"minorgridcolor\":\"white\",\"startlinecolor\":\"#2a3f5f\"},\"baxis\":{\"endlinecolor\":\"#2a3f5f\",\"gridcolor\":\"white\",\"linecolor\":\"white\",\"minorgridcolor\":\"white\",\"startlinecolor\":\"#2a3f5f\"},\"type\":\"carpet\"}],\"table\":[{\"cells\":{\"fill\":{\"color\":\"#EBF0F8\"},\"line\":{\"color\":\"white\"}},\"header\":{\"fill\":{\"color\":\"#C8D4E3\"},\"line\":{\"color\":\"white\"}},\"type\":\"table\"}],\"barpolar\":[{\"marker\":{\"line\":{\"color\":\"#E5ECF6\",\"width\":0.5},\"pattern\":{\"fillmode\":\"overlay\",\"size\":10,\"solidity\":0.2}},\"type\":\"barpolar\"}],\"pie\":[{\"automargin\":true,\"type\":\"pie\"}]},\"layout\":{\"autotypenumbers\":\"strict\",\"colorway\":[\"#636efa\",\"#EF553B\",\"#00cc96\",\"#ab63fa\",\"#FFA15A\",\"#19d3f3\",\"#FF6692\",\"#B6E880\",\"#FF97FF\",\"#FECB52\"],\"font\":{\"color\":\"#2a3f5f\"},\"hovermode\":\"closest\",\"hoverlabel\":{\"align\":\"left\"},\"paper_bgcolor\":\"white\",\"plot_bgcolor\":\"#E5ECF6\",\"polar\":{\"bgcolor\":\"#E5ECF6\",\"angularaxis\":{\"gridcolor\":\"white\",\"linecolor\":\"white\",\"ticks\":\"\"},\"radialaxis\":{\"gridcolor\":\"white\",\"linecolor\":\"white\",\"ticks\":\"\"}},\"ternary\":{\"bgcolor\":\"#E5ECF6\",\"aaxis\":{\"gridcolor\":\"white\",\"linecolor\":\"white\",\"ticks\":\"\"},\"baxis\":{\"gridcolor\":\"white\",\"linecolor\":\"white\",\"ticks\":\"\"},\"caxis\":{\"gridcolor\":\"white\",\"linecolor\":\"white\",\"ticks\":\"\"}},\"coloraxis\":{\"colorbar\":{\"outlinewidth\":0,\"ticks\":\"\"}},\"colorscale\":{\"sequential\":[[0.0,\"#0d0887\"],[0.1111111111111111,\"#46039f\"],[0.2222222222222222,\"#7201a8\"],[0.3333333333333333,\"#9c179e\"],[0.4444444444444444,\"#bd3786\"],[0.5555555555555556,\"#d8576b\"],[0.6666666666666666,\"#ed7953\"],[0.7777777777777778,\"#fb9f3a\"],[0.8888888888888888,\"#fdca26\"],[1.0,\"#f0f921\"]],\"sequentialminus\":[[0.0,\"#0d0887\"],[0.1111111111111111,\"#46039f\"],[0.2222222222222222,\"#7201a8\"],[0.3333333333333333,\"#9c179e\"],[0.4444444444444444,\"#bd3786\"],[0.5555555555555556,\"#d8576b\"],[0.6666666666666666,\"#ed7953\"],[0.7777777777777778,\"#fb9f3a\"],[0.8888888888888888,\"#fdca26\"],[1.0,\"#f0f921\"]],\"diverging\":[[0,\"#8e0152\"],[0.1,\"#c51b7d\"],[0.2,\"#de77ae\"],[0.3,\"#f1b6da\"],[0.4,\"#fde0ef\"],[0.5,\"#f7f7f7\"],[0.6,\"#e6f5d0\"],[0.7,\"#b8e186\"],[0.8,\"#7fbc41\"],[0.9,\"#4d9221\"],[1,\"#276419\"]]},\"xaxis\":{\"gridcolor\":\"white\",\"linecolor\":\"white\",\"ticks\":\"\",\"title\":{\"standoff\":15},\"zerolinecolor\":\"white\",\"automargin\":true,\"zerolinewidth\":2},\"yaxis\":{\"gridcolor\":\"white\",\"linecolor\":\"white\",\"ticks\":\"\",\"title\":{\"standoff\":15},\"zerolinecolor\":\"white\",\"automargin\":true,\"zerolinewidth\":2},\"scene\":{\"xaxis\":{\"backgroundcolor\":\"#E5ECF6\",\"gridcolor\":\"white\",\"linecolor\":\"white\",\"showbackground\":true,\"ticks\":\"\",\"zerolinecolor\":\"white\",\"gridwidth\":2},\"yaxis\":{\"backgroundcolor\":\"#E5ECF6\",\"gridcolor\":\"white\",\"linecolor\":\"white\",\"showbackground\":true,\"ticks\":\"\",\"zerolinecolor\":\"white\",\"gridwidth\":2},\"zaxis\":{\"backgroundcolor\":\"#E5ECF6\",\"gridcolor\":\"white\",\"linecolor\":\"white\",\"showbackground\":true,\"ticks\":\"\",\"zerolinecolor\":\"white\",\"gridwidth\":2}},\"shapedefaults\":{\"line\":{\"color\":\"#2a3f5f\"}},\"annotationdefaults\":{\"arrowcolor\":\"#2a3f5f\",\"arrowhead\":0,\"arrowwidth\":1},\"geo\":{\"bgcolor\":\"white\",\"landcolor\":\"#E5ECF6\",\"subunitcolor\":\"white\",\"showland\":true,\"showlakes\":true,\"lakecolor\":\"white\"},\"title\":{\"x\":0.05},\"mapbox\":{\"style\":\"light\"}}},\"xaxis\":{\"anchor\":\"y\",\"domain\":[0.0,1.0],\"title\":{\"text\":\"Session\"}},\"yaxis\":{\"anchor\":\"x\",\"domain\":[0.0,1.0],\"title\":{\"text\":\"Avg Mafia Percentile Rank (%)\"}},\"legend\":{\"tracegroupgap\":0,\"title\":{\"text\":\"Names Changed\"}},\"margin\":{\"t\":60},\"title\":{\"text\":\"Avg Percentile Rank of Mafia per Session\"},\"shapes\":[{\"line\":{\"color\":\"gray\",\"dash\":\"dot\",\"width\":2},\"type\":\"line\",\"x0\":1,\"x1\":44,\"y0\":50,\"y1\":50}]},                        {\"responsive\": true}                    ).then(function(){\n",
       "                            \n",
       "var gd = document.getElementById('b91cf051-6eb2-4a38-93e2-06367572d47c');\n",
       "var x = new MutationObserver(function (mutations, observer) {{\n",
       "        var display = window.getComputedStyle(gd).display;\n",
       "        if (!display || display === 'none') {{\n",
       "            console.log([gd, 'removed!']);\n",
       "            Plotly.purge(gd);\n",
       "            observer.disconnect();\n",
       "        }}\n",
       "}});\n",
       "\n",
       "// Listen for the removal of the full notebook cells\n",
       "var notebookContainer = gd.closest('#notebook-container');\n",
       "if (notebookContainer) {{\n",
       "    x.observe(notebookContainer, {childList: true});\n",
       "}}\n",
       "\n",
       "// Listen for the clearing of the current output cell\n",
       "var outputEl = gd.closest('.output');\n",
       "if (outputEl) {{\n",
       "    x.observe(outputEl, {childList: true});\n",
       "}}\n",
       "\n",
       "                        })                };                });            </script>        </div>"
      ]
     },
     "metadata": {},
     "output_type": "display_data"
    }
   ],
   "source": [
    "fig1 = px.scatter()\n",
    "\n",
    "# Add the points for 'names_changed' = False (blue)\n",
    "fig1.add_scatter(x=df_false['session'], y=df_false['avg_mafia_rank'], \n",
    "                mode='markers', name='Names Changed = False', marker=dict(color='blue', opacity=0.5))\n",
    "\n",
    "# Add the points for 'names_changed' = True (green)\n",
    "fig1.add_scatter(x=df_true['session'], y=df_true['avg_mafia_rank'], \n",
    "                mode='markers', name='Names Changed = True', marker=dict(color='green', opacity=0.5))\n",
    "\n",
    "# Set titles and labels\n",
    "fig1.update_layout(\n",
    "    title=\"Avg Percentile Rank of Mafia per Session\",\n",
    "    xaxis_title=\"Session\",\n",
    "    yaxis_title=\"Avg Mafia Percentile Rank (%)\",\n",
    "    legend_title=\"Names Changed\"\n",
    "    \n",
    ")\n",
    "\n",
    "# Add a dotted horizontal line at y = 50%\n",
    "fig1.add_shape(\n",
    "    type=\"line\",\n",
    "    x0=min(df_false['session'].min(), df_true['session'].min()),  # start of line on x-axis\n",
    "    x1=max(df_false['session'].max(), df_true['session'].max()),  # end of line on x-axis\n",
    "    y0=50,  # y position for the horizontal line\n",
    "    y1=50,  # same y position for the horizontal line\n",
    "    line=dict(\n",
    "        color=\"gray\",  # line color\n",
    "        width=2,  # line width\n",
    "        dash=\"dot\"  # dotted line style\n",
    "    ),\n",
    ")\n",
    "\n",
    "# Show the plot\n",
    "fig1.show()"
   ]
  },
  {
   "cell_type": "code",
   "execution_count": 299,
   "id": "46091275-80d5-46af-85be-a256f9457958",
   "metadata": {},
   "outputs": [
    {
     "data": {
      "image/png": "[encoded data removed]",
      "text/plain": [
       "<Figure size 640x480 with 1 Axes>"
      ]
     },
     "metadata": {},
     "output_type": "display_data"
    }
   ],
   "source": [
    "# Sort by the 'session' column\n",
    "df_sorted = ranks_df.sort_values('session')\n",
    "\n",
    "# Plotting the scatter plot\n",
    "plt.scatter(df_sorted['session'], df_sorted['avg_mafia_rank'], color='blue', label='avg_mafia_rank')\n",
    "plt.title('Scatter Plot of avg_mafia_rank vs. Session')\n",
    "plt.xlabel('Session')\n",
    "plt.ylabel('avg_mafia_rank')\n",
    "plt.xticks(df_sorted['session'])  # Ensure x-ticks correspond to session values\n",
    "plt.show()"
   ]
  },
  {
   "cell_type": "code",
   "execution_count": 303,
   "id": "37d79dc9-4065-4a98-b8eb-cd0fa6dc100b",
   "metadata": {},
   "outputs": [
    {
     "data": {
      "image/png": "[encoded data removed]",
      "text/plain": [
       "<Figure size 640x480 with 1 Axes>"
      ]
     },
     "metadata": {},
     "output_type": "display_data"
    }
   ],
   "source": [
    "# Sort the data by 'avg_mafia_rank' (True/False) from least to greatest\n",
    "df_sorted = ranks_df.sort_values(by='avg_mafia_rank')\n",
    "\n",
    "# Plotting the scatter plot with an unlabeled x-axis\n",
    "plt.scatter(df_sorted['session'], df_sorted['avg_mafia_rank'], color='blue')\n",
    "plt.title('Scatter Plot of avg_mafia_rank')\n",
    "plt.ylabel('avg mafia rank')\n",
    "s\n",
    "# Remove x-axis labels and ticks\n",
    "plt.xticks([])  # Remove x-axis ticks and labels\n",
    "\n",
    "plt.show()"
   ]
  },
  {
   "cell_type": "code",
   "execution_count": 118,
   "id": "d34cba12-2805-492f-aacf-8e88463871e6",
   "metadata": {},
   "outputs": [
    {
     "data": {
      "text/html": [
       "<div>\n",
       "<style scoped>\n",
       "    .dataframe tbody tr th:only-of-type {\n",
       "        vertical-align: middle;\n",
       "    }\n",
       "\n",
       "    .dataframe tbody tr th {\n",
       "        vertical-align: top;\n",
       "    }\n",
       "\n",
       "    .dataframe thead th {\n",
       "        text-align: right;\n",
       "    }\n",
       "</style>\n",
       "<table border=\"1\" class=\"dataframe\">\n",
       "  <thead>\n",
       "    <tr style=\"text-align: right;\">\n",
       "      <th></th>\n",
       "      <th>session_1</th>\n",
       "      <th>session_10</th>\n",
       "      <th>session_10_anonymized</th>\n",
       "      <th>session_11</th>\n",
       "      <th>session_11_anonymized</th>\n",
       "      <th>session_12</th>\n",
       "      <th>session_12_anonymized</th>\n",
       "      <th>session_13</th>\n",
       "      <th>session_13_anonymized</th>\n",
       "      <th>session_14</th>\n",
       "      <th>...</th>\n",
       "      <th>session_5</th>\n",
       "      <th>session_5_anonymized</th>\n",
       "      <th>session_6</th>\n",
       "      <th>session_6_anonymized</th>\n",
       "      <th>session_7</th>\n",
       "      <th>session_7_anonymized</th>\n",
       "      <th>session_8</th>\n",
       "      <th>session_8_anonymized</th>\n",
       "      <th>session_9</th>\n",
       "      <th>session_9_anonymized</th>\n",
       "    </tr>\n",
       "  </thead>\n",
       "  <tbody>\n",
       "    <tr>\n",
       "      <th>file_name</th>\n",
       "      <td>session_1</td>\n",
       "      <td>session_10</td>\n",
       "      <td>session_10_anonymized</td>\n",
       "      <td>session_11</td>\n",
       "      <td>session_11_anonymized</td>\n",
       "      <td>session_12</td>\n",
       "      <td>session_12_anonymized</td>\n",
       "      <td>session_13</td>\n",
       "      <td>session_13_anonymized</td>\n",
       "      <td>session_14</td>\n",
       "      <td>...</td>\n",
       "      <td>session_5</td>\n",
       "      <td>session_5_anonymized</td>\n",
       "      <td>session_6</td>\n",
       "      <td>session_6_anonymized</td>\n",
       "      <td>session_7</td>\n",
       "      <td>session_7_anonymized</td>\n",
       "      <td>session_8</td>\n",
       "      <td>session_8_anonymized</td>\n",
       "      <td>session_9</td>\n",
       "      <td>session_9_anonymized</td>\n",
       "    </tr>\n",
       "    <tr>\n",
       "      <th>session</th>\n",
       "      <td>1</td>\n",
       "      <td>10</td>\n",
       "      <td>session_10</td>\n",
       "      <td>11</td>\n",
       "      <td>11</td>\n",
       "      <td>12</td>\n",
       "      <td>12</td>\n",
       "      <td>13</td>\n",
       "      <td>13</td>\n",
       "      <td>14</td>\n",
       "      <td>...</td>\n",
       "      <td>5</td>\n",
       "      <td>session_5</td>\n",
       "      <td>6</td>\n",
       "      <td>6</td>\n",
       "      <td>7</td>\n",
       "      <td>session_7</td>\n",
       "      <td>8</td>\n",
       "      <td>8</td>\n",
       "      <td>9</td>\n",
       "      <td>9</td>\n",
       "    </tr>\n",
       "    <tr>\n",
       "      <th>Players</th>\n",
       "      <td>{'Ryan Hodges': 'town', 'Mary Trujillo': 'mafi...</td>\n",
       "      <td>{'Kyle Mack': 'town', 'Ashley Adams': 'mafia',...</td>\n",
       "      <td>{'Player_E': 'town', 'Player_R': 'mafia', 'Pla...</td>\n",
       "      <td>{'Bridget Russell': 'town', 'John Willis': 'ma...</td>\n",
       "      <td>{'Player_F': 'town', 'Player_P': 'mafia', 'Pla...</td>\n",
       "      <td>{'Laura Baldwin': 'town', 'Alexander Ford': 'm...</td>\n",
       "      <td>{'Player_U': 'town', 'Player_F': 'mafia', 'Pla...</td>\n",
       "      <td>{'Megan Jackson': 'town', 'Sara Marshall': 'ma...</td>\n",
       "      <td>{'Player_U': 'town', 'Player_R': 'mafia', 'Pla...</td>\n",
       "      <td>{'Michael Sharp': 'town', 'Austin Williams': '...</td>\n",
       "      <td>...</td>\n",
       "      <td>{'Robert Evans': 'town', 'Sandra Robinson': 'm...</td>\n",
       "      <td>{'Player_U': 'town', 'Player_V': 'mafia', 'Pla...</td>\n",
       "      <td>{'Jeremiah Johnson': 'town', 'Ricky Mcneil': '...</td>\n",
       "      <td>{'Player_I': 'town', 'Player_Y': 'mafia', 'Pla...</td>\n",
       "      <td>{'John Thompson': 'town', 'Alyssa Reynolds': '...</td>\n",
       "      <td>{'Player_O': 'town', 'Player_D': 'mafia', 'Pla...</td>\n",
       "      <td>{'Justin Scott': 'town', 'Melissa Vang': 'mafi...</td>\n",
       "      <td>{'Player_Y': 'town', 'Player_V': 'mafia', 'Pla...</td>\n",
       "      <td>{'Kelsey Wallace': 'town', 'Mr. Robert Bryant'...</td>\n",
       "      <td>{'Player_L': 'town', 'Player_E': 'mafia', 'Pla...</td>\n",
       "    </tr>\n",
       "    <tr>\n",
       "      <th>Ranks</th>\n",
       "      <td>{'Ryan Hodges': 1, 'Mary Trujillo': 2, 'Christ...</td>\n",
       "      <td>{'Kyle Mack': 1, 'Ashley Adams': 2, 'Mary Arno...</td>\n",
       "      <td>{'Player_E': 1, 'Player_R': 2, 'Player_N': 3, ...</td>\n",
       "      <td>{'Bridget Russell': 1, 'John Willis': 2, 'Will...</td>\n",
       "      <td>{'Player_F': 1, 'Player_P': 2, 'Player_K': 3, ...</td>\n",
       "      <td>{'Laura Baldwin': 1, 'Alexander Ford': 2, 'Jac...</td>\n",
       "      <td>{'Player_U': 1, 'Player_F': 2, 'Player_Q': 3, ...</td>\n",
       "      <td>{'Megan Jackson': 1, 'Sara Marshall': 2, 'Dani...</td>\n",
       "      <td>{'Player_U': 1, 'Player_R': 2, 'Player_N': 3, ...</td>\n",
       "      <td>{'Michael Sharp': 1, 'Austin Williams': 2, 'Ja...</td>\n",
       "      <td>...</td>\n",
       "      <td>{'Robert Evans': 1, 'Sandra Robinson': 2, 'Ter...</td>\n",
       "      <td>{'Player_U': 1, 'Player_V': 2, 'Player_H': 3, ...</td>\n",
       "      <td>{'Jeremiah Johnson': 1, 'Ricky Mcneil': 2, 'Ch...</td>\n",
       "      <td>{'Player_I': 1, 'Player_Y': 2, 'Player_J': 3, ...</td>\n",
       "      <td>{'John Thompson': 1, 'Alyssa Reynolds': 2, 'Ja...</td>\n",
       "      <td>{'Player_O': 1, 'Player_D': 2, 'Player_B': 3, ...</td>\n",
       "      <td>{'Justin Scott': 1, 'Melissa Vang': 2, 'Aaron ...</td>\n",
       "      <td>{'Player_Y': 1, 'Player_V': 2, 'Player_E': 3, ...</td>\n",
       "      <td>{'Kelsey Wallace': 1, 'Mr. Robert Bryant': 2, ...</td>\n",
       "      <td>{'Player_L': 1, 'Player_E': 2, 'Player_S': 3, ...</td>\n",
       "    </tr>\n",
       "  </tbody>\n",
       "</table>\n",
       "<p>4 rows × 88 columns</p>\n",
       "</div>"
      ],
      "text/plain": [
       "                                                   session_1  \\\n",
       "file_name                                          session_1   \n",
       "session                                                    1   \n",
       "Players    {'Ryan Hodges': 'town', 'Mary Trujillo': 'mafi...   \n",
       "Ranks      {'Ryan Hodges': 1, 'Mary Trujillo': 2, 'Christ...   \n",
       "\n",
       "                                                  session_10  \\\n",
       "file_name                                         session_10   \n",
       "session                                                   10   \n",
       "Players    {'Kyle Mack': 'town', 'Ashley Adams': 'mafia',...   \n",
       "Ranks      {'Kyle Mack': 1, 'Ashley Adams': 2, 'Mary Arno...   \n",
       "\n",
       "                                       session_10_anonymized  \\\n",
       "file_name                              session_10_anonymized   \n",
       "session                                           session_10   \n",
       "Players    {'Player_E': 'town', 'Player_R': 'mafia', 'Pla...   \n",
       "Ranks      {'Player_E': 1, 'Player_R': 2, 'Player_N': 3, ...   \n",
       "\n",
       "                                                  session_11  \\\n",
       "file_name                                         session_11   \n",
       "session                                                   11   \n",
       "Players    {'Bridget Russell': 'town', 'John Willis': 'ma...   \n",
       "Ranks      {'Bridget Russell': 1, 'John Willis': 2, 'Will...   \n",
       "\n",
       "                                       session_11_anonymized  \\\n",
       "file_name                              session_11_anonymized   \n",
       "session                                                   11   \n",
       "Players    {'Player_F': 'town', 'Player_P': 'mafia', 'Pla...   \n",
       "Ranks      {'Player_F': 1, 'Player_P': 2, 'Player_K': 3, ...   \n",
       "\n",
       "                                                  session_12  \\\n",
       "file_name                                         session_12   \n",
       "session                                                   12   \n",
       "Players    {'Laura Baldwin': 'town', 'Alexander Ford': 'm...   \n",
       "Ranks      {'Laura Baldwin': 1, 'Alexander Ford': 2, 'Jac...   \n",
       "\n",
       "                                       session_12_anonymized  \\\n",
       "file_name                              session_12_anonymized   \n",
       "session                                                   12   \n",
       "Players    {'Player_U': 'town', 'Player_F': 'mafia', 'Pla...   \n",
       "Ranks      {'Player_U': 1, 'Player_F': 2, 'Player_Q': 3, ...   \n",
       "\n",
       "                                                  session_13  \\\n",
       "file_name                                         session_13   \n",
       "session                                                   13   \n",
       "Players    {'Megan Jackson': 'town', 'Sara Marshall': 'ma...   \n",
       "Ranks      {'Megan Jackson': 1, 'Sara Marshall': 2, 'Dani...   \n",
       "\n",
       "                                       session_13_anonymized  \\\n",
       "file_name                              session_13_anonymized   \n",
       "session                                                   13   \n",
       "Players    {'Player_U': 'town', 'Player_R': 'mafia', 'Pla...   \n",
       "Ranks      {'Player_U': 1, 'Player_R': 2, 'Player_N': 3, ...   \n",
       "\n",
       "                                                  session_14  ...  \\\n",
       "file_name                                         session_14  ...   \n",
       "session                                                   14  ...   \n",
       "Players    {'Michael Sharp': 'town', 'Austin Williams': '...  ...   \n",
       "Ranks      {'Michael Sharp': 1, 'Austin Williams': 2, 'Ja...  ...   \n",
       "\n",
       "                                                   session_5  \\\n",
       "file_name                                          session_5   \n",
       "session                                                    5   \n",
       "Players    {'Robert Evans': 'town', 'Sandra Robinson': 'm...   \n",
       "Ranks      {'Robert Evans': 1, 'Sandra Robinson': 2, 'Ter...   \n",
       "\n",
       "                                        session_5_anonymized  \\\n",
       "file_name                               session_5_anonymized   \n",
       "session                                            session_5   \n",
       "Players    {'Player_U': 'town', 'Player_V': 'mafia', 'Pla...   \n",
       "Ranks      {'Player_U': 1, 'Player_V': 2, 'Player_H': 3, ...   \n",
       "\n",
       "                                                   session_6  \\\n",
       "file_name                                          session_6   \n",
       "session                                                    6   \n",
       "Players    {'Jeremiah Johnson': 'town', 'Ricky Mcneil': '...   \n",
       "Ranks      {'Jeremiah Johnson': 1, 'Ricky Mcneil': 2, 'Ch...   \n",
       "\n",
       "                                        session_6_anonymized  \\\n",
       "file_name                               session_6_anonymized   \n",
       "session                                                    6   \n",
       "Players    {'Player_I': 'town', 'Player_Y': 'mafia', 'Pla...   \n",
       "Ranks      {'Player_I': 1, 'Player_Y': 2, 'Player_J': 3, ...   \n",
       "\n",
       "                                                   session_7  \\\n",
       "file_name                                          session_7   \n",
       "session                                                    7   \n",
       "Players    {'John Thompson': 'town', 'Alyssa Reynolds': '...   \n",
       "Ranks      {'John Thompson': 1, 'Alyssa Reynolds': 2, 'Ja...   \n",
       "\n",
       "                                        session_7_anonymized  \\\n",
       "file_name                               session_7_anonymized   \n",
       "session                                            session_7   \n",
       "Players    {'Player_O': 'town', 'Player_D': 'mafia', 'Pla...   \n",
       "Ranks      {'Player_O': 1, 'Player_D': 2, 'Player_B': 3, ...   \n",
       "\n",
       "                                                   session_8  \\\n",
       "file_name                                          session_8   \n",
       "session                                                    8   \n",
       "Players    {'Justin Scott': 'town', 'Melissa Vang': 'mafi...   \n",
       "Ranks      {'Justin Scott': 1, 'Melissa Vang': 2, 'Aaron ...   \n",
       "\n",
       "                                        session_8_anonymized  \\\n",
       "file_name                               session_8_anonymized   \n",
       "session                                                    8   \n",
       "Players    {'Player_Y': 'town', 'Player_V': 'mafia', 'Pla...   \n",
       "Ranks      {'Player_Y': 1, 'Player_V': 2, 'Player_E': 3, ...   \n",
       "\n",
       "                                                   session_9  \\\n",
       "file_name                                          session_9   \n",
       "session                                                    9   \n",
       "Players    {'Kelsey Wallace': 'town', 'Mr. Robert Bryant'...   \n",
       "Ranks      {'Kelsey Wallace': 1, 'Mr. Robert Bryant': 2, ...   \n",
       "\n",
       "                                        session_9_anonymized  \n",
       "file_name                               session_9_anonymized  \n",
       "session                                                    9  \n",
       "Players    {'Player_L': 'town', 'Player_E': 'mafia', 'Pla...  \n",
       "Ranks      {'Player_L': 1, 'Player_E': 2, 'Player_S': 3, ...  \n",
       "\n",
       "[4 rows x 88 columns]"
      ]
     },
     "execution_count": 118,
     "metadata": {},
     "output_type": "execute_result"
    }
   ],
   "source": [
    "ranks_DataFrame"
   ]
  },
  {
   "cell_type": "markdown",
   "id": "6465c1aa-5701-4139-9702-290e6eb62226",
   "metadata": {},
   "source": [
    "## testing"
   ]
  },
  {
   "cell_type": "code",
   "execution_count": 96,
   "id": "193f500b-ac11-4fae-a129-d879eb5b5875",
   "metadata": {},
   "outputs": [],
   "source": [
    "### Scrap This!!! ###\n",
    "import csv\n",
    "\n",
    "def dict_to_csv(transcripts_folder, file_dict):\n",
    "    filename = file_dict['file_name']\n",
    "    grades_location = os.path.join(transcripts_folder, \"graded_ranks\", f\"{filename}_rank.csv\")\n",
    "    #print(f\"'{grades_location}'\",end='. ')\n",
    "    '''\n",
    "    # write to a new csv\n",
    "    with open(grades_location, 'w', newline='') as f:\n",
    "        writer = csv.DictWriter(f, fieldnames=file_dict.keys())\n",
    "        writer.writeheader()\n",
    "        writer.writerows([file_dict[key] for key in file_dict])\n",
    "    '''\n",
    "\n",
    "# Example dict_to_csv usage:\n",
    "for file_dictionary in parsed_content:\n",
    "    #print(parsed_content[file]['file_name'],end=\", \")\n",
    "    #print(parsed_content[file]['Players'][random.choice(list(parsed_content[file]['Players'].items()))[0]],end=\", \")\n",
    "    dict_to_csv(transcripts_folder, parsed_content[file_dictionary] )"
   ]
  },
  {
   "cell_type": "code",
   "execution_count": 179,
   "id": "bed95d9d-c8d4-4774-8042-eb3968cab762",
   "metadata": {},
   "outputs": [
    {
     "name": "stdout",
     "output_type": "stream",
     "text": [
      "                                   file_name  session  names_changed  \\\n",
      "session_1                          session_1        1          False   \n",
      "session_1_anonymized    session_1_anonymized        1           True   \n",
      "session_2                          session_2        2          False   \n",
      "session_2_anonymized    session_2_anonymized        2           True   \n",
      "session_3                          session_3        3          False   \n",
      "session_3_anonymized    session_3_anonymized        3           True   \n",
      "session_4                          session_4        4          False   \n",
      "session_4_anonymized    session_4_anonymized        4           True   \n",
      "session_5                          session_5        5          False   \n",
      "session_5_anonymized    session_5_anonymized        5           True   \n",
      "session_6                          session_6        6          False   \n",
      "session_6_anonymized    session_6_anonymized        6           True   \n",
      "session_7                          session_7        7          False   \n",
      "session_7_anonymized    session_7_anonymized        7           True   \n",
      "session_8                          session_8        8          False   \n",
      "session_8_anonymized    session_8_anonymized        8           True   \n",
      "session_9                          session_9        9          False   \n",
      "session_9_anonymized    session_9_anonymized        9           True   \n",
      "session_10                        session_10       10          False   \n",
      "session_10_anonymized  session_10_anonymized       10           True   \n",
      "session_11                        session_11       11          False   \n",
      "session_11_anonymized  session_11_anonymized       11           True   \n",
      "session_12                        session_12       12          False   \n",
      "session_12_anonymized  session_12_anonymized       12           True   \n",
      "session_13                        session_13       13          False   \n",
      "session_13_anonymized  session_13_anonymized       13           True   \n",
      "session_14                        session_14       14          False   \n",
      "session_14_anonymized  session_14_anonymized       14           True   \n",
      "session_15                        session_15       15          False   \n",
      "session_15_anonymized  session_15_anonymized       15           True   \n",
      "session_16                        session_16       16          False   \n",
      "session_16_anonymized  session_16_anonymized       16           True   \n",
      "session_17                        session_17       17          False   \n",
      "session_17_anonymized  session_17_anonymized       17           True   \n",
      "session_18                        session_18       18          False   \n",
      "session_18_anonymized  session_18_anonymized       18           True   \n",
      "session_19                        session_19       19          False   \n",
      "session_19_anonymized  session_19_anonymized       19           True   \n",
      "session_21                        session_21       21          False   \n",
      "session_21_anonymized  session_21_anonymized       21           True   \n",
      "session_22                        session_22       22          False   \n",
      "session_22_anonymized  session_22_anonymized       22           True   \n",
      "session_23                        session_23       23          False   \n",
      "session_23_anonymized  session_23_anonymized       23           True   \n",
      "session_24                        session_24       24          False   \n",
      "session_24_anonymized  session_24_anonymized       24           True   \n",
      "session_25                        session_25       25          False   \n",
      "session_25_anonymized  session_25_anonymized       25           True   \n",
      "session_26                        session_26       26          False   \n",
      "session_26_anonymized  session_26_anonymized       26           True   \n",
      "session_27                        session_27       27          False   \n",
      "session_27_anonymized  session_27_anonymized       27           True   \n",
      "session_28                        session_28       28          False   \n",
      "session_28_anonymized  session_28_anonymized       28           True   \n",
      "session_29                        session_29       29          False   \n",
      "session_29_anonymized  session_29_anonymized       29           True   \n",
      "session_30                        session_30       30          False   \n",
      "session_30_anonymized  session_30_anonymized       30           True   \n",
      "session_31                        session_31       31          False   \n",
      "session_31_anonymized  session_31_anonymized       31           True   \n",
      "session_32                        session_32       32          False   \n",
      "session_32_anonymized  session_32_anonymized       32           True   \n",
      "session_33                        session_33       33          False   \n",
      "session_33_anonymized  session_33_anonymized       33           True   \n",
      "session_34                        session_34       34          False   \n",
      "session_34_anonymized  session_34_anonymized       34           True   \n",
      "session_35                        session_35       35          False   \n",
      "session_35_anonymized  session_35_anonymized       35           True   \n",
      "session_36                        session_36       36          False   \n",
      "session_36_anonymized  session_36_anonymized       36           True   \n",
      "session_37                        session_37       37          False   \n",
      "session_37_anonymized  session_37_anonymized       37           True   \n",
      "session_38                        session_38       38          False   \n",
      "session_38_anonymized  session_38_anonymized       38           True   \n",
      "session_39                        session_39       39          False   \n",
      "session_39_anonymized  session_39_anonymized       39           True   \n",
      "session_40                        session_40       40          False   \n",
      "session_40_anonymized  session_40_anonymized       40           True   \n",
      "session_41                        session_41       41          False   \n",
      "session_41_anonymized  session_41_anonymized       41           True   \n",
      "session_42                        session_42       42          False   \n",
      "session_42_anonymized  session_42_anonymized       42           True   \n",
      "session_43                        session_43       43          False   \n",
      "session_43_anonymized  session_43_anonymized       43           True   \n",
      "session_44                        session_44       44          False   \n",
      "session_44_anonymized  session_44_anonymized       44           True   \n",
      "\n",
      "                                                          mafia  \\\n",
      "session_1                         [Ryan Hodges, Natalie Morris]   \n",
      "session_1_anonymized                       [Player_M, Player_W]   \n",
      "session_2                         [Shawn Bailey, Tricia Miller]   \n",
      "session_2_anonymized                       [Player_T, Player_E]   \n",
      "session_3                       [Jeremy Davis, Harold Peterson]   \n",
      "session_3_anonymized                       [Player_Q, Player_M]   \n",
      "session_4                           [Nicolas Cole, Wendy White]   \n",
      "session_4_anonymized                       [Player_O, Player_G]   \n",
      "session_5                            [Kevin Hodge, Sara Bright]   \n",
      "session_5_anonymized                       [Player_X, Player_R]   \n",
      "session_6                          [Ricky Mcneil, Jesse Martin]   \n",
      "session_6_anonymized                       [Player_Y, Player_O]   \n",
      "session_7                       [John Thompson, Cynthia Stokes]   \n",
      "session_7_anonymized                       [Player_O, Player_T]   \n",
      "session_8                      [Danielle Moore, Janice Estrada]   \n",
      "session_8_anonymized                       [Player_J, Player_R]   \n",
      "session_9                          [Kelsey Wallace, Anna Lopez]   \n",
      "session_9_anonymized                       [Player_L, Player_T]   \n",
      "session_10                    [Natasha Cooke, Michael Williams]   \n",
      "session_10_anonymized                      [Player_J, Player_B]   \n",
      "session_11                 [Bridget Russell, Marissa Hernandez]   \n",
      "session_11_anonymized                      [Player_F, Player_N]   \n",
      "session_12                        [Timothy Moore, Daniel Mayer]   \n",
      "session_12_anonymized                      [Player_J, Player_Y]   \n",
      "session_13                        [Daniel Humphrey, Paul Silva]   \n",
      "session_13_anonymized                      [Player_N, Player_F]   \n",
      "session_14                        [Abigail Perez, Jay Williams]   \n",
      "session_14_anonymized                      [Player_C, Player_A]   \n",
      "session_15                   [Jamie Meadows, Tiffany Hernandez]   \n",
      "session_15_anonymized                      [Player_T, Player_N]   \n",
      "session_16                           [Sara Reed, Ruben Sanchez]   \n",
      "session_16_anonymized                      [Player_S, Player_G]   \n",
      "session_17                        [Bob Woods, Dr. Kelli Brooks]   \n",
      "session_17_anonymized                      [Player_W, Player_D]   \n",
      "session_18                                      [Brandy Knight]   \n",
      "session_18_anonymized                                [Player_Y]   \n",
      "session_19                                      [John Thompson]   \n",
      "session_19_anonymized                                [Player_E]   \n",
      "session_21             [Stephanie Gonzalez, Christopher Turner]   \n",
      "session_21_anonymized                      [Player_D, Player_L]   \n",
      "session_22                   [Natalie Velasquez, Kevin Morales]   \n",
      "session_22_anonymized                      [Player_Z, Player_Q]   \n",
      "session_23                       [Scott Marshall, Brent Graham]   \n",
      "session_23_anonymized                      [Player_O, Player_Q]   \n",
      "session_24                   [Monica Sweeney, Felicia Schwartz]   \n",
      "session_24_anonymized                      [Player_V, Player_R]   \n",
      "session_25                     [Benjamin Pollard, Harold Price]   \n",
      "session_25_anonymized                      [Player_D, Player_I]   \n",
      "session_26                                      [Jennifer Diaz]   \n",
      "session_26_anonymized                                [Player_Z]   \n",
      "session_27                       [Erin Blevins, Brittany Evans]   \n",
      "session_27_anonymized                      [Player_E, Player_M]   \n",
      "session_28                        [Mike Burton, William Holmes]   \n",
      "session_28_anonymized                      [Player_M, Player_K]   \n",
      "session_29                                        [Lisa Harris]   \n",
      "session_29_anonymized                                [Player_M]   \n",
      "session_30                                    [Danielle Oliver]   \n",
      "session_30_anonymized                                [Player_C]   \n",
      "session_31                        [Jon Gutierrez, Ryan Russell]   \n",
      "session_31_anonymized                      [Player_Z, Player_J]   \n",
      "session_32                         [Bryan Brown, Melanie Salas]   \n",
      "session_32_anonymized                      [Player_C, Player_F]   \n",
      "session_33                                     [Michael Carter]   \n",
      "session_33_anonymized                                [Player_G]   \n",
      "session_34                            [Eric Fisher, James Lamb]   \n",
      "session_34_anonymized                      [Player_G, Player_D]   \n",
      "session_35                    [Alyssa Washington, Mary Mullins]   \n",
      "session_35_anonymized                      [Player_B, Player_R]   \n",
      "session_36                     [Matthew Ortega, Richard Walter]   \n",
      "session_36_anonymized                      [Player_F, Player_H]   \n",
      "session_37                   [Elizabeth Saunders, Mariah Burke]   \n",
      "session_37_anonymized                      [Player_Z, Player_B]   \n",
      "session_38                                      [Garrett Baker]   \n",
      "session_38_anonymized                                [Player_M]   \n",
      "session_39                     [Christine Peterson, Louis Webb]   \n",
      "session_39_anonymized                      [Player_H, Player_B]   \n",
      "session_40                          [Tiffany Hill, Cody Garner]   \n",
      "session_40_anonymized                      [Player_Y, Player_T]   \n",
      "session_41                           [Amy Lewis, Riley Webster]   \n",
      "session_41_anonymized                      [Player_P, Player_S]   \n",
      "session_42                       [Jason Smith, Robert Anderson]   \n",
      "session_42_anonymized                      [Player_D, Player_T]   \n",
      "session_43                         [Zachary Hurley, Laura Pena]   \n",
      "session_43_anonymized                      [Player_H, Player_K]   \n",
      "session_44                   [Richard Stevens, Jessica Michael]   \n",
      "session_44_anonymized                      [Player_I, Player_Y]   \n",
      "\n",
      "                                                                   ranks  \\\n",
      "session_1              [Ryan Hodges, Mary Trujillo, Christopher Smith...   \n",
      "session_1_anonymized   [Player_M, Player_L, Player_P, Player_D, Playe...   \n",
      "session_2              [Stephen Clark, Gabriel Durham, Shawn Bailey, ...   \n",
      "session_2_anonymized   [Player_B, Player_N, Player_T, Player_O, Playe...   \n",
      "session_3              [William Reed, Diana Ayala, Jeremy Davis, Haro...   \n",
      "session_3_anonymized   [Player_V, Player_B, Player_Q, Player_M, Playe...   \n",
      "session_4              [Nicolas Cole, Chelsea Cook, Danielle Castro, ...   \n",
      "session_4_anonymized   [Player_O, Player_K, Player_U, Player_N, Playe...   \n",
      "session_5              [Robert Evans, Sandra Robinson, Terri Brewer, ...   \n",
      "session_5_anonymized   [Player_U, Player_V, Player_H, Player_S, Playe...   \n",
      "session_6              [Jeremiah Johnson, Ricky Mcneil, Christopher D...   \n",
      "session_6_anonymized   [Player_I, Player_Y, Player_J, Player_C, Playe...   \n",
      "session_7              [John Thompson, Alyssa Reynolds, Jason Frye, R...   \n",
      "session_7_anonymized   [Player_O, Player_D, Player_B, Player_A, Playe...   \n",
      "session_8              [Justin Scott, Melissa Vang, Aaron Horton, Luc...   \n",
      "session_8_anonymized   [Player_Y, Player_V, Player_E, Player_L, Playe...   \n",
      "session_9              [Kelsey Wallace, Mr. Robert Bryant, Jacob Lowe...   \n",
      "session_9_anonymized   [Player_L, Player_E, Player_S, Player_T, Playe...   \n",
      "session_10             [Kyle Mack, Ashley Adams, Mary Arnold, Natasha...   \n",
      "session_10_anonymized  [Player_E, Player_R, Player_N, Player_J, Playe...   \n",
      "session_11             [Bridget Russell, John Willis, William Sulliva...   \n",
      "session_11_anonymized  [Player_F, Player_P, Player_K, Player_E, Playe...   \n",
      "session_12             [Laura Baldwin, Alexander Ford, Jacob Pearson,...   \n",
      "session_12_anonymized  [Player_U, Player_F, Player_Q, Player_E, Playe...   \n",
      "session_13             [Megan Jackson, Sara Marshall, Daniel Humphrey...   \n",
      "session_13_anonymized  [Player_U, Player_R, Player_N, Player_E, Playe...   \n",
      "session_14             [Michael Sharp, Austin Williams, Jason Rodrigu...   \n",
      "session_14_anonymized  [Player_H, Player_D, Player_V, Player_N, Playe...   \n",
      "session_15             [Jamie Meadows, Kevin Vazquez, Michelle Guerra...   \n",
      "session_15_anonymized  [Player_T, Player_H, Player_G, Player_P, Playe...   \n",
      "session_16             [Beth Ramsey, Kenneth Chavez, Kendra Craig, As...   \n",
      "session_16_anonymized  [Player_K, Player_O, Player_M, Player_T, Playe...   \n",
      "session_17             [Bob Woods, Matthew Bridges, Bryan Castillo, E...   \n",
      "session_17_anonymized  [Player_W, Player_P, Player_I, Player_J, Playe...   \n",
      "session_18               [Adam Davidson, Elizabeth Mason, Brandy Knight]   \n",
      "session_18_anonymized           [Player_S, Player_A, Player_Y, Player_W]   \n",
      "session_19             [Frank Butler, Tanya Kennedy, John Thompson, M...   \n",
      "session_19_anonymized  [Player_P, Player_Y, Player_E, Player_U, Playe...   \n",
      "session_21             [Henry Brown, William Stanley, Jonathan Kim, M...   \n",
      "session_21_anonymized  [Player_J, Player_V, Player_G, Player_X, Playe...   \n",
      "session_22             [Dr. Christopher Hamilton, Christine King, Nan...   \n",
      "session_22_anonymized  [Player_W, Player_B, Player_V, Player_Y, Playe...   \n",
      "session_23             [Jacob Brown, Derek Giles, Stacy Jensen, Nicol...   \n",
      "session_23_anonymized  [Player_L, Player_F, Player_M, Player_B, Playe...   \n",
      "session_24             [Danny Owens, Justin Johnson, Curtis Lawrence,...   \n",
      "session_24_anonymized  [Player_K, Player_M, Player_L, Player_V, Playe...   \n",
      "session_25             [Abigail Clark, John Luna, Bryce Gibson, Jorda...   \n",
      "session_25_anonymized  [Player_G, Player_F, Player_E, Player_B, Playe...   \n",
      "session_26               [Sarah Williams, Jennifer Diaz, Theresa Torres]   \n",
      "session_26_anonymized           [Player_K, Player_Z, Player_J, Player_S]   \n",
      "session_27             [Erin Blevins, Melissa Hunt, Jorge Mcintosh, B...   \n",
      "session_27_anonymized  [Player_E, Player_X, Player_I, Player_M, Playe...   \n",
      "session_28             [Mike Burton, Scott Thomas, Charles Graham, Ro...   \n",
      "session_28_anonymized  [Player_M, Player_I, Player_B, Player_E, Playe...   \n",
      "session_29             [Lynn Reynolds, Pamela Rowe, James Shaw, Linds...   \n",
      "session_29_anonymized  [Player_S, Player_J, Player_U, Player_Q, Playe...   \n",
      "session_30             [Nicholas Davis, Cory Barron, Jill Mcdonald, L...   \n",
      "session_30_anonymized  [Player_T, Player_V, Player_Z, Player_I, Playe...   \n",
      "session_31             [Jon Gutierrez, Brent Green, Kellie Anderson, ...   \n",
      "session_31_anonymized  [Player_Z, Player_M, Player_P, Player_N, Playe...   \n",
      "session_32             [Caroline Moss, Bryan Brown, Terri Green, Caro...   \n",
      "session_32_anonymized  [Player_Z, Player_C, Player_N, Player_B, Playe...   \n",
      "session_33             [Nancy Garcia, Dana Wilson, Tamara Wilkinson, ...   \n",
      "session_33_anonymized  [Player_A, Player_H, Player_Z, Player_W, Playe...   \n",
      "session_34             [Eric Fisher, George Le, Maxwell Reyes, Lori S...   \n",
      "session_34_anonymized  [Player_G, Player_R, Player_Q, Player_U, Playe...   \n",
      "session_35             [Robert Stewart MD, John Davis, Cassandra Mill...   \n",
      "session_35_anonymized  [Player_D, Player_J, Player_I, Player_B, Playe...   \n",
      "session_36             [Vanessa Berry, Amanda Carson, Autumn Martinez...   \n",
      "session_36_anonymized  [Player_C, Player_O, Player_K, Player_T, Playe...   \n",
      "session_37             [Michelle Graham, Elizabeth Saunders, Kaitlyn ...   \n",
      "session_37_anonymized  [Player_R, Player_Z, Player_Q, Player_K, Playe...   \n",
      "session_38             [Clayton Cook, James Smith, Ryan Ray, Garrett ...   \n",
      "session_38_anonymized  [Player_Y, Player_P, Player_H, Player_M, Playe...   \n",
      "session_39             [Kevin Pearson, Trevor Brown, Christine Peters...   \n",
      "session_39_anonymized  [Player_Q, Player_Y, Player_H, Player_M, Playe...   \n",
      "session_40             [Peter Perez, Kathryn Payne, Jose Gonzalez, Ti...   \n",
      "session_40_anonymized  [Player_H, Player_X, Player_G, Player_Y, Playe...   \n",
      "session_41             [Shannon Diaz, Mary Mata, William Frank MD, Ja...   \n",
      "session_41_anonymized  [Player_A, Player_Y, Player_U, Player_D, Playe...   \n",
      "session_42             [Jason Smith, Kimberly Warren, Ricardo Owens, ...   \n",
      "session_42_anonymized  [Player_D, Player_A, Player_Z, Player_J, Playe...   \n",
      "session_43             [Diane Jennings, Valerie White, Carol Stone, A...   \n",
      "session_43_anonymized  [Player_O, Player_B, Player_S, Player_P, Playe...   \n",
      "session_44             [Richard Stevens, Jessica Michael, Deborah Alv...   \n",
      "session_44_anonymized  [Player_I, Player_Y, Player_B, Player_C, Playe...   \n",
      "\n",
      "                       avg_mafia_rank  \n",
      "session_1                   42.857143  \n",
      "session_1_anonymized        42.857143  \n",
      "session_2                   30.000000  \n",
      "session_2_anonymized        30.000000  \n",
      "session_3                   27.777778  \n",
      "session_3_anonymized        27.777778  \n",
      "session_4                   37.500000  \n",
      "session_4_anonymized        37.500000  \n",
      "session_5                   78.571429  \n",
      "session_5_anonymized        78.571429  \n",
      "session_6                   38.888889  \n",
      "session_6_anonymized        38.888889  \n",
      "session_7                   44.444444  \n",
      "session_7_anonymized        44.444444  \n",
      "session_8                   56.250000  \n",
      "session_8_anonymized        56.250000  \n",
      "session_9                   16.666667  \n",
      "session_9_anonymized        16.666667  \n",
      "session_10                  55.555556  \n",
      "session_10_anonymized       55.555556  \n",
      "session_11                  40.000000  \n",
      "session_11_anonymized       40.000000  \n",
      "session_12                  83.333333  \n",
      "session_12_anonymized       83.333333  \n",
      "session_13                  50.000000  \n",
      "session_13_anonymized       50.000000  \n",
      "session_14                  66.666667  \n",
      "session_14_anonymized       66.666667  \n",
      "session_15                  40.000000  \n",
      "session_15_anonymized       40.000000  \n",
      "session_16                  65.000000  \n",
      "session_16_anonymized       65.000000  \n",
      "session_17                  44.444444  \n",
      "session_17_anonymized       44.444444  \n",
      "session_18                  66.666667  \n",
      "session_18_anonymized       50.000000  \n",
      "session_19                  25.000000  \n",
      "session_19_anonymized       25.000000  \n",
      "session_21                  50.000000  \n",
      "session_21_anonymized       50.000000  \n",
      "session_22                  77.777778  \n",
      "session_22_anonymized       77.777778  \n",
      "session_23                  56.250000  \n",
      "session_23_anonymized       56.250000  \n",
      "session_24                  62.500000  \n",
      "session_24_anonymized       62.500000  \n",
      "session_25                  68.750000  \n",
      "session_25_anonymized       68.750000  \n",
      "session_26                  33.333333  \n",
      "session_26_anonymized       25.000000  \n",
      "session_27                  18.750000  \n",
      "session_27_anonymized       18.750000  \n",
      "session_28                  31.250000  \n",
      "session_28_anonymized       31.250000  \n",
      "session_29                  57.142857  \n",
      "session_29_anonymized       57.142857  \n",
      "session_30                  87.500000  \n",
      "session_30_anonymized       87.500000  \n",
      "session_31                  31.250000  \n",
      "session_31_anonymized       31.250000  \n",
      "session_32                  41.666667  \n",
      "session_32_anonymized       41.666667  \n",
      "session_33                  55.555556  \n",
      "session_33_anonymized       55.555556  \n",
      "session_34                  33.333333  \n",
      "session_34_anonymized       33.333333  \n",
      "session_35                  57.142857  \n",
      "session_35_anonymized       57.142857  \n",
      "session_36                  81.250000  \n",
      "session_36_anonymized       81.250000  \n",
      "session_37                  31.250000  \n",
      "session_37_anonymized       31.250000  \n",
      "session_38                  37.500000  \n",
      "session_38_anonymized       37.500000  \n",
      "session_39                  50.000000  \n",
      "session_39_anonymized       50.000000  \n",
      "session_40                  50.000000  \n",
      "session_40_anonymized       50.000000  \n",
      "session_41                  75.000000  \n",
      "session_41_anonymized       75.000000  \n",
      "session_42                  31.250000  \n",
      "session_42_anonymized       31.250000  \n",
      "session_43                  56.250000  \n",
      "session_43_anonymized       56.250000  \n",
      "session_44                   6.250000  \n",
      "session_44_anonymized        6.250000  \n"
     ]
    }
   ],
   "source": [
    "with pd.option_context('display.max_rows', None, 'display.max_columns', None):\n",
    "    pprint(ranks_df)"
   ]
  },
  {
   "cell_type": "code",
   "execution_count": 284,
   "id": "dbf6e0c6-ef56-406c-9c0b-02d8a4611335",
   "metadata": {},
   "outputs": [
    {
     "name": "stdout",
     "output_type": "stream",
     "text": [
      "{'session_1': {'avg_mafia_rank': 42.857142857142854,\n",
      "               'file_name': 'session_1',\n",
      "               'mafia': ['Ryan Hodges', 'Natalie Morris'],\n",
      "               'names_changed': False,\n",
      "               'ranks': ['Ryan Hodges',\n",
      "                         'Mary Trujillo',\n",
      "                         'Christopher Smith',\n",
      "                         'Diana Pennington',\n",
      "                         'Christina Rollins',\n",
      "                         'Troy Thomas',\n",
      "                         'Natalie Morris'],\n",
      "               'session': 1},\n",
      " 'session_10': {'avg_mafia_rank': 55.55555555555556,\n",
      "                'file_name': 'session_10',\n",
      "                'mafia': ['Natasha Cooke', 'Michael Williams'],\n",
      "                'names_changed': False,\n",
      "                'ranks': ['Kyle Mack',\n",
      "                          'Ashley Adams',\n",
      "                          'Mary Arnold',\n",
      "                          'Natasha Cooke',\n",
      "                          'Adam Ward',\n",
      "                          'Alicia Diaz',\n",
      "                          'Stacy Dillon',\n",
      "                          'Michael Williams',\n",
      "                          'Aaron Morse'],\n",
      "                'session': 10},\n",
      " 'session_10_anonymized': {'avg_mafia_rank': 55.55555555555556,\n",
      "                           'file_name': 'session_10_anonymized',\n",
      "                           'mafia': ['Player_J', 'Player_B'],\n",
      "                           'names_changed': True,\n",
      "                           'ranks': ['Player_E',\n",
      "                                     'Player_R',\n",
      "                                     'Player_N',\n",
      "                                     'Player_J',\n",
      "                                     'Player_U',\n",
      "                                     'Player_Q',\n",
      "                                     'Player_P',\n",
      "                                     'Player_B',\n",
      "                                     'Player_D'],\n",
      "                           'session': 10},\n",
      " 'session_11': {'avg_mafia_rank': 40.0,\n",
      "                'file_name': 'session_11',\n",
      "                'mafia': ['Bridget Russell', 'Marissa Hernandez'],\n",
      "                'names_changed': False,\n",
      "                'ranks': ['Bridget Russell',\n",
      "                          'John Willis',\n",
      "                          'William Sullivan',\n",
      "                          'Benjamin Miller',\n",
      "                          'Marissa Hernandez'],\n",
      "                'session': 11},\n",
      " 'session_11_anonymized': {'avg_mafia_rank': 40.0,\n",
      "                           'file_name': 'session_11_anonymized',\n",
      "                           'mafia': ['Player_F', 'Player_N'],\n",
      "                           'names_changed': True,\n",
      "                           'ranks': ['Player_F',\n",
      "                                     'Player_P',\n",
      "                                     'Player_K',\n",
      "                                     'Player_E',\n",
      "                                     'Player_N'],\n",
      "                           'session': 11},\n",
      " 'session_12': {'avg_mafia_rank': 83.33333333333334,\n",
      "                'file_name': 'session_12',\n",
      "                'mafia': ['Timothy Moore', 'Daniel Mayer'],\n",
      "                'names_changed': False,\n",
      "                'ranks': ['Laura Baldwin',\n",
      "                          'Alexander Ford',\n",
      "                          'Jacob Pearson',\n",
      "                          'Benjamin Neal',\n",
      "                          'Jennifer Bond',\n",
      "                          'David Martinez',\n",
      "                          'Tyrone Mckee',\n",
      "                          'Timothy Moore',\n",
      "                          'Daniel Mayer'],\n",
      "                'session': 12},\n",
      " 'session_12_anonymized': {'avg_mafia_rank': 83.33333333333334,\n",
      "                           'file_name': 'session_12_anonymized',\n",
      "                           'mafia': ['Player_J', 'Player_Y'],\n",
      "                           'names_changed': True,\n",
      "                           'ranks': ['Player_U',\n",
      "                                     'Player_F',\n",
      "                                     'Player_Q',\n",
      "                                     'Player_E',\n",
      "                                     'Player_H',\n",
      "                                     'Player_G',\n",
      "                                     'Player_W',\n",
      "                                     'Player_J',\n",
      "                                     'Player_Y'],\n",
      "                           'session': 12},\n",
      " 'session_13': {'avg_mafia_rank': 50.0,\n",
      "                'file_name': 'session_13',\n",
      "                'mafia': ['Daniel Humphrey', 'Paul Silva'],\n",
      "                'names_changed': False,\n",
      "                'ranks': ['Megan Jackson',\n",
      "                          'Sara Marshall',\n",
      "                          'Daniel Humphrey',\n",
      "                          'Erica Joseph',\n",
      "                          'Thomas Pruitt',\n",
      "                          'Bill Brock',\n",
      "                          'Kimberly Sullivan',\n",
      "                          'Paul Silva',\n",
      "                          'Richard Johnson'],\n",
      "                'session': 13},\n",
      " 'session_13_anonymized': {'avg_mafia_rank': 50.0,\n",
      "                           'file_name': 'session_13_anonymized',\n",
      "                           'mafia': ['Player_N', 'Player_F'],\n",
      "                           'names_changed': True,\n",
      "                           'ranks': ['Player_U',\n",
      "                                     'Player_R',\n",
      "                                     'Player_N',\n",
      "                                     'Player_E',\n",
      "                                     'Player_V',\n",
      "                                     'Player_H',\n",
      "                                     'Player_O',\n",
      "                                     'Player_F',\n",
      "                                     'Player_D'],\n",
      "                           'session': 13},\n",
      " 'session_14': {'avg_mafia_rank': 66.66666666666667,\n",
      "                'file_name': 'session_14',\n",
      "                'mafia': ['Abigail Perez', 'Jay Williams'],\n",
      "                'names_changed': False,\n",
      "                'ranks': ['Michael Sharp',\n",
      "                          'Austin Williams',\n",
      "                          'Jason Rodriguez',\n",
      "                          'John Bridges',\n",
      "                          'Kelly Mclaughlin',\n",
      "                          'Abigail Perez',\n",
      "                          'Jerry Pearson',\n",
      "                          'Jay Williams',\n",
      "                          'Matthew Franco'],\n",
      "                'session': 14},\n",
      " 'session_14_anonymized': {'avg_mafia_rank': 66.66666666666667,\n",
      "                           'file_name': 'session_14_anonymized',\n",
      "                           'mafia': ['Player_C', 'Player_A'],\n",
      "                           'names_changed': True,\n",
      "                           'ranks': ['Player_H',\n",
      "                                     'Player_D',\n",
      "                                     'Player_V',\n",
      "                                     'Player_N',\n",
      "                                     'Player_J',\n",
      "                                     'Player_C',\n",
      "                                     'Player_S',\n",
      "                                     'Player_A',\n",
      "                                     'Player_P'],\n",
      "                           'session': 14},\n",
      " 'session_15': {'avg_mafia_rank': 40.0,\n",
      "                'file_name': 'session_15',\n",
      "                'mafia': ['Jamie Meadows', 'Tiffany Hernandez'],\n",
      "                'names_changed': False,\n",
      "                'ranks': ['Jamie Meadows',\n",
      "                          'Kevin Vazquez',\n",
      "                          'Michelle Guerra',\n",
      "                          'Marvin Jackson',\n",
      "                          'Samuel Rogers',\n",
      "                          'Nicole Fields',\n",
      "                          'Robin Green',\n",
      "                          'Lisa Wright',\n",
      "                          'Tiffany Hernandez',\n",
      "                          'Tristan Rodriguez'],\n",
      "                'session': 15},\n",
      " 'session_15_anonymized': {'avg_mafia_rank': 40.0,\n",
      "                           'file_name': 'session_15_anonymized',\n",
      "                           'mafia': ['Player_T', 'Player_N'],\n",
      "                           'names_changed': True,\n",
      "                           'ranks': ['Player_T',\n",
      "                                     'Player_H',\n",
      "                                     'Player_G',\n",
      "                                     'Player_P',\n",
      "                                     'Player_J',\n",
      "                                     'Player_W',\n",
      "                                     'Player_I',\n",
      "                                     'Player_E',\n",
      "                                     'Player_N',\n",
      "                                     'Player_O'],\n",
      "                           'session': 15},\n",
      " 'session_16': {'avg_mafia_rank': 65.0,\n",
      "                'file_name': 'session_16',\n",
      "                'mafia': ['Sara Reed', 'Ruben Sanchez'],\n",
      "                'names_changed': False,\n",
      "                'ranks': ['Beth Ramsey',\n",
      "                          'Kenneth Chavez',\n",
      "                          'Kendra Craig',\n",
      "                          'Ashley Bautista',\n",
      "                          'Sara Reed',\n",
      "                          'Mitchell Schultz',\n",
      "                          'Alexander Griffin',\n",
      "                          'Eric Schneider',\n",
      "                          'Cynthia Bird',\n",
      "                          'Ruben Sanchez'],\n",
      "                'session': 16},\n",
      " 'session_16_anonymized': {'avg_mafia_rank': 65.0,\n",
      "                           'file_name': 'session_16_anonymized',\n",
      "                           'mafia': ['Player_S', 'Player_G'],\n",
      "                           'names_changed': True,\n",
      "                           'ranks': ['Player_K',\n",
      "                                     'Player_O',\n",
      "                                     'Player_M',\n",
      "                                     'Player_T',\n",
      "                                     'Player_S',\n",
      "                                     'Player_Q',\n",
      "                                     'Player_H',\n",
      "                                     'Player_P',\n",
      "                                     'Player_E',\n",
      "                                     'Player_G'],\n",
      "                           'session': 16},\n",
      " 'session_17': {'avg_mafia_rank': 44.44444444444444,\n",
      "                'file_name': 'session_17',\n",
      "                'mafia': ['Bob Woods', 'Dr. Kelli Brooks'],\n",
      "                'names_changed': False,\n",
      "                'ranks': ['Bob Woods',\n",
      "                          'Matthew Bridges',\n",
      "                          'Bryan Castillo',\n",
      "                          'Ernest Nguyen',\n",
      "                          'James Lopez',\n",
      "                          'Blake Gordon',\n",
      "                          'Danielle Little',\n",
      "                          'Kathryn Reid',\n",
      "                          'Dr. Kelli Brooks'],\n",
      "                'session': 17},\n",
      " 'session_17_anonymized': {'avg_mafia_rank': 44.44444444444444,\n",
      "                           'file_name': 'session_17_anonymized',\n",
      "                           'mafia': ['Player_W', 'Player_D'],\n",
      "                           'names_changed': True,\n",
      "                           'ranks': ['Player_W',\n",
      "                                     'Player_P',\n",
      "                                     'Player_I',\n",
      "                                     'Player_J',\n",
      "                                     'Player_Z',\n",
      "                                     'Player_N',\n",
      "                                     'Player_A',\n",
      "                                     'Player_K',\n",
      "                                     'Player_D'],\n",
      "                           'session': 17},\n",
      " 'session_18': {'avg_mafia_rank': 66.66666666666666,\n",
      "                'file_name': 'session_18',\n",
      "                'mafia': ['Brandy Knight'],\n",
      "                'names_changed': False,\n",
      "                'ranks': ['Adam Davidson', 'Elizabeth Mason', 'Brandy Knight'],\n",
      "                'session': 18},\n",
      " 'session_18_anonymized': {'avg_mafia_rank': 50.0,\n",
      "                           'file_name': 'session_18_anonymized',\n",
      "                           'mafia': ['Player_Y'],\n",
      "                           'names_changed': True,\n",
      "                           'ranks': ['Player_S',\n",
      "                                     'Player_A',\n",
      "                                     'Player_Y',\n",
      "                                     'Player_W'],\n",
      "                           'session': 18},\n",
      " 'session_19': {'avg_mafia_rank': 25.0,\n",
      "                'file_name': 'session_19',\n",
      "                'mafia': ['John Thompson'],\n",
      "                'names_changed': False,\n",
      "                'ranks': ['Frank Butler',\n",
      "                          'Tanya Kennedy',\n",
      "                          'John Thompson',\n",
      "                          'Michael Petersen',\n",
      "                          'Anthony Floyd',\n",
      "                          'Gregory Walker',\n",
      "                          'Howard Robinson',\n",
      "                          'Joseph Miller'],\n",
      "                'session': 19},\n",
      " 'session_19_anonymized': {'avg_mafia_rank': 25.0,\n",
      "                           'file_name': 'session_19_anonymized',\n",
      "                           'mafia': ['Player_E'],\n",
      "                           'names_changed': True,\n",
      "                           'ranks': ['Player_P',\n",
      "                                     'Player_Y',\n",
      "                                     'Player_E',\n",
      "                                     'Player_U',\n",
      "                                     'Player_D',\n",
      "                                     'Player_X',\n",
      "                                     'Player_A',\n",
      "                                     'Player_H'],\n",
      "                           'session': 19},\n",
      " 'session_1_anonymized': {'avg_mafia_rank': 42.857142857142854,\n",
      "                          'file_name': 'session_1_anonymized',\n",
      "                          'mafia': ['Player_M', 'Player_W'],\n",
      "                          'names_changed': True,\n",
      "                          'ranks': ['Player_M',\n",
      "                                    'Player_L',\n",
      "                                    'Player_P',\n",
      "                                    'Player_D',\n",
      "                                    'Player_F',\n",
      "                                    'Player_J',\n",
      "                                    'Player_W'],\n",
      "                          'session': 1},\n",
      " 'session_2': {'avg_mafia_rank': 30.0,\n",
      "               'file_name': 'session_2',\n",
      "               'mafia': ['Shawn Bailey', 'Tricia Miller'],\n",
      "               'names_changed': False,\n",
      "               'ranks': ['Stephen Clark',\n",
      "                         'Gabriel Durham',\n",
      "                         'Shawn Bailey',\n",
      "                         'Donna Cook',\n",
      "                         'Tricia Miller',\n",
      "                         'Chad Collins',\n",
      "                         'Diane Mooney',\n",
      "                         'Frances Kelly',\n",
      "                         'Alicia Randall',\n",
      "                         'Jordan May'],\n",
      "               'session': 2},\n",
      " 'session_20_anonymized': {'avg_mafia_rank': 21.428571428571427,\n",
      "                           'file_name': 'session_20_anonymized',\n",
      "                           'mafia': ['Player_W', 'Player_P'],\n",
      "                           'names_changed': True,\n",
      "                           'ranks': ['Player_W',\n",
      "                                     'Player_B',\n",
      "                                     'Player_U',\n",
      "                                     'Player_P',\n",
      "                                     'Player_G',\n",
      "                                     'Player_I',\n",
      "                                     'Player_S'],\n",
      "                           'session': 20},\n",
      " 'session_21': {'avg_mafia_rank': 50.0,\n",
      "                'file_name': 'session_21',\n",
      "                'mafia': ['Stephanie Gonzalez', 'Christopher Turner'],\n",
      "                'names_changed': False,\n",
      "                'ranks': ['Henry Brown',\n",
      "                          'William Stanley',\n",
      "                          'Jonathan Kim',\n",
      "                          'Michael Anderson',\n",
      "                          'Stephanie Gonzalez',\n",
      "                          'Erin Jackson DVM',\n",
      "                          'Christopher Turner',\n",
      "                          'Brandon Cruz',\n",
      "                          'Cristian Roberts',\n",
      "                          'Erin Cabrera'],\n",
      "                'session': 21},\n",
      " 'session_21_anonymized': {'avg_mafia_rank': 50.0,\n",
      "                           'file_name': 'session_21_anonymized',\n",
      "                           'mafia': ['Player_D', 'Player_L'],\n",
      "                           'names_changed': True,\n",
      "                           'ranks': ['Player_J',\n",
      "                                     'Player_V',\n",
      "                                     'Player_G',\n",
      "                                     'Player_X',\n",
      "                                     'Player_D',\n",
      "                                     'Player_T',\n",
      "                                     'Player_L',\n",
      "                                     'Player_Q',\n",
      "                                     'Player_E',\n",
      "                                     'Player_K'],\n",
      "                           'session': 21},\n",
      " 'session_22': {'avg_mafia_rank': 77.77777777777777,\n",
      "                'file_name': 'session_22',\n",
      "                'mafia': ['Natalie Velasquez', 'Kevin Morales'],\n",
      "                'names_changed': False,\n",
      "                'ranks': ['Dr. Christopher Hamilton',\n",
      "                          'Christine King',\n",
      "                          'Nancy Foley',\n",
      "                          'Nathan Pham',\n",
      "                          'Stephen Baldwin',\n",
      "                          'Latoya Carter',\n",
      "                          'Natalie Velasquez',\n",
      "                          'Aaron Vaughan',\n",
      "                          'Kevin Morales'],\n",
      "                'session': 22},\n",
      " 'session_22_anonymized': {'avg_mafia_rank': 77.77777777777777,\n",
      "                           'file_name': 'session_22_anonymized',\n",
      "                           'mafia': ['Player_Z', 'Player_Q'],\n",
      "                           'names_changed': True,\n",
      "                           'ranks': ['Player_W',\n",
      "                                     'Player_B',\n",
      "                                     'Player_V',\n",
      "                                     'Player_Y',\n",
      "                                     'Player_C',\n",
      "                                     'Player_F',\n",
      "                                     'Player_Z',\n",
      "                                     'Player_A',\n",
      "                                     'Player_Q'],\n",
      "                           'session': 22},\n",
      " 'session_23': {'avg_mafia_rank': 56.25,\n",
      "                'file_name': 'session_23',\n",
      "                'mafia': ['Scott Marshall', 'Brent Graham'],\n",
      "                'names_changed': False,\n",
      "                'ranks': ['Jacob Brown',\n",
      "                          'Derek Giles',\n",
      "                          'Stacy Jensen',\n",
      "                          'Nicole Ross',\n",
      "                          'Scott Marshall',\n",
      "                          'Brent Graham',\n",
      "                          'Lisa Rose',\n",
      "                          'Adam Williams'],\n",
      "                'session': 23},\n",
      " 'session_23_anonymized': {'avg_mafia_rank': 56.25,\n",
      "                           'file_name': 'session_23_anonymized',\n",
      "                           'mafia': ['Player_O', 'Player_Q'],\n",
      "                           'names_changed': True,\n",
      "                           'ranks': ['Player_L',\n",
      "                                     'Player_F',\n",
      "                                     'Player_M',\n",
      "                                     'Player_B',\n",
      "                                     'Player_O',\n",
      "                                     'Player_Q',\n",
      "                                     'Player_H',\n",
      "                                     'Player_S'],\n",
      "                           'session': 23},\n",
      " 'session_24': {'avg_mafia_rank': 62.5,\n",
      "                'file_name': 'session_24',\n",
      "                'mafia': ['Monica Sweeney', 'Felicia Schwartz'],\n",
      "                'names_changed': False,\n",
      "                'ranks': ['Danny Owens',\n",
      "                          'Justin Johnson',\n",
      "                          'Curtis Lawrence',\n",
      "                          'Monica Sweeney',\n",
      "                          'Tyler Howell',\n",
      "                          'Colin Case',\n",
      "                          'Benjamin Wright',\n",
      "                          'Felicia Schwartz'],\n",
      "                'session': 24},\n",
      " 'session_24_anonymized': {'avg_mafia_rank': 62.5,\n",
      "                           'file_name': 'session_24_anonymized',\n",
      "                           'mafia': ['Player_V', 'Player_R'],\n",
      "                           'names_changed': True,\n",
      "                           'ranks': ['Player_K',\n",
      "                                     'Player_M',\n",
      "                                     'Player_L',\n",
      "                                     'Player_V',\n",
      "                                     'Player_Y',\n",
      "                                     'Player_D',\n",
      "                                     'Player_F',\n",
      "                                     'Player_R'],\n",
      "                           'session': 24},\n",
      " 'session_25': {'avg_mafia_rank': 68.75,\n",
      "                'file_name': 'session_25',\n",
      "                'mafia': ['Benjamin Pollard', 'Harold Price'],\n",
      "                'names_changed': False,\n",
      "                'ranks': ['Abigail Clark',\n",
      "                          'John Luna',\n",
      "                          'Bryce Gibson',\n",
      "                          'Jordan Downs',\n",
      "                          'Rebecca Nguyen',\n",
      "                          'Benjamin Pollard',\n",
      "                          'Harold Price',\n",
      "                          'Wendy Leach'],\n",
      "                'session': 25},\n",
      " 'session_25_anonymized': {'avg_mafia_rank': 68.75,\n",
      "                           'file_name': 'session_25_anonymized',\n",
      "                           'mafia': ['Player_D', 'Player_I'],\n",
      "                           'names_changed': True,\n",
      "                           'ranks': ['Player_G',\n",
      "                                     'Player_F',\n",
      "                                     'Player_E',\n",
      "                                     'Player_B',\n",
      "                                     'Player_V',\n",
      "                                     'Player_D',\n",
      "                                     'Player_I',\n",
      "                                     'Player_C'],\n",
      "                           'session': 25},\n",
      " 'session_26': {'avg_mafia_rank': 33.33333333333333,\n",
      "                'file_name': 'session_26',\n",
      "                'mafia': ['Jennifer Diaz'],\n",
      "                'names_changed': False,\n",
      "                'ranks': ['Sarah Williams', 'Jennifer Diaz', 'Theresa Torres'],\n",
      "                'session': 26},\n",
      " 'session_26_anonymized': {'avg_mafia_rank': 25.0,\n",
      "                           'file_name': 'session_26_anonymized',\n",
      "                           'mafia': ['Player_Z'],\n",
      "                           'names_changed': True,\n",
      "                           'ranks': ['Player_K',\n",
      "                                     'Player_Z',\n",
      "                                     'Player_J',\n",
      "                                     'Player_S'],\n",
      "                           'session': 26},\n",
      " 'session_27': {'avg_mafia_rank': 18.75,\n",
      "                'file_name': 'session_27',\n",
      "                'mafia': ['Erin Blevins', 'Brittany Evans'],\n",
      "                'names_changed': False,\n",
      "                'ranks': ['Erin Blevins',\n",
      "                          'Melissa Hunt',\n",
      "                          'Jorge Mcintosh',\n",
      "                          'Brittany Evans',\n",
      "                          'Jamie Burch',\n",
      "                          'Lindsay Johnson',\n",
      "                          'Elizabeth Andrews',\n",
      "                          'Rachel Costa'],\n",
      "                'session': 27},\n",
      " 'session_27_anonymized': {'avg_mafia_rank': 18.75,\n",
      "                           'file_name': 'session_27_anonymized',\n",
      "                           'mafia': ['Player_E', 'Player_M'],\n",
      "                           'names_changed': True,\n",
      "                           'ranks': ['Player_E',\n",
      "                                     'Player_X',\n",
      "                                     'Player_I',\n",
      "                                     'Player_M',\n",
      "                                     'Player_W',\n",
      "                                     'Player_L',\n",
      "                                     'Player_J',\n",
      "                                     'Player_R'],\n",
      "                           'session': 27},\n",
      " 'session_28': {'avg_mafia_rank': 31.25,\n",
      "                'file_name': 'session_28',\n",
      "                'mafia': ['Mike Burton', 'William Holmes'],\n",
      "                'names_changed': False,\n",
      "                'ranks': ['Mike Burton',\n",
      "                          'Scott Thomas',\n",
      "                          'Charles Graham',\n",
      "                          'Rodney Maynard',\n",
      "                          'Judith Sharp',\n",
      "                          'William Holmes',\n",
      "                          'Sandra Reese',\n",
      "                          'Sharon Parker'],\n",
      "                'session': 28},\n",
      " 'session_28_anonymized': {'avg_mafia_rank': 31.25,\n",
      "                           'file_name': 'session_28_anonymized',\n",
      "                           'mafia': ['Player_M', 'Player_K'],\n",
      "                           'names_changed': True,\n",
      "                           'ranks': ['Player_M',\n",
      "                                     'Player_I',\n",
      "                                     'Player_B',\n",
      "                                     'Player_E',\n",
      "                                     'Player_A',\n",
      "                                     'Player_K',\n",
      "                                     'Player_X',\n",
      "                                     'Player_H'],\n",
      "                           'session': 28},\n",
      " 'session_29': {'avg_mafia_rank': 57.14285714285714,\n",
      "                'file_name': 'session_29',\n",
      "                'mafia': ['Lisa Harris'],\n",
      "                'names_changed': False,\n",
      "                'ranks': ['Lynn Reynolds',\n",
      "                          'Pamela Rowe',\n",
      "                          'James Shaw',\n",
      "                          'Lindsay Lamb',\n",
      "                          'Lisa Harris',\n",
      "                          'Michael Lucero',\n",
      "                          'Heather Valentine'],\n",
      "                'session': 29},\n",
      " 'session_29_anonymized': {'avg_mafia_rank': 57.14285714285714,\n",
      "                           'file_name': 'session_29_anonymized',\n",
      "                           'mafia': ['Player_M'],\n",
      "                           'names_changed': True,\n",
      "                           'ranks': ['Player_S',\n",
      "                                     'Player_J',\n",
      "                                     'Player_U',\n",
      "                                     'Player_Q',\n",
      "                                     'Player_M',\n",
      "                                     'Player_B',\n",
      "                                     'Player_R'],\n",
      "                           'session': 29},\n",
      " 'session_2_anonymized': {'avg_mafia_rank': 30.0,\n",
      "                          'file_name': 'session_2_anonymized',\n",
      "                          'mafia': ['Player_T', 'Player_E'],\n",
      "                          'names_changed': True,\n",
      "                          'ranks': ['Player_B',\n",
      "                                    'Player_N',\n",
      "                                    'Player_T',\n",
      "                                    'Player_O',\n",
      "                                    'Player_E',\n",
      "                                    'Player_K',\n",
      "                                    'Player_D',\n",
      "                                    'Player_I',\n",
      "                                    'Player_J',\n",
      "                                    'Player_V'],\n",
      "                          'session': 2},\n",
      " 'session_3': {'avg_mafia_rank': 27.777777777777775,\n",
      "               'file_name': 'session_3',\n",
      "               'mafia': ['Jeremy Davis', 'Harold Peterson'],\n",
      "               'names_changed': False,\n",
      "               'ranks': ['William Reed',\n",
      "                         'Diana Ayala',\n",
      "                         'Jeremy Davis',\n",
      "                         'Harold Peterson',\n",
      "                         'Ryan Lee',\n",
      "                         'Mark Espinoza',\n",
      "                         'Scott Glenn',\n",
      "                         'Kimberly Ibarra',\n",
      "                         'Roy Moore'],\n",
      "               'session': 3},\n",
      " 'session_30': {'avg_mafia_rank': 87.5,\n",
      "                'file_name': 'session_30',\n",
      "                'mafia': ['Danielle Oliver'],\n",
      "                'names_changed': False,\n",
      "                'ranks': ['Nicholas Davis',\n",
      "                          'Cory Barron',\n",
      "                          'Jill Mcdonald',\n",
      "                          'Laura Buck',\n",
      "                          'Donna Farrell',\n",
      "                          'Alicia Esparza',\n",
      "                          'Ashley Stout',\n",
      "                          'Danielle Oliver'],\n",
      "                'session': 30},\n",
      " 'session_30_anonymized': {'avg_mafia_rank': 87.5,\n",
      "                           'file_name': 'session_30_anonymized',\n",
      "                           'mafia': ['Player_C'],\n",
      "                           'names_changed': True,\n",
      "                           'ranks': ['Player_T',\n",
      "                                     'Player_V',\n",
      "                                     'Player_Z',\n",
      "                                     'Player_I',\n",
      "                                     'Player_Y',\n",
      "                                     'Player_Q',\n",
      "                                     'Player_W',\n",
      "                                     'Player_C'],\n",
      "                           'session': 30},\n",
      " 'session_31': {'avg_mafia_rank': 31.25,\n",
      "                'file_name': 'session_31',\n",
      "                'mafia': ['Jon Gutierrez', 'Ryan Russell'],\n",
      "                'names_changed': False,\n",
      "                'ranks': ['Jon Gutierrez',\n",
      "                          'Brent Green',\n",
      "                          'Kellie Anderson',\n",
      "                          'Stephanie Espinoza',\n",
      "                          'Kimberly Stevenson',\n",
      "                          'Ryan Russell',\n",
      "                          'Paul Schneider',\n",
      "                          'Joshua Herman'],\n",
      "                'session': 31},\n",
      " 'session_31_anonymized': {'avg_mafia_rank': 31.25,\n",
      "                           'file_name': 'session_31_anonymized',\n",
      "                           'mafia': ['Player_Z', 'Player_J'],\n",
      "                           'names_changed': True,\n",
      "                           'ranks': ['Player_Z',\n",
      "                                     'Player_M',\n",
      "                                     'Player_P',\n",
      "                                     'Player_N',\n",
      "                                     'Player_C',\n",
      "                                     'Player_J',\n",
      "                                     'Player_A',\n",
      "                                     'Player_F'],\n",
      "                           'session': 31},\n",
      " 'session_32': {'avg_mafia_rank': 41.66666666666666,\n",
      "                'file_name': 'session_32',\n",
      "                'mafia': ['Bryan Brown', 'Melanie Salas'],\n",
      "                'names_changed': False,\n",
      "                'ranks': ['Caroline Moss',\n",
      "                          'Bryan Brown',\n",
      "                          'Terri Green',\n",
      "                          'Carolyn Santana',\n",
      "                          'Melanie Salas',\n",
      "                          'Richard Adams MD'],\n",
      "                'session': 32},\n",
      " 'session_32_anonymized': {'avg_mafia_rank': 41.66666666666666,\n",
      "                           'file_name': 'session_32_anonymized',\n",
      "                           'mafia': ['Player_C', 'Player_F'],\n",
      "                           'names_changed': True,\n",
      "                           'ranks': ['Player_Z',\n",
      "                                     'Player_C',\n",
      "                                     'Player_N',\n",
      "                                     'Player_B',\n",
      "                                     'Player_F',\n",
      "                                     'Player_R'],\n",
      "                           'session': 32},\n",
      " 'session_33': {'avg_mafia_rank': 55.55555555555556,\n",
      "                'file_name': 'session_33',\n",
      "                'mafia': ['Michael Carter'],\n",
      "                'names_changed': False,\n",
      "                'ranks': ['Nancy Garcia',\n",
      "                          'Dana Wilson',\n",
      "                          'Tamara Wilkinson',\n",
      "                          'Mark Johnson MD',\n",
      "                          'Christina Walker',\n",
      "                          'Michael Carter',\n",
      "                          'Shannon Ryan',\n",
      "                          'Heather French',\n",
      "                          'Daniel Parks'],\n",
      "                'session': 33},\n",
      " 'session_33_anonymized': {'avg_mafia_rank': 55.55555555555556,\n",
      "                           'file_name': 'session_33_anonymized',\n",
      "                           'mafia': ['Player_G'],\n",
      "                           'names_changed': True,\n",
      "                           'ranks': ['Player_A',\n",
      "                                     'Player_H',\n",
      "                                     'Player_Z',\n",
      "                                     'Player_W',\n",
      "                                     'Player_E',\n",
      "                                     'Player_G',\n",
      "                                     'Player_C',\n",
      "                                     'Player_U',\n",
      "                                     'Player_I'],\n",
      "                           'session': 33},\n",
      " 'session_34': {'avg_mafia_rank': 33.33333333333333,\n",
      "                'file_name': 'session_34',\n",
      "                'mafia': ['Eric Fisher', 'James Lamb'],\n",
      "                'names_changed': False,\n",
      "                'ranks': ['Eric Fisher',\n",
      "                          'George Le',\n",
      "                          'Maxwell Reyes',\n",
      "                          'Lori Solomon',\n",
      "                          'James Martin',\n",
      "                          'Daniel Jones',\n",
      "                          'James Lamb',\n",
      "                          'Rachael Cunningham',\n",
      "                          'Dalton Frazier'],\n",
      "                'session': 34},\n",
      " 'session_34_anonymized': {'avg_mafia_rank': 33.33333333333333,\n",
      "                           'file_name': 'session_34_anonymized',\n",
      "                           'mafia': ['Player_G', 'Player_D'],\n",
      "                           'names_changed': True,\n",
      "                           'ranks': ['Player_G',\n",
      "                                     'Player_R',\n",
      "                                     'Player_Q',\n",
      "                                     'Player_U',\n",
      "                                     'Player_B',\n",
      "                                     'Player_C',\n",
      "                                     'Player_D',\n",
      "                                     'Player_X',\n",
      "                                     'Player_M'],\n",
      "                           'session': 34},\n",
      " 'session_35': {'avg_mafia_rank': 57.14285714285714,\n",
      "                'file_name': 'session_35',\n",
      "                'mafia': ['Alyssa Washington', 'Mary Mullins'],\n",
      "                'names_changed': False,\n",
      "                'ranks': ['Robert Stewart MD',\n",
      "                          'John Davis',\n",
      "                          'Cassandra Miller',\n",
      "                          'Alyssa Washington',\n",
      "                          'Brandy Waller',\n",
      "                          'Mary Mullins',\n",
      "                          'Ms. Yvette Davis'],\n",
      "                'session': 35},\n",
      " 'session_35_anonymized': {'avg_mafia_rank': 57.14285714285714,\n",
      "                           'file_name': 'session_35_anonymized',\n",
      "                           'mafia': ['Player_B', 'Player_R'],\n",
      "                           'names_changed': True,\n",
      "                           'ranks': ['Player_D',\n",
      "                                     'Player_J',\n",
      "                                     'Player_I',\n",
      "                                     'Player_B',\n",
      "                                     'Player_W',\n",
      "                                     'Player_R',\n",
      "                                     'Player_P'],\n",
      "                           'session': 35},\n",
      " 'session_36': {'avg_mafia_rank': 81.25,\n",
      "                'file_name': 'session_36',\n",
      "                'mafia': ['Matthew Ortega', 'Richard Walter'],\n",
      "                'names_changed': False,\n",
      "                'ranks': ['Vanessa Berry',\n",
      "                          'Amanda Carson',\n",
      "                          'Autumn Martinez',\n",
      "                          'Caroline Hansen',\n",
      "                          'Jodi Williams',\n",
      "                          'Juan Harris',\n",
      "                          'Matthew Ortega',\n",
      "                          'Richard Walter'],\n",
      "                'session': 36},\n",
      " 'session_36_anonymized': {'avg_mafia_rank': 81.25,\n",
      "                           'file_name': 'session_36_anonymized',\n",
      "                           'mafia': ['Player_F', 'Player_H'],\n",
      "                           'names_changed': True,\n",
      "                           'ranks': ['Player_C',\n",
      "                                     'Player_O',\n",
      "                                     'Player_K',\n",
      "                                     'Player_T',\n",
      "                                     'Player_J',\n",
      "                                     'Player_E',\n",
      "                                     'Player_F',\n",
      "                                     'Player_H'],\n",
      "                           'session': 36},\n",
      " 'session_37': {'avg_mafia_rank': 31.25,\n",
      "                'file_name': 'session_37',\n",
      "                'mafia': ['Elizabeth Saunders', 'Mariah Burke'],\n",
      "                'names_changed': False,\n",
      "                'ranks': ['Michelle Graham',\n",
      "                          'Elizabeth Saunders',\n",
      "                          'Kaitlyn Martinez',\n",
      "                          'Jake Pierce',\n",
      "                          'Mariah Burke',\n",
      "                          'Dakota Kelly',\n",
      "                          'Ryan Richardson',\n",
      "                          'Jordan Rojas'],\n",
      "                'session': 37},\n",
      " 'session_37_anonymized': {'avg_mafia_rank': 31.25,\n",
      "                           'file_name': 'session_37_anonymized',\n",
      "                           'mafia': ['Player_Z', 'Player_B'],\n",
      "                           'names_changed': True,\n",
      "                           'ranks': ['Player_R',\n",
      "                                     'Player_Z',\n",
      "                                     'Player_Q',\n",
      "                                     'Player_K',\n",
      "                                     'Player_B',\n",
      "                                     'Player_J',\n",
      "                                     'Player_C',\n",
      "                                     'Player_V'],\n",
      "                           'session': 37},\n",
      " 'session_38': {'avg_mafia_rank': 37.5,\n",
      "                'file_name': 'session_38',\n",
      "                'mafia': ['Garrett Baker'],\n",
      "                'names_changed': False,\n",
      "                'ranks': ['Clayton Cook',\n",
      "                          'James Smith',\n",
      "                          'Ryan Ray',\n",
      "                          'Garrett Baker',\n",
      "                          'Cathy Lopez',\n",
      "                          'Steven Brown',\n",
      "                          'Andrew Price',\n",
      "                          'Regina Martin'],\n",
      "                'session': 38},\n",
      " 'session_38_anonymized': {'avg_mafia_rank': 37.5,\n",
      "                           'file_name': 'session_38_anonymized',\n",
      "                           'mafia': ['Player_M'],\n",
      "                           'names_changed': True,\n",
      "                           'ranks': ['Player_Y',\n",
      "                                     'Player_P',\n",
      "                                     'Player_H',\n",
      "                                     'Player_M',\n",
      "                                     'Player_O',\n",
      "                                     'Player_F',\n",
      "                                     'Player_N',\n",
      "                                     'Player_K'],\n",
      "                           'session': 38},\n",
      " 'session_39': {'avg_mafia_rank': 50.0,\n",
      "                'file_name': 'session_39',\n",
      "                'mafia': ['Christine Peterson', 'Louis Webb'],\n",
      "                'names_changed': False,\n",
      "                'ranks': ['Kevin Pearson',\n",
      "                          'Trevor Brown',\n",
      "                          'Christine Peterson',\n",
      "                          'Christina Figueroa',\n",
      "                          'Abigail Perez',\n",
      "                          'Louis Webb',\n",
      "                          'Jordan Vincent'],\n",
      "                'session': 39},\n",
      " 'session_39_anonymized': {'avg_mafia_rank': 50.0,\n",
      "                           'file_name': 'session_39_anonymized',\n",
      "                           'mafia': ['Player_H', 'Player_B'],\n",
      "                           'names_changed': True,\n",
      "                           'ranks': ['Player_Q',\n",
      "                                     'Player_Y',\n",
      "                                     'Player_H',\n",
      "                                     'Player_M',\n",
      "                                     'Player_A',\n",
      "                                     'Player_W',\n",
      "                                     'Player_B',\n",
      "                                     'Player_S'],\n",
      "                           'session': 39},\n",
      " 'session_3_anonymized': {'avg_mafia_rank': 27.777777777777775,\n",
      "                          'file_name': 'session_3_anonymized',\n",
      "                          'mafia': ['Player_Q', 'Player_M'],\n",
      "                          'names_changed': True,\n",
      "                          'ranks': ['Player_V',\n",
      "                                    'Player_B',\n",
      "                                    'Player_Q',\n",
      "                                    'Player_M',\n",
      "                                    'Player_U',\n",
      "                                    'Player_J',\n",
      "                                    'Player_E',\n",
      "                                    'Player_T',\n",
      "                                    'Player_C'],\n",
      "                          'session': 3},\n",
      " 'session_4': {'avg_mafia_rank': 37.5,\n",
      "               'file_name': 'session_4',\n",
      "               'mafia': ['Nicolas Cole', 'Wendy White'],\n",
      "               'names_changed': False,\n",
      "               'ranks': ['Nicolas Cole',\n",
      "                         'Chelsea Cook',\n",
      "                         'Danielle Castro',\n",
      "                         'Gregory Ware',\n",
      "                         'Matthew Taylor',\n",
      "                         'Robin Rodriguez',\n",
      "                         'Wendy White',\n",
      "                         'Amanda Pearson'],\n",
      "               'session': 4},\n",
      " 'session_40': {'avg_mafia_rank': 50.0,\n",
      "                'file_name': 'session_40',\n",
      "                'mafia': ['Tiffany Hill', 'Cody Garner'],\n",
      "                'names_changed': False,\n",
      "                'ranks': ['Peter Perez',\n",
      "                          'Kathryn Payne',\n",
      "                          'Jose Gonzalez',\n",
      "                          'Tiffany Hill',\n",
      "                          'Cody Garner',\n",
      "                          'Mark Baird',\n",
      "                          'Dr. Amy Mcdaniel'],\n",
      "                'session': 40},\n",
      " 'session_40_anonymized': {'avg_mafia_rank': 50.0,\n",
      "                           'file_name': 'session_40_anonymized',\n",
      "                           'mafia': ['Player_Y', 'Player_T'],\n",
      "                           'names_changed': True,\n",
      "                           'ranks': ['Player_H',\n",
      "                                     'Player_X',\n",
      "                                     'Player_G',\n",
      "                                     'Player_Y',\n",
      "                                     'Player_T',\n",
      "                                     'Player_F',\n",
      "                                     'Player_J'],\n",
      "                           'session': 40},\n",
      " 'session_41': {'avg_mafia_rank': 75.0,\n",
      "                'file_name': 'session_41',\n",
      "                'mafia': ['Amy Lewis', 'Riley Webster'],\n",
      "                'names_changed': False,\n",
      "                'ranks': ['Shannon Diaz',\n",
      "                          'Mary Mata',\n",
      "                          'William Frank MD',\n",
      "                          'Jamie Sanchez',\n",
      "                          'Kimberly Harris',\n",
      "                          'Amy Lewis',\n",
      "                          'Damon Ryan',\n",
      "                          'Riley Webster'],\n",
      "                'session': 41},\n",
      " 'session_41_anonymized': {'avg_mafia_rank': 75.0,\n",
      "                           'file_name': 'session_41_anonymized',\n",
      "                           'mafia': ['Player_P', 'Player_S'],\n",
      "                           'names_changed': True,\n",
      "                           'ranks': ['Player_A',\n",
      "                                     'Player_Y',\n",
      "                                     'Player_U',\n",
      "                                     'Player_D',\n",
      "                                     'Player_N',\n",
      "                                     'Player_P',\n",
      "                                     'Player_X',\n",
      "                                     'Player_S'],\n",
      "                           'session': 41},\n",
      " 'session_42': {'avg_mafia_rank': 31.25,\n",
      "                'file_name': 'session_42',\n",
      "                'mafia': ['Jason Smith', 'Robert Anderson'],\n",
      "                'names_changed': False,\n",
      "                'ranks': ['Jason Smith',\n",
      "                          'Kimberly Warren',\n",
      "                          'Ricardo Owens',\n",
      "                          'Katherine Harper',\n",
      "                          'Katherine Hull',\n",
      "                          'Robert Anderson',\n",
      "                          'James Perez',\n",
      "                          'Stephen Frank'],\n",
      "                'session': 42},\n",
      " 'session_42_anonymized': {'avg_mafia_rank': 31.25,\n",
      "                           'file_name': 'session_42_anonymized',\n",
      "                           'mafia': ['Player_D', 'Player_T'],\n",
      "                           'names_changed': True,\n",
      "                           'ranks': ['Player_D',\n",
      "                                     'Player_A',\n",
      "                                     'Player_Z',\n",
      "                                     'Player_J',\n",
      "                                     'Player_L',\n",
      "                                     'Player_T',\n",
      "                                     'Player_E',\n",
      "                                     'Player_B'],\n",
      "                           'session': 42},\n",
      " 'session_43': {'avg_mafia_rank': 56.25,\n",
      "                'file_name': 'session_43',\n",
      "                'mafia': ['Zachary Hurley', 'Laura Pena'],\n",
      "                'names_changed': False,\n",
      "                'ranks': ['Diane Jennings',\n",
      "                          'Valerie White',\n",
      "                          'Carol Stone',\n",
      "                          'Andrea Lee',\n",
      "                          'Zachary Hurley',\n",
      "                          'Laura Pena',\n",
      "                          'Danielle Silva',\n",
      "                          'Jeffrey Morris'],\n",
      "                'session': 43},\n",
      " 'session_43_anonymized': {'avg_mafia_rank': 56.25,\n",
      "                           'file_name': 'session_43_anonymized',\n",
      "                           'mafia': ['Player_H', 'Player_K'],\n",
      "                           'names_changed': True,\n",
      "                           'ranks': ['Player_O',\n",
      "                                     'Player_B',\n",
      "                                     'Player_S',\n",
      "                                     'Player_P',\n",
      "                                     'Player_H',\n",
      "                                     'Player_K',\n",
      "                                     'Player_E',\n",
      "                                     'Player_U'],\n",
      "                           'session': 43},\n",
      " 'session_44': {'avg_mafia_rank': 6.25,\n",
      "                'file_name': 'session_44',\n",
      "                'mafia': ['Richard Stevens', 'Jessica Michael'],\n",
      "                'names_changed': False,\n",
      "                'ranks': ['Richard Stevens',\n",
      "                          'Jessica Michael',\n",
      "                          'Deborah Alvarez',\n",
      "                          'Tammy Weaver',\n",
      "                          'Amanda Stevens',\n",
      "                          'Shane Landry',\n",
      "                          'Nicole Barker',\n",
      "                          'Angela Murphy'],\n",
      "                'session': 44},\n",
      " 'session_44_anonymized': {'avg_mafia_rank': 6.25,\n",
      "                           'file_name': 'session_44_anonymized',\n",
      "                           'mafia': ['Player_I', 'Player_Y'],\n",
      "                           'names_changed': True,\n",
      "                           'ranks': ['Player_I',\n",
      "                                     'Player_Y',\n",
      "                                     'Player_B',\n",
      "                                     'Player_C',\n",
      "                                     'Player_M',\n",
      "                                     'Player_Z',\n",
      "                                     'Player_A',\n",
      "                                     'Player_V'],\n",
      "                           'session': 44},\n",
      " 'session_4_anonymized': {'avg_mafia_rank': 37.5,\n",
      "                          'file_name': 'session_4_anonymized',\n",
      "                          'mafia': ['Player_O', 'Player_G'],\n",
      "                          'names_changed': True,\n",
      "                          'ranks': ['Player_O',\n",
      "                                    'Player_K',\n",
      "                                    'Player_U',\n",
      "                                    'Player_N',\n",
      "                                    'Player_P',\n",
      "                                    'Player_E',\n",
      "                                    'Player_G',\n",
      "                                    'Player_S'],\n",
      "                          'session': 4},\n",
      " 'session_5': {'avg_mafia_rank': 78.57142857142857,\n",
      "               'file_name': 'session_5',\n",
      "               'mafia': ['Kevin Hodge', 'Sara Bright'],\n",
      "               'names_changed': False,\n",
      "               'ranks': ['Robert Evans',\n",
      "                         'Sandra Robinson',\n",
      "                         'Terri Brewer',\n",
      "                         'Christian Atkinson',\n",
      "                         'Timothy Cherry',\n",
      "                         'Kevin Hodge',\n",
      "                         'Sara Bright'],\n",
      "               'session': 5},\n",
      " 'session_5_anonymized': {'avg_mafia_rank': 78.57142857142857,\n",
      "                          'file_name': 'session_5_anonymized',\n",
      "                          'mafia': ['Player_X', 'Player_R'],\n",
      "                          'names_changed': True,\n",
      "                          'ranks': ['Player_U',\n",
      "                                    'Player_V',\n",
      "                                    'Player_H',\n",
      "                                    'Player_S',\n",
      "                                    'Player_O',\n",
      "                                    'Player_X',\n",
      "                                    'Player_R'],\n",
      "                          'session': 5},\n",
      " 'session_6': {'avg_mafia_rank': 38.888888888888886,\n",
      "               'file_name': 'session_6',\n",
      "               'mafia': ['Ricky Mcneil', 'Jesse Martin'],\n",
      "               'names_changed': False,\n",
      "               'ranks': ['Jeremiah Johnson',\n",
      "                         'Ricky Mcneil',\n",
      "                         'Christopher Drake',\n",
      "                         'Jeffrey Miles',\n",
      "                         'Kimberly Harrison',\n",
      "                         'William Rubio',\n",
      "                         'Jesse Martin',\n",
      "                         'Rebecca Patterson',\n",
      "                         'Mary Reed'],\n",
      "               'session': 6},\n",
      " 'session_6_anonymized': {'avg_mafia_rank': 38.888888888888886,\n",
      "                          'file_name': 'session_6_anonymized',\n",
      "                          'mafia': ['Player_Y', 'Player_O'],\n",
      "                          'names_changed': True,\n",
      "                          'ranks': ['Player_I',\n",
      "                                    'Player_Y',\n",
      "                                    'Player_J',\n",
      "                                    'Player_C',\n",
      "                                    'Player_E',\n",
      "                                    'Player_G',\n",
      "                                    'Player_O',\n",
      "                                    'Player_D',\n",
      "                                    'Player_A'],\n",
      "                          'session': 6},\n",
      " 'session_7': {'avg_mafia_rank': 44.44444444444444,\n",
      "               'file_name': 'session_7',\n",
      "               'mafia': ['John Thompson', 'Cynthia Stokes'],\n",
      "               'names_changed': False,\n",
      "               'ranks': ['John Thompson',\n",
      "                         'Alyssa Reynolds',\n",
      "                         'Jason Frye',\n",
      "                         'Rhonda Morris',\n",
      "                         'Jean Griffin',\n",
      "                         'Michael Gibson',\n",
      "                         'Jason Davis',\n",
      "                         'Gregory Martinez',\n",
      "                         'Cynthia Stokes'],\n",
      "               'session': 7},\n",
      " 'session_7_anonymized': {'avg_mafia_rank': 44.44444444444444,\n",
      "                          'file_name': 'session_7_anonymized',\n",
      "                          'mafia': ['Player_O', 'Player_T'],\n",
      "                          'names_changed': True,\n",
      "                          'ranks': ['Player_O',\n",
      "                                    'Player_D',\n",
      "                                    'Player_B',\n",
      "                                    'Player_A',\n",
      "                                    'Player_R',\n",
      "                                    'Player_S',\n",
      "                                    'Player_J',\n",
      "                                    'Player_N',\n",
      "                                    'Player_T'],\n",
      "                          'session': 7},\n",
      " 'session_8': {'avg_mafia_rank': 56.25,\n",
      "               'file_name': 'session_8',\n",
      "               'mafia': ['Danielle Moore', 'Janice Estrada'],\n",
      "               'names_changed': False,\n",
      "               'ranks': ['Justin Scott',\n",
      "                         'Melissa Vang',\n",
      "                         'Aaron Horton',\n",
      "                         'Lucas Richardson',\n",
      "                         'Danielle Moore',\n",
      "                         'Janice Estrada',\n",
      "                         'Shane Bell',\n",
      "                         'Christopher Diaz'],\n",
      "               'session': 8},\n",
      " 'session_8_anonymized': {'avg_mafia_rank': 56.25,\n",
      "                          'file_name': 'session_8_anonymized',\n",
      "                          'mafia': ['Player_J', 'Player_R'],\n",
      "                          'names_changed': True,\n",
      "                          'ranks': ['Player_Y',\n",
      "                                    'Player_V',\n",
      "                                    'Player_E',\n",
      "                                    'Player_L',\n",
      "                                    'Player_J',\n",
      "                                    'Player_R',\n",
      "                                    'Player_X',\n",
      "                                    'Player_T'],\n",
      "                          'session': 8},\n",
      " 'session_9': {'avg_mafia_rank': 16.666666666666664,\n",
      "               'file_name': 'session_9',\n",
      "               'mafia': ['Kelsey Wallace', 'Anna Lopez'],\n",
      "               'names_changed': False,\n",
      "               'ranks': ['Kelsey Wallace',\n",
      "                         'Mr. Robert Bryant',\n",
      "                         'Jacob Lowery',\n",
      "                         'Anna Lopez',\n",
      "                         'Zachary Jackson',\n",
      "                         'Kayla Rivera',\n",
      "                         'Denise Acosta',\n",
      "                         'Bianca Nguyen',\n",
      "                         'Carla Morris'],\n",
      "               'session': 9},\n",
      " 'session_9_anonymized': {'avg_mafia_rank': 16.666666666666664,\n",
      "                          'file_name': 'session_9_anonymized',\n",
      "                          'mafia': ['Player_L', 'Player_T'],\n",
      "                          'names_changed': True,\n",
      "                          'ranks': ['Player_L',\n",
      "                                    'Player_E',\n",
      "                                    'Player_S',\n",
      "                                    'Player_T',\n",
      "                                    'Player_B',\n",
      "                                    'Player_X',\n",
      "                                    'Player_H',\n",
      "                                    'Player_K',\n",
      "                                    'Player_F'],\n",
      "                          'session': 9}}\n"
     ]
    }
   ],
   "source": [
    "pprint(parsed_content)"
   ]
  },
  {
   "cell_type": "code",
   "execution_count": null,
   "id": "f470a356-e0c1-4eeb-9d1d-008ceafdaa86",
   "metadata": {},
   "outputs": [],
   "source": []
  }
 ],
 "metadata": {
  "kernelspec": {
   "display_name": "base",
   "language": "python",
   "name": "python3"
  },
  "language_info": {
   "codemirror_mode": {
    "name": "ipython",
    "version": 3
   },
   "file_extension": ".py",
   "mimetype": "text/x-python",
   "name": "python",
   "nbconvert_exporter": "python",
   "pygments_lexer": "ipython3",
   "version": "3.12.7"
  }
 },
 "nbformat": 4,
 "nbformat_minor": 5
}
